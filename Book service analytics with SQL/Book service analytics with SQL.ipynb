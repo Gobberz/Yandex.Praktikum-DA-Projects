{
 "cells": [
  {
   "cell_type": "markdown",
   "metadata": {},
   "source": [
    "# Аналитика книжного сервиса с помощью SQL"
   ]
  },
  {
   "cell_type": "markdown",
   "metadata": {},
   "source": [
    "## Задания:\n",
    "1. Посчитайте, сколько книг вышло после 1 января 2000 года;\n",
    "2. Для каждой книги посчитайте количество обзоров и среднюю оценку;\n",
    "3. Определите издательство, которое выпустило наибольшее число книг толще 50 страниц — так вы исключите из анализа брошюры;\n",
    "4. Определите автора с самой высокой средней оценкой книг — учитывайте только книги с 50 и более оценками;\n",
    "5. Посчитайте среднее количество обзоров от пользователей, которые поставили больше 50 оценок."
   ]
  },
  {
   "cell_type": "markdown",
   "metadata": {},
   "source": [
    "<a name=\"table_of_contents\"></a>\n",
    "# План: \n",
    "1) [Импрот библиотек и подключение к базам данных.](#stage_1)\n",
    "\n",
    "2) [Просмотр баз данных.](#stage_2)\n",
    "\n",
    "- [Таблица Books](#s_2)\n",
    "\n",
    "- [Таблица Authors](#s_3)\n",
    "    \n",
    "- [Таблица Publishers](#s_4)\n",
    "\n",
    "- [Таблица Ratings](#s_5)\n",
    "\n",
    "- [Таблица Reviews](#s_6)\n",
    "    \n",
    "3) [Выполнение аналитических заданий](#stage_3)\n",
    "\n",
    "- [Сколько книг вышло после 1 января 2000 года](#s_7)\n",
    "\n",
    "- [Количество обзоров и средняя оценка](#s_8)\n",
    "\n",
    "- [Издательство, которое выпустило больше всего книг 50+ страниц](#s_9)\n",
    "\n",
    "- [Автор с самой высокой средней оценкой](#s_10)\n",
    "\n",
    "- [Среднее количество обзоров от пользователей, которые поставили больше 50 оценок.](#s_11)\n",
    "    \n",
    "4) [Общие выводы.](#stage_4)\n"
   ]
  },
  {
   "cell_type": "markdown",
   "metadata": {},
   "source": [
    "<a name=\"stage_1\"></a>\n",
    "## Шаг 1: Импрот библиотек и подключение к базам данных:\n",
    "[К оглавлению](#table_of_contents)"
   ]
  },
  {
   "cell_type": "code",
   "execution_count": 1,
   "metadata": {},
   "outputs": [],
   "source": [
    "# импортируем библиотеки\n",
    "import pandas as pd\n",
    "from sqlalchemy import create_engine\n",
    "# устанавливаем параметры\n",
    "db_config = {'user': 'praktikum_student', # имя пользователя\n",
    "'pwd': 'Sdf4$2;d-d30pp', # пароль\n",
    "'host': 'rc1b-wcoijxj3yxfsf3fs.mdb.yandexcloud.net',\n",
    "'port': 6432, # порт подключения\n",
    "'db': 'data-analyst-final-project-db'} # название базы данных\n",
    "connection_string = 'postgresql://{}:{}@{}:{}/{}'.format(db_config['user'],\n",
    "db_config['pwd'],\n",
    "db_config['host'],\n",
    "db_config['port'],\n",
    "db_config['db'])\n",
    "# сохраняем коннектор\n",
    "engine = create_engine(connection_string, connect_args={'sslmode':'require'})"
   ]
  },
  {
   "cell_type": "markdown",
   "metadata": {},
   "source": [
    "<a name=\"stage_1\"></a>\n",
    "## Шаг 2: Просмотр баз данных:\n",
    "[К оглавлению](#table_of_contents)"
   ]
  },
  {
   "cell_type": "markdown",
   "metadata": {},
   "source": [
    "<a name=\"s_2\"></a>\n",
    "### Таблица Books:\n",
    "[К оглавлению](#table_of_contents)"
   ]
  },
  {
   "cell_type": "code",
   "execution_count": 2,
   "metadata": {},
   "outputs": [
    {
     "data": {
      "text/html": [
       "<div>\n",
       "<style scoped>\n",
       "    .dataframe tbody tr th:only-of-type {\n",
       "        vertical-align: middle;\n",
       "    }\n",
       "\n",
       "    .dataframe tbody tr th {\n",
       "        vertical-align: top;\n",
       "    }\n",
       "\n",
       "    .dataframe thead th {\n",
       "        text-align: right;\n",
       "    }\n",
       "</style>\n",
       "<table border=\"1\" class=\"dataframe\">\n",
       "  <thead>\n",
       "    <tr style=\"text-align: right;\">\n",
       "      <th></th>\n",
       "      <th>book_id</th>\n",
       "      <th>author_id</th>\n",
       "      <th>title</th>\n",
       "      <th>num_pages</th>\n",
       "      <th>publication_date</th>\n",
       "      <th>publisher_id</th>\n",
       "    </tr>\n",
       "  </thead>\n",
       "  <tbody>\n",
       "    <tr>\n",
       "      <td>0</td>\n",
       "      <td>1</td>\n",
       "      <td>546</td>\n",
       "      <td>'Salem's Lot</td>\n",
       "      <td>594</td>\n",
       "      <td>2005-11-01</td>\n",
       "      <td>93</td>\n",
       "    </tr>\n",
       "    <tr>\n",
       "      <td>1</td>\n",
       "      <td>2</td>\n",
       "      <td>465</td>\n",
       "      <td>1 000 Places to See Before You Die</td>\n",
       "      <td>992</td>\n",
       "      <td>2003-05-22</td>\n",
       "      <td>336</td>\n",
       "    </tr>\n",
       "    <tr>\n",
       "      <td>2</td>\n",
       "      <td>3</td>\n",
       "      <td>407</td>\n",
       "      <td>13 Little Blue Envelopes (Little Blue Envelope...</td>\n",
       "      <td>322</td>\n",
       "      <td>2010-12-21</td>\n",
       "      <td>135</td>\n",
       "    </tr>\n",
       "    <tr>\n",
       "      <td>3</td>\n",
       "      <td>4</td>\n",
       "      <td>82</td>\n",
       "      <td>1491: New Revelations of the Americas Before C...</td>\n",
       "      <td>541</td>\n",
       "      <td>2006-10-10</td>\n",
       "      <td>309</td>\n",
       "    </tr>\n",
       "    <tr>\n",
       "      <td>4</td>\n",
       "      <td>5</td>\n",
       "      <td>125</td>\n",
       "      <td>1776</td>\n",
       "      <td>386</td>\n",
       "      <td>2006-07-04</td>\n",
       "      <td>268</td>\n",
       "    </tr>\n",
       "  </tbody>\n",
       "</table>\n",
       "</div>"
      ],
      "text/plain": [
       "   book_id  author_id                                              title  \\\n",
       "0        1        546                                       'Salem's Lot   \n",
       "1        2        465                 1 000 Places to See Before You Die   \n",
       "2        3        407  13 Little Blue Envelopes (Little Blue Envelope...   \n",
       "3        4         82  1491: New Revelations of the Americas Before C...   \n",
       "4        5        125                                               1776   \n",
       "\n",
       "   num_pages publication_date  publisher_id  \n",
       "0        594       2005-11-01            93  \n",
       "1        992       2003-05-22           336  \n",
       "2        322       2010-12-21           135  \n",
       "3        541       2006-10-10           309  \n",
       "4        386       2006-07-04           268  "
      ]
     },
     "execution_count": 2,
     "metadata": {},
     "output_type": "execute_result"
    }
   ],
   "source": [
    "books = '''\n",
    "SELECT *\n",
    "FROM books\n",
    "LIMIT 5\n",
    "'''\n",
    "pd.io.sql.read_sql(books, con = engine)"
   ]
  },
  {
   "cell_type": "markdown",
   "metadata": {},
   "source": [
    "<a name=\"s_3\"></a>\n",
    "### Таблица Authors:\n",
    "[К оглавлению](#table_of_contents)"
   ]
  },
  {
   "cell_type": "code",
   "execution_count": 3,
   "metadata": {},
   "outputs": [
    {
     "data": {
      "text/html": [
       "<div>\n",
       "<style scoped>\n",
       "    .dataframe tbody tr th:only-of-type {\n",
       "        vertical-align: middle;\n",
       "    }\n",
       "\n",
       "    .dataframe tbody tr th {\n",
       "        vertical-align: top;\n",
       "    }\n",
       "\n",
       "    .dataframe thead th {\n",
       "        text-align: right;\n",
       "    }\n",
       "</style>\n",
       "<table border=\"1\" class=\"dataframe\">\n",
       "  <thead>\n",
       "    <tr style=\"text-align: right;\">\n",
       "      <th></th>\n",
       "      <th>author_id</th>\n",
       "      <th>author</th>\n",
       "    </tr>\n",
       "  </thead>\n",
       "  <tbody>\n",
       "    <tr>\n",
       "      <td>0</td>\n",
       "      <td>1</td>\n",
       "      <td>A.S. Byatt</td>\n",
       "    </tr>\n",
       "    <tr>\n",
       "      <td>1</td>\n",
       "      <td>2</td>\n",
       "      <td>Aesop/Laura Harris/Laura Gibbs</td>\n",
       "    </tr>\n",
       "    <tr>\n",
       "      <td>2</td>\n",
       "      <td>3</td>\n",
       "      <td>Agatha Christie</td>\n",
       "    </tr>\n",
       "    <tr>\n",
       "      <td>3</td>\n",
       "      <td>4</td>\n",
       "      <td>Alan Brennert</td>\n",
       "    </tr>\n",
       "    <tr>\n",
       "      <td>4</td>\n",
       "      <td>5</td>\n",
       "      <td>Alan Moore/David   Lloyd</td>\n",
       "    </tr>\n",
       "  </tbody>\n",
       "</table>\n",
       "</div>"
      ],
      "text/plain": [
       "   author_id                          author\n",
       "0          1                      A.S. Byatt\n",
       "1          2  Aesop/Laura Harris/Laura Gibbs\n",
       "2          3                 Agatha Christie\n",
       "3          4                   Alan Brennert\n",
       "4          5        Alan Moore/David   Lloyd"
      ]
     },
     "execution_count": 3,
     "metadata": {},
     "output_type": "execute_result"
    }
   ],
   "source": [
    "authors = '''\n",
    "SELECT *\n",
    "FROM authors\n",
    "LIMIT 5\n",
    "'''\n",
    "pd.io.sql.read_sql(authors, con = engine)"
   ]
  },
  {
   "cell_type": "markdown",
   "metadata": {},
   "source": [
    "<a name=\"s_4\"></a>\n",
    "### Таблица Publishers:\n",
    "[К оглавлению](#table_of_contents)"
   ]
  },
  {
   "cell_type": "code",
   "execution_count": 4,
   "metadata": {},
   "outputs": [
    {
     "data": {
      "text/html": [
       "<div>\n",
       "<style scoped>\n",
       "    .dataframe tbody tr th:only-of-type {\n",
       "        vertical-align: middle;\n",
       "    }\n",
       "\n",
       "    .dataframe tbody tr th {\n",
       "        vertical-align: top;\n",
       "    }\n",
       "\n",
       "    .dataframe thead th {\n",
       "        text-align: right;\n",
       "    }\n",
       "</style>\n",
       "<table border=\"1\" class=\"dataframe\">\n",
       "  <thead>\n",
       "    <tr style=\"text-align: right;\">\n",
       "      <th></th>\n",
       "      <th>publisher_id</th>\n",
       "      <th>publisher</th>\n",
       "    </tr>\n",
       "  </thead>\n",
       "  <tbody>\n",
       "    <tr>\n",
       "      <td>0</td>\n",
       "      <td>1</td>\n",
       "      <td>Ace</td>\n",
       "    </tr>\n",
       "    <tr>\n",
       "      <td>1</td>\n",
       "      <td>2</td>\n",
       "      <td>Ace Book</td>\n",
       "    </tr>\n",
       "    <tr>\n",
       "      <td>2</td>\n",
       "      <td>3</td>\n",
       "      <td>Ace Books</td>\n",
       "    </tr>\n",
       "    <tr>\n",
       "      <td>3</td>\n",
       "      <td>4</td>\n",
       "      <td>Ace Hardcover</td>\n",
       "    </tr>\n",
       "    <tr>\n",
       "      <td>4</td>\n",
       "      <td>5</td>\n",
       "      <td>Addison Wesley Publishing Company</td>\n",
       "    </tr>\n",
       "  </tbody>\n",
       "</table>\n",
       "</div>"
      ],
      "text/plain": [
       "   publisher_id                          publisher\n",
       "0             1                                Ace\n",
       "1             2                           Ace Book\n",
       "2             3                          Ace Books\n",
       "3             4                      Ace Hardcover\n",
       "4             5  Addison Wesley Publishing Company"
      ]
     },
     "execution_count": 4,
     "metadata": {},
     "output_type": "execute_result"
    }
   ],
   "source": [
    "publishers = '''\n",
    "SELECT *\n",
    "FROM publishers\n",
    "LIMIT 5\n",
    "'''\n",
    "pd.io.sql.read_sql(publishers, con = engine)"
   ]
  },
  {
   "cell_type": "markdown",
   "metadata": {},
   "source": [
    "<a name=\"s_5\"></a>\n",
    "### Таблица Ratings:\n",
    "[К оглавлению](#table_of_contents)"
   ]
  },
  {
   "cell_type": "code",
   "execution_count": 5,
   "metadata": {},
   "outputs": [
    {
     "data": {
      "text/html": [
       "<div>\n",
       "<style scoped>\n",
       "    .dataframe tbody tr th:only-of-type {\n",
       "        vertical-align: middle;\n",
       "    }\n",
       "\n",
       "    .dataframe tbody tr th {\n",
       "        vertical-align: top;\n",
       "    }\n",
       "\n",
       "    .dataframe thead th {\n",
       "        text-align: right;\n",
       "    }\n",
       "</style>\n",
       "<table border=\"1\" class=\"dataframe\">\n",
       "  <thead>\n",
       "    <tr style=\"text-align: right;\">\n",
       "      <th></th>\n",
       "      <th>rating_id</th>\n",
       "      <th>book_id</th>\n",
       "      <th>username</th>\n",
       "      <th>rating</th>\n",
       "    </tr>\n",
       "  </thead>\n",
       "  <tbody>\n",
       "    <tr>\n",
       "      <td>0</td>\n",
       "      <td>1</td>\n",
       "      <td>1</td>\n",
       "      <td>ryanfranco</td>\n",
       "      <td>4</td>\n",
       "    </tr>\n",
       "    <tr>\n",
       "      <td>1</td>\n",
       "      <td>2</td>\n",
       "      <td>1</td>\n",
       "      <td>grantpatricia</td>\n",
       "      <td>2</td>\n",
       "    </tr>\n",
       "    <tr>\n",
       "      <td>2</td>\n",
       "      <td>3</td>\n",
       "      <td>1</td>\n",
       "      <td>brandtandrea</td>\n",
       "      <td>5</td>\n",
       "    </tr>\n",
       "    <tr>\n",
       "      <td>3</td>\n",
       "      <td>4</td>\n",
       "      <td>2</td>\n",
       "      <td>lorichen</td>\n",
       "      <td>3</td>\n",
       "    </tr>\n",
       "    <tr>\n",
       "      <td>4</td>\n",
       "      <td>5</td>\n",
       "      <td>2</td>\n",
       "      <td>mariokeller</td>\n",
       "      <td>2</td>\n",
       "    </tr>\n",
       "  </tbody>\n",
       "</table>\n",
       "</div>"
      ],
      "text/plain": [
       "   rating_id  book_id       username  rating\n",
       "0          1        1     ryanfranco       4\n",
       "1          2        1  grantpatricia       2\n",
       "2          3        1   brandtandrea       5\n",
       "3          4        2       lorichen       3\n",
       "4          5        2    mariokeller       2"
      ]
     },
     "execution_count": 5,
     "metadata": {},
     "output_type": "execute_result"
    }
   ],
   "source": [
    "ratings = '''\n",
    "SELECT *\n",
    "FROM ratings\n",
    "LIMIT 5\n",
    "'''\n",
    "pd.io.sql.read_sql(ratings, con = engine)"
   ]
  },
  {
   "cell_type": "markdown",
   "metadata": {},
   "source": [
    "<a name=\"s_6\"></a>\n",
    "### Таблица Reviews:\n",
    "[К оглавлению](#table_of_contents)"
   ]
  },
  {
   "cell_type": "code",
   "execution_count": 53,
   "metadata": {},
   "outputs": [
    {
     "data": {
      "text/html": [
       "<div>\n",
       "<style scoped>\n",
       "    .dataframe tbody tr th:only-of-type {\n",
       "        vertical-align: middle;\n",
       "    }\n",
       "\n",
       "    .dataframe tbody tr th {\n",
       "        vertical-align: top;\n",
       "    }\n",
       "\n",
       "    .dataframe thead th {\n",
       "        text-align: right;\n",
       "    }\n",
       "</style>\n",
       "<table border=\"1\" class=\"dataframe\">\n",
       "  <thead>\n",
       "    <tr style=\"text-align: right;\">\n",
       "      <th></th>\n",
       "      <th>review_id</th>\n",
       "      <th>book_id</th>\n",
       "      <th>username</th>\n",
       "      <th>text</th>\n",
       "    </tr>\n",
       "  </thead>\n",
       "  <tbody>\n",
       "    <tr>\n",
       "      <td>0</td>\n",
       "      <td>1</td>\n",
       "      <td>1</td>\n",
       "      <td>brandtandrea</td>\n",
       "      <td>Mention society tell send professor analysis. ...</td>\n",
       "    </tr>\n",
       "    <tr>\n",
       "      <td>1</td>\n",
       "      <td>2</td>\n",
       "      <td>1</td>\n",
       "      <td>ryanfranco</td>\n",
       "      <td>Foot glass pretty audience hit themselves. Amo...</td>\n",
       "    </tr>\n",
       "    <tr>\n",
       "      <td>2</td>\n",
       "      <td>3</td>\n",
       "      <td>2</td>\n",
       "      <td>lorichen</td>\n",
       "      <td>Listen treat keep worry. Miss husband tax but ...</td>\n",
       "    </tr>\n",
       "    <tr>\n",
       "      <td>3</td>\n",
       "      <td>4</td>\n",
       "      <td>3</td>\n",
       "      <td>johnsonamanda</td>\n",
       "      <td>Finally month interesting blue could nature cu...</td>\n",
       "    </tr>\n",
       "    <tr>\n",
       "      <td>4</td>\n",
       "      <td>5</td>\n",
       "      <td>3</td>\n",
       "      <td>scotttamara</td>\n",
       "      <td>Nation purpose heavy give wait song will. List...</td>\n",
       "    </tr>\n",
       "    <tr>\n",
       "      <td>...</td>\n",
       "      <td>...</td>\n",
       "      <td>...</td>\n",
       "      <td>...</td>\n",
       "      <td>...</td>\n",
       "    </tr>\n",
       "    <tr>\n",
       "      <td>2788</td>\n",
       "      <td>2789</td>\n",
       "      <td>999</td>\n",
       "      <td>martinadam</td>\n",
       "      <td>Later hospital turn easy community. Fact same ...</td>\n",
       "    </tr>\n",
       "    <tr>\n",
       "      <td>2789</td>\n",
       "      <td>2790</td>\n",
       "      <td>1000</td>\n",
       "      <td>wknight</td>\n",
       "      <td>Change lose answer close pressure. Spend so now.</td>\n",
       "    </tr>\n",
       "    <tr>\n",
       "      <td>2790</td>\n",
       "      <td>2791</td>\n",
       "      <td>1000</td>\n",
       "      <td>carolrodriguez</td>\n",
       "      <td>Authority go who television entire hair guy po...</td>\n",
       "    </tr>\n",
       "    <tr>\n",
       "      <td>2791</td>\n",
       "      <td>2792</td>\n",
       "      <td>1000</td>\n",
       "      <td>wendy18</td>\n",
       "      <td>Or western offer wonder ask. More hear phone f...</td>\n",
       "    </tr>\n",
       "    <tr>\n",
       "      <td>2792</td>\n",
       "      <td>2793</td>\n",
       "      <td>1000</td>\n",
       "      <td>jarvispaul</td>\n",
       "      <td>Republican staff bit eat material measure plan...</td>\n",
       "    </tr>\n",
       "  </tbody>\n",
       "</table>\n",
       "<p>2793 rows × 4 columns</p>\n",
       "</div>"
      ],
      "text/plain": [
       "      review_id  book_id        username  \\\n",
       "0             1        1    brandtandrea   \n",
       "1             2        1      ryanfranco   \n",
       "2             3        2        lorichen   \n",
       "3             4        3   johnsonamanda   \n",
       "4             5        3     scotttamara   \n",
       "...         ...      ...             ...   \n",
       "2788       2789      999      martinadam   \n",
       "2789       2790     1000         wknight   \n",
       "2790       2791     1000  carolrodriguez   \n",
       "2791       2792     1000         wendy18   \n",
       "2792       2793     1000      jarvispaul   \n",
       "\n",
       "                                                   text  \n",
       "0     Mention society tell send professor analysis. ...  \n",
       "1     Foot glass pretty audience hit themselves. Amo...  \n",
       "2     Listen treat keep worry. Miss husband tax but ...  \n",
       "3     Finally month interesting blue could nature cu...  \n",
       "4     Nation purpose heavy give wait song will. List...  \n",
       "...                                                 ...  \n",
       "2788  Later hospital turn easy community. Fact same ...  \n",
       "2789   Change lose answer close pressure. Spend so now.  \n",
       "2790  Authority go who television entire hair guy po...  \n",
       "2791  Or western offer wonder ask. More hear phone f...  \n",
       "2792  Republican staff bit eat material measure plan...  \n",
       "\n",
       "[2793 rows x 4 columns]"
      ]
     },
     "execution_count": 53,
     "metadata": {},
     "output_type": "execute_result"
    }
   ],
   "source": [
    "reviews = '''\n",
    "SELECT *\n",
    "FROM reviews\n",
    "\n",
    "'''\n",
    "pd.io.sql.read_sql(reviews, con = engine)"
   ]
  },
  {
   "cell_type": "markdown",
   "metadata": {},
   "source": [
    "<a name=\"stage_3\"></a>\n",
    "## Шаг 3: Выполнение аналитических заданий:\n",
    "[К оглавлению](#table_of_contents)"
   ]
  },
  {
   "cell_type": "markdown",
   "metadata": {},
   "source": [
    "<a name=\"s_7\"></a>\n",
    "### Сколько книг вышло после 1 января 2000 года:\n",
    "[К оглавлению](#table_of_contents)"
   ]
  },
  {
   "cell_type": "code",
   "execution_count": 7,
   "metadata": {},
   "outputs": [
    {
     "data": {
      "text/html": [
       "<div>\n",
       "<style scoped>\n",
       "    .dataframe tbody tr th:only-of-type {\n",
       "        vertical-align: middle;\n",
       "    }\n",
       "\n",
       "    .dataframe tbody tr th {\n",
       "        vertical-align: top;\n",
       "    }\n",
       "\n",
       "    .dataframe thead th {\n",
       "        text-align: right;\n",
       "    }\n",
       "</style>\n",
       "<table border=\"1\" class=\"dataframe\">\n",
       "  <thead>\n",
       "    <tr style=\"text-align: right;\">\n",
       "      <th></th>\n",
       "      <th>cnt</th>\n",
       "    </tr>\n",
       "  </thead>\n",
       "  <tbody>\n",
       "    <tr>\n",
       "      <td>0</td>\n",
       "      <td>821</td>\n",
       "    </tr>\n",
       "  </tbody>\n",
       "</table>\n",
       "</div>"
      ],
      "text/plain": [
       "   cnt\n",
       "0  821"
      ]
     },
     "execution_count": 7,
     "metadata": {},
     "output_type": "execute_result"
    }
   ],
   "source": [
    "books_count = '''\n",
    "SELECT \n",
    "COUNT(title) AS cnt\n",
    "FROM books\n",
    "WHERE publication_date >= '2000-01-01'\n",
    "'''\n",
    "pd.io.sql.read_sql(books_count, con = engine)"
   ]
  },
  {
   "cell_type": "code",
   "execution_count": 8,
   "metadata": {},
   "outputs": [
    {
     "data": {
      "text/html": [
       "<div>\n",
       "<style scoped>\n",
       "    .dataframe tbody tr th:only-of-type {\n",
       "        vertical-align: middle;\n",
       "    }\n",
       "\n",
       "    .dataframe tbody tr th {\n",
       "        vertical-align: top;\n",
       "    }\n",
       "\n",
       "    .dataframe thead th {\n",
       "        text-align: right;\n",
       "    }\n",
       "</style>\n",
       "<table border=\"1\" class=\"dataframe\">\n",
       "  <thead>\n",
       "    <tr style=\"text-align: right;\">\n",
       "      <th></th>\n",
       "      <th>cnt</th>\n",
       "    </tr>\n",
       "  </thead>\n",
       "  <tbody>\n",
       "    <tr>\n",
       "      <td>0</td>\n",
       "      <td>819</td>\n",
       "    </tr>\n",
       "  </tbody>\n",
       "</table>\n",
       "</div>"
      ],
      "text/plain": [
       "   cnt\n",
       "0  819"
      ]
     },
     "execution_count": 8,
     "metadata": {},
     "output_type": "execute_result"
    }
   ],
   "source": [
    "books_count2 = '''\n",
    "SELECT \n",
    "COUNT(title) AS cnt\n",
    "FROM books\n",
    "WHERE publication_date > '2000-01-01'\n",
    "'''\n",
    "pd.io.sql.read_sql(books_count2, con = engine)"
   ]
  },
  {
   "cell_type": "markdown",
   "metadata": {},
   "source": [
    "#### Итог по пункту:\n",
    "1. Если брать в расчет саму дату 01.01.2000 - то у нас получается, что вышла 821 книга.\n",
    "2. Если же не брать в расчет эту дату, то 819 книг."
   ]
  },
  {
   "cell_type": "markdown",
   "metadata": {},
   "source": [
    "<a name=\"s_8\"></a>\n",
    "### Количество обзоров и средняя оценка:\n",
    "[К оглавлению](#table_of_contents)"
   ]
  },
  {
   "cell_type": "code",
   "execution_count": 66,
   "metadata": {},
   "outputs": [
    {
     "data": {
      "text/html": [
       "<div>\n",
       "<style scoped>\n",
       "    .dataframe tbody tr th:only-of-type {\n",
       "        vertical-align: middle;\n",
       "    }\n",
       "\n",
       "    .dataframe tbody tr th {\n",
       "        vertical-align: top;\n",
       "    }\n",
       "\n",
       "    .dataframe thead th {\n",
       "        text-align: right;\n",
       "    }\n",
       "</style>\n",
       "<table border=\"1\" class=\"dataframe\">\n",
       "  <thead>\n",
       "    <tr style=\"text-align: right;\">\n",
       "      <th></th>\n",
       "      <th>id</th>\n",
       "      <th>title</th>\n",
       "      <th>count_reviews</th>\n",
       "      <th>avg_rating</th>\n",
       "    </tr>\n",
       "  </thead>\n",
       "  <tbody>\n",
       "    <tr>\n",
       "      <td>0</td>\n",
       "      <td>17</td>\n",
       "      <td>A Dirty Job (Grim Reaper  #1)</td>\n",
       "      <td>4</td>\n",
       "      <td>5.00</td>\n",
       "    </tr>\n",
       "    <tr>\n",
       "      <td>1</td>\n",
       "      <td>553</td>\n",
       "      <td>School's Out—Forever (Maximum Ride  #2)</td>\n",
       "      <td>3</td>\n",
       "      <td>5.00</td>\n",
       "    </tr>\n",
       "    <tr>\n",
       "      <td>2</td>\n",
       "      <td>444</td>\n",
       "      <td>Moneyball: The Art of Winning an Unfair Game</td>\n",
       "      <td>3</td>\n",
       "      <td>5.00</td>\n",
       "    </tr>\n",
       "    <tr>\n",
       "      <td>3</td>\n",
       "      <td>86</td>\n",
       "      <td>Arrows of the Queen (Heralds of Valdemar  #1)</td>\n",
       "      <td>2</td>\n",
       "      <td>5.00</td>\n",
       "    </tr>\n",
       "    <tr>\n",
       "      <td>4</td>\n",
       "      <td>972</td>\n",
       "      <td>Wherever You Go  There You Are: Mindfulness Me...</td>\n",
       "      <td>2</td>\n",
       "      <td>5.00</td>\n",
       "    </tr>\n",
       "    <tr>\n",
       "      <td>...</td>\n",
       "      <td>...</td>\n",
       "      <td>...</td>\n",
       "      <td>...</td>\n",
       "      <td>...</td>\n",
       "    </tr>\n",
       "    <tr>\n",
       "      <td>995</td>\n",
       "      <td>915</td>\n",
       "      <td>The World Is Flat: A Brief History of the Twen...</td>\n",
       "      <td>3</td>\n",
       "      <td>2.25</td>\n",
       "    </tr>\n",
       "    <tr>\n",
       "      <td>996</td>\n",
       "      <td>202</td>\n",
       "      <td>Drowning Ruth</td>\n",
       "      <td>3</td>\n",
       "      <td>2.00</td>\n",
       "    </tr>\n",
       "    <tr>\n",
       "      <td>997</td>\n",
       "      <td>316</td>\n",
       "      <td>His Excellency: George Washington</td>\n",
       "      <td>2</td>\n",
       "      <td>2.00</td>\n",
       "    </tr>\n",
       "    <tr>\n",
       "      <td>998</td>\n",
       "      <td>371</td>\n",
       "      <td>Junky</td>\n",
       "      <td>2</td>\n",
       "      <td>2.00</td>\n",
       "    </tr>\n",
       "    <tr>\n",
       "      <td>999</td>\n",
       "      <td>303</td>\n",
       "      <td>Harvesting the Heart</td>\n",
       "      <td>2</td>\n",
       "      <td>1.50</td>\n",
       "    </tr>\n",
       "  </tbody>\n",
       "</table>\n",
       "<p>1000 rows × 4 columns</p>\n",
       "</div>"
      ],
      "text/plain": [
       "      id                                              title  count_reviews  \\\n",
       "0     17                      A Dirty Job (Grim Reaper  #1)              4   \n",
       "1    553            School's Out—Forever (Maximum Ride  #2)              3   \n",
       "2    444       Moneyball: The Art of Winning an Unfair Game              3   \n",
       "3     86      Arrows of the Queen (Heralds of Valdemar  #1)              2   \n",
       "4    972  Wherever You Go  There You Are: Mindfulness Me...              2   \n",
       "..   ...                                                ...            ...   \n",
       "995  915  The World Is Flat: A Brief History of the Twen...              3   \n",
       "996  202                                      Drowning Ruth              3   \n",
       "997  316                  His Excellency: George Washington              2   \n",
       "998  371                                              Junky              2   \n",
       "999  303                               Harvesting the Heart              2   \n",
       "\n",
       "     avg_rating  \n",
       "0          5.00  \n",
       "1          5.00  \n",
       "2          5.00  \n",
       "3          5.00  \n",
       "4          5.00  \n",
       "..          ...  \n",
       "995        2.25  \n",
       "996        2.00  \n",
       "997        2.00  \n",
       "998        2.00  \n",
       "999        1.50  \n",
       "\n",
       "[1000 rows x 4 columns]"
      ]
     },
     "execution_count": 66,
     "metadata": {},
     "output_type": "execute_result"
    }
   ],
   "source": [
    "avg_rate = '''\n",
    "SELECT\n",
    "    books.book_id AS id,\n",
    "    books.title AS title,\n",
    "    COUNT(DISTINCT reviews.review_id) as count_reviews,\n",
    "    AVG(ratings.rating) as avg_rating\n",
    "FROM \n",
    "    books\n",
    "LEFT JOIN reviews ON  reviews.book_id = books.book_id\n",
    "LEFT JOIN ratings ON  ratings.book_id = books.book_id\n",
    "GROUP BY\n",
    "    books.book_id\n",
    "ORDER BY\n",
    "    avg_rating DESC,\n",
    "    count_reviews DESC\n",
    "\n",
    "'''\n",
    "pd.io.sql.read_sql(avg_rate, con = engine)"
   ]
  },
  {
   "cell_type": "code",
   "execution_count": 68,
   "metadata": {},
   "outputs": [
    {
     "data": {
      "text/html": [
       "<div>\n",
       "<style scoped>\n",
       "    .dataframe tbody tr th:only-of-type {\n",
       "        vertical-align: middle;\n",
       "    }\n",
       "\n",
       "    .dataframe tbody tr th {\n",
       "        vertical-align: top;\n",
       "    }\n",
       "\n",
       "    .dataframe thead th {\n",
       "        text-align: right;\n",
       "    }\n",
       "</style>\n",
       "<table border=\"1\" class=\"dataframe\">\n",
       "  <thead>\n",
       "    <tr style=\"text-align: right;\">\n",
       "      <th></th>\n",
       "      <th>id</th>\n",
       "      <th>title</th>\n",
       "      <th>count_reviews</th>\n",
       "      <th>avg_rating</th>\n",
       "    </tr>\n",
       "  </thead>\n",
       "  <tbody>\n",
       "    <tr>\n",
       "      <td>0</td>\n",
       "      <td>948</td>\n",
       "      <td>Twilight (Twilight  #1)</td>\n",
       "      <td>7</td>\n",
       "      <td>3.662500</td>\n",
       "    </tr>\n",
       "    <tr>\n",
       "      <td>1</td>\n",
       "      <td>302</td>\n",
       "      <td>Harry Potter and the Prisoner of Azkaban (Harr...</td>\n",
       "      <td>6</td>\n",
       "      <td>4.414634</td>\n",
       "    </tr>\n",
       "    <tr>\n",
       "      <td>2</td>\n",
       "      <td>299</td>\n",
       "      <td>Harry Potter and the Chamber of Secrets (Harry...</td>\n",
       "      <td>6</td>\n",
       "      <td>4.287500</td>\n",
       "    </tr>\n",
       "    <tr>\n",
       "      <td>3</td>\n",
       "      <td>656</td>\n",
       "      <td>The Book Thief</td>\n",
       "      <td>6</td>\n",
       "      <td>4.264151</td>\n",
       "    </tr>\n",
       "    <tr>\n",
       "      <td>4</td>\n",
       "      <td>734</td>\n",
       "      <td>The Glass Castle</td>\n",
       "      <td>6</td>\n",
       "      <td>4.206897</td>\n",
       "    </tr>\n",
       "    <tr>\n",
       "      <td>...</td>\n",
       "      <td>...</td>\n",
       "      <td>...</td>\n",
       "      <td>...</td>\n",
       "      <td>...</td>\n",
       "    </tr>\n",
       "    <tr>\n",
       "      <td>995</td>\n",
       "      <td>191</td>\n",
       "      <td>Disney's Beauty and the Beast (A Little Golden...</td>\n",
       "      <td>0</td>\n",
       "      <td>4.000000</td>\n",
       "    </tr>\n",
       "    <tr>\n",
       "      <td>996</td>\n",
       "      <td>387</td>\n",
       "      <td>Leonardo's Notebooks</td>\n",
       "      <td>0</td>\n",
       "      <td>4.000000</td>\n",
       "    </tr>\n",
       "    <tr>\n",
       "      <td>997</td>\n",
       "      <td>221</td>\n",
       "      <td>Essential Tales and Poems</td>\n",
       "      <td>0</td>\n",
       "      <td>4.000000</td>\n",
       "    </tr>\n",
       "    <tr>\n",
       "      <td>998</td>\n",
       "      <td>83</td>\n",
       "      <td>Anne Rice's The Vampire Lestat: A Graphic Novel</td>\n",
       "      <td>0</td>\n",
       "      <td>3.666667</td>\n",
       "    </tr>\n",
       "    <tr>\n",
       "      <td>999</td>\n",
       "      <td>808</td>\n",
       "      <td>The Natural Way to Draw</td>\n",
       "      <td>0</td>\n",
       "      <td>3.000000</td>\n",
       "    </tr>\n",
       "  </tbody>\n",
       "</table>\n",
       "<p>1000 rows × 4 columns</p>\n",
       "</div>"
      ],
      "text/plain": [
       "      id                                              title  count_reviews  \\\n",
       "0    948                            Twilight (Twilight  #1)              7   \n",
       "1    302  Harry Potter and the Prisoner of Azkaban (Harr...              6   \n",
       "2    299  Harry Potter and the Chamber of Secrets (Harry...              6   \n",
       "3    656                                     The Book Thief              6   \n",
       "4    734                                   The Glass Castle              6   \n",
       "..   ...                                                ...            ...   \n",
       "995  191  Disney's Beauty and the Beast (A Little Golden...              0   \n",
       "996  387                               Leonardo's Notebooks              0   \n",
       "997  221                          Essential Tales and Poems              0   \n",
       "998   83    Anne Rice's The Vampire Lestat: A Graphic Novel              0   \n",
       "999  808                            The Natural Way to Draw              0   \n",
       "\n",
       "     avg_rating  \n",
       "0      3.662500  \n",
       "1      4.414634  \n",
       "2      4.287500  \n",
       "3      4.264151  \n",
       "4      4.206897  \n",
       "..          ...  \n",
       "995    4.000000  \n",
       "996    4.000000  \n",
       "997    4.000000  \n",
       "998    3.666667  \n",
       "999    3.000000  \n",
       "\n",
       "[1000 rows x 4 columns]"
      ]
     },
     "execution_count": 68,
     "metadata": {},
     "output_type": "execute_result"
    }
   ],
   "source": [
    "rate_review = '''\n",
    "SELECT\n",
    "    books.book_id AS id,\n",
    "    books.title AS title,\n",
    "    COUNT(DISTINCT reviews.review_id) AS count_reviews,\n",
    "    AVG(ratings.rating) AS avg_rating\n",
    "FROM \n",
    "    books\n",
    "LEFT JOIN reviews ON  reviews.book_id = books.book_id\n",
    "LEFT JOIN ratings ON  ratings.book_id = books.book_id\n",
    "GROUP BY\n",
    "    books.book_id\n",
    "ORDER BY\n",
    "    count_reviews DESC,\n",
    "    avg_rating DESC\n",
    "\n",
    "'''\n",
    "pd.io.sql.read_sql(rate_review, con = engine)"
   ]
  },
  {
   "cell_type": "markdown",
   "metadata": {},
   "source": [
    "#### Обновленный итог по пункту:\n",
    "1. Книги с рейтингом в 5 баллов имеють в среднем по 2 ревью.\n",
    "2. В тройку лидеров входят:\n",
    "    1. Сумерки (количество ревью = 7, средний балл 3.6),\n",
    "    2. Гарри Поттер и узник Азкабана (количество ревью = 6, средний балл 4.4),\n",
    "    3. Гарри Поттер и тайная комната (количество ревью = 6, средний балл 4.2.),"
   ]
  },
  {
   "cell_type": "markdown",
   "metadata": {},
   "source": [
    "pd.read_sql(\"\"\"\n",
    "SELECT b.title, q1.reviews_count, q2.average_rating \n",
    "FROM books b\n",
    "    LEFT JOIN (SELECT book_id, count(text) as reviews_count \n",
    "               FROM reviews GROUP BY book_id) as q1 ON b.book_id = q1.book_id\n",
    "    LEFT JOIN (SELECT book_id, avg(rating) as average_rating \n",
    "               FROM ratings GROUP BY book_id) as q2 ON b.book_id = q2.book_id\n",
    "\"\"\", con = engine)"
   ]
  },
  {
   "cell_type": "markdown",
   "metadata": {},
   "source": [
    "<a name=\"s_9\"></a>\n",
    "### Издательство, которое выпустило больше всего книг 50+ страниц:\n",
    "[К оглавлению](#table_of_contents)"
   ]
  },
  {
   "cell_type": "code",
   "execution_count": 11,
   "metadata": {},
   "outputs": [
    {
     "data": {
      "text/html": [
       "<div>\n",
       "<style scoped>\n",
       "    .dataframe tbody tr th:only-of-type {\n",
       "        vertical-align: middle;\n",
       "    }\n",
       "\n",
       "    .dataframe tbody tr th {\n",
       "        vertical-align: top;\n",
       "    }\n",
       "\n",
       "    .dataframe thead th {\n",
       "        text-align: right;\n",
       "    }\n",
       "</style>\n",
       "<table border=\"1\" class=\"dataframe\">\n",
       "  <thead>\n",
       "    <tr style=\"text-align: right;\">\n",
       "      <th></th>\n",
       "      <th>publisher</th>\n",
       "      <th>count</th>\n",
       "    </tr>\n",
       "  </thead>\n",
       "  <tbody>\n",
       "    <tr>\n",
       "      <td>0</td>\n",
       "      <td>Penguin Books</td>\n",
       "      <td>42</td>\n",
       "    </tr>\n",
       "    <tr>\n",
       "      <td>1</td>\n",
       "      <td>Vintage</td>\n",
       "      <td>31</td>\n",
       "    </tr>\n",
       "    <tr>\n",
       "      <td>2</td>\n",
       "      <td>Grand Central Publishing</td>\n",
       "      <td>25</td>\n",
       "    </tr>\n",
       "    <tr>\n",
       "      <td>3</td>\n",
       "      <td>Penguin Classics</td>\n",
       "      <td>24</td>\n",
       "    </tr>\n",
       "    <tr>\n",
       "      <td>4</td>\n",
       "      <td>Bantam</td>\n",
       "      <td>19</td>\n",
       "    </tr>\n",
       "    <tr>\n",
       "      <td>...</td>\n",
       "      <td>...</td>\n",
       "      <td>...</td>\n",
       "    </tr>\n",
       "    <tr>\n",
       "      <td>335</td>\n",
       "      <td>Simon &amp; Schuster Childrens Books</td>\n",
       "      <td>0</td>\n",
       "    </tr>\n",
       "    <tr>\n",
       "      <td>336</td>\n",
       "      <td>Atheneum Books for Young Readers</td>\n",
       "      <td>0</td>\n",
       "    </tr>\n",
       "    <tr>\n",
       "      <td>337</td>\n",
       "      <td>Tanglewood</td>\n",
       "      <td>0</td>\n",
       "    </tr>\n",
       "    <tr>\n",
       "      <td>338</td>\n",
       "      <td>Golden Books</td>\n",
       "      <td>0</td>\n",
       "    </tr>\n",
       "    <tr>\n",
       "      <td>339</td>\n",
       "      <td>Golden/Disney</td>\n",
       "      <td>0</td>\n",
       "    </tr>\n",
       "  </tbody>\n",
       "</table>\n",
       "<p>340 rows × 2 columns</p>\n",
       "</div>"
      ],
      "text/plain": [
       "                            publisher  count\n",
       "0                       Penguin Books     42\n",
       "1                             Vintage     31\n",
       "2            Grand Central Publishing     25\n",
       "3                    Penguin Classics     24\n",
       "4                              Bantam     19\n",
       "..                                ...    ...\n",
       "335  Simon & Schuster Childrens Books      0\n",
       "336  Atheneum Books for Young Readers      0\n",
       "337                        Tanglewood      0\n",
       "338                      Golden Books      0\n",
       "339                     Golden/Disney      0\n",
       "\n",
       "[340 rows x 2 columns]"
      ]
     },
     "execution_count": 11,
     "metadata": {},
     "output_type": "execute_result"
    }
   ],
   "source": [
    "publisher_per_book = '''\n",
    "SELECT \n",
    "    publisher, COUNT(subquery.book_id) \n",
    "FROM \n",
    "    publishers\n",
    "    LEFT JOIN (\n",
    "        SELECT book_id, publisher_id FROM books WHERE num_pages > 50\n",
    "    ) AS subquery ON publishers.publisher_id = subquery.publisher_id\n",
    "GROUP BY\n",
    "    publishers.publisher\n",
    "ORDER BY COUNT(subquery.book_id) DESC\n",
    "    \n",
    "'''\n",
    "\n",
    "\n",
    "pd.io.sql.read_sql(publisher_per_book, con = engine)"
   ]
  },
  {
   "cell_type": "code",
   "execution_count": 12,
   "metadata": {},
   "outputs": [
    {
     "data": {
      "text/html": [
       "<div>\n",
       "<style scoped>\n",
       "    .dataframe tbody tr th:only-of-type {\n",
       "        vertical-align: middle;\n",
       "    }\n",
       "\n",
       "    .dataframe tbody tr th {\n",
       "        vertical-align: top;\n",
       "    }\n",
       "\n",
       "    .dataframe thead th {\n",
       "        text-align: right;\n",
       "    }\n",
       "</style>\n",
       "<table border=\"1\" class=\"dataframe\">\n",
       "  <thead>\n",
       "    <tr style=\"text-align: right;\">\n",
       "      <th></th>\n",
       "      <th>publisher</th>\n",
       "      <th>count</th>\n",
       "    </tr>\n",
       "  </thead>\n",
       "  <tbody>\n",
       "    <tr>\n",
       "      <td>0</td>\n",
       "      <td>Penguin Books</td>\n",
       "      <td>42</td>\n",
       "    </tr>\n",
       "  </tbody>\n",
       "</table>\n",
       "</div>"
      ],
      "text/plain": [
       "       publisher  count\n",
       "0  Penguin Books     42"
      ]
     },
     "execution_count": 12,
     "metadata": {},
     "output_type": "execute_result"
    }
   ],
   "source": [
    "top_publisher = '''\n",
    "SELECT \n",
    "    publisher, COUNT(subquery.book_id) \n",
    "FROM \n",
    "    publishers\n",
    "    LEFT JOIN (\n",
    "        SELECT book_id, publisher_id FROM books WHERE num_pages > 50\n",
    "    ) AS subquery ON publishers.publisher_id = subquery.publisher_id\n",
    "GROUP BY\n",
    "    publishers.publisher\n",
    "ORDER BY COUNT(subquery.book_id) DESC\n",
    "    LIMIT 1\n",
    "'''\n",
    "\n",
    "pd.io.sql.read_sql(top_publisher, con = engine)"
   ]
  },
  {
   "cell_type": "markdown",
   "metadata": {},
   "source": [
    "#### Итог по пункту:\n",
    "1. Penguin Books - лидер среди издателей по числу публикаций \"толстых\" книг.\n",
    "    * Если копнуть в историю, то можно обнаружить, что это старейшее издательство Великобритании и не удивительно, что издательство на вершине списка.\n",
    "2. Vintage - второй в списке\n",
    "    * Американское издательство - можно считать антагонистом Penguin Books. \n",
    "3. Grand Central Publishing\t - третье место\n",
    "    * Молодое издательство, \"покупает\" всех своими привлекательными обложками."
   ]
  },
  {
   "cell_type": "markdown",
   "metadata": {},
   "source": [
    "<a name=\"s_10\"></a>\n",
    "### Автор с самой высокой средней оценкой:\n",
    "[К оглавлению](#table_of_contents)"
   ]
  },
  {
   "cell_type": "code",
   "execution_count": 13,
   "metadata": {},
   "outputs": [
    {
     "data": {
      "text/html": [
       "<div>\n",
       "<style scoped>\n",
       "    .dataframe tbody tr th:only-of-type {\n",
       "        vertical-align: middle;\n",
       "    }\n",
       "\n",
       "    .dataframe tbody tr th {\n",
       "        vertical-align: top;\n",
       "    }\n",
       "\n",
       "    .dataframe thead th {\n",
       "        text-align: right;\n",
       "    }\n",
       "</style>\n",
       "<table border=\"1\" class=\"dataframe\">\n",
       "  <thead>\n",
       "    <tr style=\"text-align: right;\">\n",
       "      <th></th>\n",
       "      <th>author</th>\n",
       "      <th>avg</th>\n",
       "    </tr>\n",
       "  </thead>\n",
       "  <tbody>\n",
       "    <tr>\n",
       "      <td>0</td>\n",
       "      <td>J.K. Rowling/Mary GrandPré</td>\n",
       "      <td>4.283844</td>\n",
       "    </tr>\n",
       "    <tr>\n",
       "      <td>1</td>\n",
       "      <td>Markus Zusak/Cao Xuân Việt Khương</td>\n",
       "      <td>4.264151</td>\n",
       "    </tr>\n",
       "    <tr>\n",
       "      <td>2</td>\n",
       "      <td>J.R.R. Tolkien</td>\n",
       "      <td>4.258446</td>\n",
       "    </tr>\n",
       "    <tr>\n",
       "      <td>3</td>\n",
       "      <td>Louisa May Alcott</td>\n",
       "      <td>4.192308</td>\n",
       "    </tr>\n",
       "    <tr>\n",
       "      <td>4</td>\n",
       "      <td>Rick Riordan</td>\n",
       "      <td>4.080645</td>\n",
       "    </tr>\n",
       "    <tr>\n",
       "      <td>5</td>\n",
       "      <td>William Golding</td>\n",
       "      <td>3.901408</td>\n",
       "    </tr>\n",
       "    <tr>\n",
       "      <td>6</td>\n",
       "      <td>J.D. Salinger</td>\n",
       "      <td>3.825581</td>\n",
       "    </tr>\n",
       "    <tr>\n",
       "      <td>7</td>\n",
       "      <td>Paulo Coelho/Alan R. Clarke/Özdemir İnce</td>\n",
       "      <td>3.789474</td>\n",
       "    </tr>\n",
       "    <tr>\n",
       "      <td>8</td>\n",
       "      <td>William Shakespeare/Paul Werstine/Barbara A. M...</td>\n",
       "      <td>3.787879</td>\n",
       "    </tr>\n",
       "    <tr>\n",
       "      <td>9</td>\n",
       "      <td>Dan Brown</td>\n",
       "      <td>3.754540</td>\n",
       "    </tr>\n",
       "    <tr>\n",
       "      <td>10</td>\n",
       "      <td>Lois Lowry</td>\n",
       "      <td>3.750000</td>\n",
       "    </tr>\n",
       "    <tr>\n",
       "      <td>11</td>\n",
       "      <td>George Orwell/Boris Grabnar/Peter Škerl</td>\n",
       "      <td>3.729730</td>\n",
       "    </tr>\n",
       "    <tr>\n",
       "      <td>12</td>\n",
       "      <td>Stephenie Meyer</td>\n",
       "      <td>3.662500</td>\n",
       "    </tr>\n",
       "    <tr>\n",
       "      <td>13</td>\n",
       "      <td>John Steinbeck</td>\n",
       "      <td>3.622951</td>\n",
       "    </tr>\n",
       "  </tbody>\n",
       "</table>\n",
       "</div>"
      ],
      "text/plain": [
       "                                               author       avg\n",
       "0                          J.K. Rowling/Mary GrandPré  4.283844\n",
       "1                   Markus Zusak/Cao Xuân Việt Khương  4.264151\n",
       "2                                      J.R.R. Tolkien  4.258446\n",
       "3                                   Louisa May Alcott  4.192308\n",
       "4                                        Rick Riordan  4.080645\n",
       "5                                     William Golding  3.901408\n",
       "6                                       J.D. Salinger  3.825581\n",
       "7            Paulo Coelho/Alan R. Clarke/Özdemir İnce  3.789474\n",
       "8   William Shakespeare/Paul Werstine/Barbara A. M...  3.787879\n",
       "9                                           Dan Brown  3.754540\n",
       "10                                         Lois Lowry  3.750000\n",
       "11            George Orwell/Boris Grabnar/Peter Škerl  3.729730\n",
       "12                                    Stephenie Meyer  3.662500\n",
       "13                                     John Steinbeck  3.622951"
      ]
     },
     "execution_count": 13,
     "metadata": {},
     "output_type": "execute_result"
    }
   ],
   "source": [
    "rate_per_book = '''\n",
    "SELECT \n",
    "    author, AVG(avg) \n",
    "    FROM books \n",
    "    RIGHT JOIN\n",
    "    (SELECT book_id, COUNT(book_id), AVG(rating) \n",
    "FROM \n",
    "    ratings \n",
    "GROUP BY \n",
    "    book_id \n",
    "    HAVING COUNT(book_id) > 50) AS subquery\n",
    "    ON books.book_id = subquery.book_id\n",
    "    LEFT JOIN authors ON authors.author_id = books.author_id\n",
    "GROUP BY \n",
    "    author\n",
    "ORDER BY \n",
    "    avg DESC\n",
    "'''\n",
    "\n",
    "\n",
    "pd.io.sql.read_sql(rate_per_book, con = engine)"
   ]
  },
  {
   "cell_type": "code",
   "execution_count": 14,
   "metadata": {},
   "outputs": [
    {
     "data": {
      "text/html": [
       "<div>\n",
       "<style scoped>\n",
       "    .dataframe tbody tr th:only-of-type {\n",
       "        vertical-align: middle;\n",
       "    }\n",
       "\n",
       "    .dataframe tbody tr th {\n",
       "        vertical-align: top;\n",
       "    }\n",
       "\n",
       "    .dataframe thead th {\n",
       "        text-align: right;\n",
       "    }\n",
       "</style>\n",
       "<table border=\"1\" class=\"dataframe\">\n",
       "  <thead>\n",
       "    <tr style=\"text-align: right;\">\n",
       "      <th></th>\n",
       "      <th>author</th>\n",
       "      <th>avg_rating</th>\n",
       "    </tr>\n",
       "  </thead>\n",
       "  <tbody>\n",
       "    <tr>\n",
       "      <td>0</td>\n",
       "      <td>J.K. Rowling/Mary GrandPré</td>\n",
       "      <td>4.283844</td>\n",
       "    </tr>\n",
       "  </tbody>\n",
       "</table>\n",
       "</div>"
      ],
      "text/plain": [
       "                       author  avg_rating\n",
       "0  J.K. Rowling/Mary GrandPré    4.283844"
      ]
     },
     "metadata": {},
     "output_type": "display_data"
    }
   ],
   "source": [
    "top_book = '''\n",
    "SELECT\n",
    "      SUBQ.author AS author,\n",
    "      AVG(SUBQ.avg_rating) AS avg_rating\n",
    "FROM\n",
    "(SELECT\n",
    "     authors.author AS author,\n",
    "     books.book_id AS id,\n",
    "     AVG(ratings.rating) AS avg_rating,\n",
    "     COUNT(ratings.rating) AS cnt_rating\n",
    "FROM\n",
    "    authors\n",
    "INNER JOIN books ON books.author_id = authors.author_id\n",
    "INNER JOIN ratings ON ratings.book_id = books.book_id\n",
    "GROUP BY\n",
    "    author,\n",
    "    id\n",
    "    HAVING\n",
    "    COUNT(ratings.rating) >= 50) AS SUBQ\n",
    "GROUP BY\n",
    "    author\n",
    "ORDER BY\n",
    "    avg_rating DESC\n",
    "'''\n",
    "\n",
    "display(pd.io.sql.read_sql(top_book, con = engine).head(1))"
   ]
  },
  {
   "cell_type": "markdown",
   "metadata": {},
   "source": [
    "pd.read_sql(\"\"\"\n",
    "SELECT a.author, avg(m.average_rating) as books_rating \n",
    "FROM (SELECT r.book_id, b.author_id, avg(r.rating) as average_rating \n",
    "      FROM ratings r\n",
    "        LEFT JOIN books b ON b.book_id = r.book_id\n",
    "      GROUP BY r.book_id, b.author_id\n",
    "      HAVING count(r.rating) > 50) m\n",
    "LEFT JOIN authors a ON m.author_id = a.author_id\n",
    "GROUP BY a.author\n",
    "ORDER BY books_rating DESC\n",
    "LIMIT 1\n",
    "\"\"\", con = engine)"
   ]
  },
  {
   "cell_type": "markdown",
   "metadata": {},
   "source": [
    "#### Итог по пункту:\n",
    "1. Джоан Роулинг - лидер списка писателей.\n",
    "2. Второй Маркус Зусак.\n",
    "3. Замыкает список лидеров - Дж.Р.Р. Толкиен."
   ]
  },
  {
   "cell_type": "markdown",
   "metadata": {},
   "source": [
    "<a name=\"s_11\"></a>\n",
    "### Среднее количество обзоров от пользователей, которые поставили больше 50 оценок:\n",
    "[К оглавлению](#table_of_contents)"
   ]
  },
  {
   "cell_type": "code",
   "execution_count": 16,
   "metadata": {},
   "outputs": [
    {
     "data": {
      "text/html": [
       "<div>\n",
       "<style scoped>\n",
       "    .dataframe tbody tr th:only-of-type {\n",
       "        vertical-align: middle;\n",
       "    }\n",
       "\n",
       "    .dataframe tbody tr th {\n",
       "        vertical-align: top;\n",
       "    }\n",
       "\n",
       "    .dataframe thead th {\n",
       "        text-align: right;\n",
       "    }\n",
       "</style>\n",
       "<table border=\"1\" class=\"dataframe\">\n",
       "  <thead>\n",
       "    <tr style=\"text-align: right;\">\n",
       "      <th></th>\n",
       "      <th>round</th>\n",
       "    </tr>\n",
       "  </thead>\n",
       "  <tbody>\n",
       "    <tr>\n",
       "      <td>0</td>\n",
       "      <td>24.0</td>\n",
       "    </tr>\n",
       "  </tbody>\n",
       "</table>\n",
       "</div>"
      ],
      "text/plain": [
       "   round\n",
       "0   24.0"
      ]
     },
     "metadata": {},
     "output_type": "display_data"
    }
   ],
   "source": [
    "mean_review = '''\n",
    "SELECT ROUND(avg(count)) \n",
    "FROM\n",
    "(SELECT\n",
    "    COUNT(text)\n",
    "FROM \n",
    "    reviews\n",
    "FULL OUTER JOIN (SELECT username,\n",
    "                COUNT(rating_id) as cnt\n",
    "FROM \n",
    "    ratings\n",
    "GROUP BY\n",
    "        username) AS cnt_rating\n",
    "ON \n",
    "    cnt_rating.username = reviews.username\n",
    "where cnt >= 50\n",
    "GROUP BY \n",
    "    reviews.username) as count;                                  \n",
    "'''\n",
    "display(pd.io.sql.read_sql(mean_review, con = engine))"
   ]
  },
  {
   "cell_type": "markdown",
   "metadata": {},
   "source": [
    "#### Итог по пункту:\n",
    "В среднем пользователи, кто ставил 50 и более оценок, оставляли 24 текстовых обзора."
   ]
  },
  {
   "cell_type": "markdown",
   "metadata": {},
   "source": [
    "pd.read_sql(\"\"\"\n",
    "SELECT avg(count) \n",
    "FROM (SELECT username, count(text) \n",
    "        FROM reviews re WHERE re.username in (\n",
    "                    SELECT r.username FROM ratings r \n",
    "                    GROUP BY r.username\n",
    "                    HAVING count(r.rating) > 50)\n",
    "GROUP BY username) as counts\n",
    "\"\"\", con = engine)"
   ]
  },
  {
   "cell_type": "markdown",
   "metadata": {},
   "source": [
    "<a name=\"stage_4\"></a>\n",
    "## Шаг 4: Общие выводы:\n",
    "[К оглавлению](#table_of_contents)"
   ]
  },
  {
   "cell_type": "markdown",
   "metadata": {},
   "source": [
    "1. 1 января и после было выпущено 821 книга.\n",
    "2. Много книг с оценками 5, но по 2-3 ревью (иногда 4).\n",
    "    * Сумерки (количество ревью = 7, средний балл 3.6),\n",
    "    * Далее идут книги по Гарри Поттеру (3-я и 2-ая)\n",
    "3. Penguin Books выпустило 42 \"толстые\" книги, что делат это издательство лидером в списке.\n",
    "4. Джоан Роулинг лидер по количеству средних оценок = 4.283844\n",
    "    * Второй Маркус Зусак = 4.264151.\n",
    "    * Замыкает список лидеров - Дж.Р.Р. Толкиен = 4.258446.\n",
    "5. В среднем пользователи, кто ставил 50 и более оценок, оставляли 24 текстовых обзора."
   ]
  }
 ],
 "metadata": {
  "ExecuteTimeLog": [
   {
    "duration": 853,
    "start_time": "2021-07-13T11:02:55.434Z"
   },
   {
    "duration": 79,
    "start_time": "2021-07-13T11:03:01.085Z"
   },
   {
    "duration": 92,
    "start_time": "2021-07-13T11:11:00.864Z"
   },
   {
    "duration": 15,
    "start_time": "2021-07-13T11:13:28.618Z"
   },
   {
    "duration": 15,
    "start_time": "2021-07-13T11:13:57.449Z"
   },
   {
    "duration": 17,
    "start_time": "2021-07-13T11:14:30.632Z"
   },
   {
    "duration": 19,
    "start_time": "2021-07-13T11:15:10.206Z"
   },
   {
    "duration": 18,
    "start_time": "2021-07-13T11:18:07.105Z"
   },
   {
    "duration": 14,
    "start_time": "2021-07-13T11:18:18.272Z"
   },
   {
    "duration": 51,
    "start_time": "2021-07-13T11:19:40.212Z"
   },
   {
    "duration": 20,
    "start_time": "2021-07-13T11:20:28.107Z"
   },
   {
    "duration": 20,
    "start_time": "2021-07-13T11:21:06.662Z"
   },
   {
    "duration": 17,
    "start_time": "2021-07-13T11:21:50.129Z"
   },
   {
    "duration": 48,
    "start_time": "2021-07-13T11:23:54.463Z"
   },
   {
    "duration": 15,
    "start_time": "2021-07-13T11:25:24.495Z"
   },
   {
    "duration": 22,
    "start_time": "2021-07-13T11:27:38.054Z"
   },
   {
    "duration": 20,
    "start_time": "2021-07-13T11:28:14.832Z"
   },
   {
    "duration": 19,
    "start_time": "2021-07-13T11:29:12.829Z"
   },
   {
    "duration": 15,
    "start_time": "2021-07-13T11:29:27.815Z"
   },
   {
    "duration": 20,
    "start_time": "2021-07-13T11:29:48.501Z"
   },
   {
    "duration": 18,
    "start_time": "2021-07-13T11:30:14.610Z"
   },
   {
    "duration": 817,
    "start_time": "2021-07-13T11:30:52.819Z"
   },
   {
    "duration": 48,
    "start_time": "2021-07-13T11:30:53.639Z"
   },
   {
    "duration": 19,
    "start_time": "2021-07-13T11:30:53.693Z"
   },
   {
    "duration": 14,
    "start_time": "2021-07-13T11:30:53.714Z"
   },
   {
    "duration": 15,
    "start_time": "2021-07-13T11:30:53.730Z"
   },
   {
    "duration": 15,
    "start_time": "2021-07-13T11:30:53.747Z"
   },
   {
    "duration": 46,
    "start_time": "2021-07-13T11:30:53.765Z"
   },
   {
    "duration": 13,
    "start_time": "2021-07-13T11:30:53.813Z"
   },
   {
    "duration": 39,
    "start_time": "2021-07-13T11:30:53.828Z"
   },
   {
    "duration": 31,
    "start_time": "2021-07-13T11:30:53.869Z"
   },
   {
    "duration": 14,
    "start_time": "2021-07-13T11:30:53.903Z"
   },
   {
    "duration": 19,
    "start_time": "2021-07-13T11:30:53.920Z"
   },
   {
    "duration": 18,
    "start_time": "2021-07-13T11:30:53.942Z"
   },
   {
    "duration": 38,
    "start_time": "2021-07-13T11:30:53.962Z"
   },
   {
    "duration": 21,
    "start_time": "2021-07-13T11:35:41.285Z"
   },
   {
    "duration": 21,
    "start_time": "2021-07-13T11:35:45.895Z"
   },
   {
    "duration": 14,
    "start_time": "2021-07-13T11:36:04.833Z"
   },
   {
    "duration": 17,
    "start_time": "2021-07-13T11:36:20.703Z"
   },
   {
    "duration": 868,
    "start_time": "2021-07-13T11:36:37.585Z"
   },
   {
    "duration": 49,
    "start_time": "2021-07-13T11:36:38.456Z"
   },
   {
    "duration": 15,
    "start_time": "2021-07-13T11:36:38.508Z"
   },
   {
    "duration": 15,
    "start_time": "2021-07-13T11:36:38.526Z"
   },
   {
    "duration": 16,
    "start_time": "2021-07-13T11:36:38.543Z"
   },
   {
    "duration": 41,
    "start_time": "2021-07-13T11:36:38.561Z"
   },
   {
    "duration": 13,
    "start_time": "2021-07-13T11:36:38.604Z"
   },
   {
    "duration": 13,
    "start_time": "2021-07-13T11:36:38.620Z"
   },
   {
    "duration": 48,
    "start_time": "2021-07-13T11:36:38.635Z"
   },
   {
    "duration": 17,
    "start_time": "2021-07-13T11:36:38.686Z"
   },
   {
    "duration": 15,
    "start_time": "2021-07-13T11:36:38.705Z"
   },
   {
    "duration": 18,
    "start_time": "2021-07-13T11:36:38.723Z"
   },
   {
    "duration": 18,
    "start_time": "2021-07-13T11:36:38.744Z"
   },
   {
    "duration": 15,
    "start_time": "2021-07-13T11:36:38.764Z"
   },
   {
    "duration": 42,
    "start_time": "2021-07-13T11:39:54.950Z"
   },
   {
    "duration": 53,
    "start_time": "2021-07-13T11:40:35.557Z"
   },
   {
    "duration": 41,
    "start_time": "2021-07-13T11:40:59.868Z"
   },
   {
    "duration": 58,
    "start_time": "2021-07-13T11:41:00.008Z"
   },
   {
    "duration": 38,
    "start_time": "2021-07-13T11:41:06.689Z"
   },
   {
    "duration": 49,
    "start_time": "2021-07-13T11:41:11.014Z"
   },
   {
    "duration": 110,
    "start_time": "2021-07-13T11:41:23.137Z"
   },
   {
    "duration": 44,
    "start_time": "2021-07-13T11:41:31.448Z"
   },
   {
    "duration": 38,
    "start_time": "2021-07-13T11:41:39.389Z"
   },
   {
    "duration": 826,
    "start_time": "2021-07-13T12:02:08.640Z"
   },
   {
    "duration": 51,
    "start_time": "2021-07-13T12:02:09.468Z"
   },
   {
    "duration": 14,
    "start_time": "2021-07-13T12:02:09.522Z"
   },
   {
    "duration": 16,
    "start_time": "2021-07-13T12:02:09.539Z"
   },
   {
    "duration": 15,
    "start_time": "2021-07-13T12:02:09.558Z"
   },
   {
    "duration": 37,
    "start_time": "2021-07-13T12:02:09.576Z"
   },
   {
    "duration": 14,
    "start_time": "2021-07-13T12:02:09.615Z"
   },
   {
    "duration": 12,
    "start_time": "2021-07-13T12:02:09.632Z"
   },
   {
    "duration": 38,
    "start_time": "2021-07-13T12:02:09.647Z"
   },
   {
    "duration": 42,
    "start_time": "2021-07-13T12:02:09.701Z"
   },
   {
    "duration": 19,
    "start_time": "2021-07-13T12:02:09.746Z"
   },
   {
    "duration": 15,
    "start_time": "2021-07-13T12:02:09.767Z"
   },
   {
    "duration": 23,
    "start_time": "2021-07-13T12:02:09.784Z"
   },
   {
    "duration": 23,
    "start_time": "2021-07-13T12:02:09.809Z"
   },
   {
    "duration": 17,
    "start_time": "2021-07-13T12:02:09.834Z"
   },
   {
    "duration": 42,
    "start_time": "2021-07-13T12:02:24.722Z"
   },
   {
    "duration": 827,
    "start_time": "2021-07-13T12:02:43.224Z"
   },
   {
    "duration": 65,
    "start_time": "2021-07-13T12:02:44.054Z"
   },
   {
    "duration": 15,
    "start_time": "2021-07-13T12:02:44.122Z"
   },
   {
    "duration": 14,
    "start_time": "2021-07-13T12:02:44.139Z"
   },
   {
    "duration": 16,
    "start_time": "2021-07-13T12:02:44.156Z"
   },
   {
    "duration": 40,
    "start_time": "2021-07-13T12:02:44.175Z"
   },
   {
    "duration": 13,
    "start_time": "2021-07-13T12:02:44.217Z"
   },
   {
    "duration": 14,
    "start_time": "2021-07-13T12:02:44.233Z"
   },
   {
    "duration": 49,
    "start_time": "2021-07-13T12:02:44.250Z"
   },
   {
    "duration": 42,
    "start_time": "2021-07-13T12:02:44.302Z"
   },
   {
    "duration": 19,
    "start_time": "2021-07-13T12:02:44.346Z"
   },
   {
    "duration": 15,
    "start_time": "2021-07-13T12:02:44.368Z"
   },
   {
    "duration": 19,
    "start_time": "2021-07-13T12:02:44.385Z"
   },
   {
    "duration": 21,
    "start_time": "2021-07-13T12:02:44.407Z"
   },
   {
    "duration": 17,
    "start_time": "2021-07-13T12:02:44.431Z"
   },
   {
    "duration": 16,
    "start_time": "2021-07-13T12:03:40.913Z"
   },
   {
    "duration": 847,
    "start_time": "2021-07-13T12:03:55.896Z"
   },
   {
    "duration": 52,
    "start_time": "2021-07-13T12:03:56.746Z"
   },
   {
    "duration": 17,
    "start_time": "2021-07-13T12:03:56.802Z"
   },
   {
    "duration": 14,
    "start_time": "2021-07-13T12:03:56.822Z"
   },
   {
    "duration": 15,
    "start_time": "2021-07-13T12:03:56.838Z"
   },
   {
    "duration": 14,
    "start_time": "2021-07-13T12:03:56.856Z"
   },
   {
    "duration": 37,
    "start_time": "2021-07-13T12:03:56.872Z"
   },
   {
    "duration": 12,
    "start_time": "2021-07-13T12:03:56.912Z"
   },
   {
    "duration": 39,
    "start_time": "2021-07-13T12:03:56.928Z"
   },
   {
    "duration": 42,
    "start_time": "2021-07-13T12:03:56.970Z"
   },
   {
    "duration": 24,
    "start_time": "2021-07-13T12:03:57.015Z"
   },
   {
    "duration": 17,
    "start_time": "2021-07-13T12:03:57.042Z"
   },
   {
    "duration": 40,
    "start_time": "2021-07-13T12:03:57.062Z"
   },
   {
    "duration": 21,
    "start_time": "2021-07-13T12:03:57.105Z"
   },
   {
    "duration": 15,
    "start_time": "2021-07-13T12:03:57.128Z"
   },
   {
    "duration": 924,
    "start_time": "2021-07-14T07:11:29.938Z"
   },
   {
    "duration": 234,
    "start_time": "2021-07-14T07:11:30.867Z"
   },
   {
    "duration": 57,
    "start_time": "2021-07-14T07:11:31.104Z"
   },
   {
    "duration": 57,
    "start_time": "2021-07-14T07:11:31.163Z"
   },
   {
    "duration": 57,
    "start_time": "2021-07-14T07:11:31.222Z"
   },
   {
    "duration": 59,
    "start_time": "2021-07-14T07:11:31.282Z"
   },
   {
    "duration": 56,
    "start_time": "2021-07-14T07:11:31.343Z"
   },
   {
    "duration": 56,
    "start_time": "2021-07-14T07:11:31.401Z"
   },
   {
    "duration": 81,
    "start_time": "2021-07-14T07:11:31.461Z"
   },
   {
    "duration": 102,
    "start_time": "2021-07-14T07:11:31.545Z"
   },
   {
    "duration": 62,
    "start_time": "2021-07-14T07:11:31.649Z"
   },
   {
    "duration": 56,
    "start_time": "2021-07-14T07:11:31.713Z"
   },
   {
    "duration": 61,
    "start_time": "2021-07-14T07:11:31.772Z"
   },
   {
    "duration": 61,
    "start_time": "2021-07-14T07:11:31.835Z"
   },
   {
    "duration": 58,
    "start_time": "2021-07-14T07:11:31.898Z"
   },
   {
    "duration": 59,
    "start_time": "2021-07-14T07:15:44.639Z"
   },
   {
    "duration": 59,
    "start_time": "2021-07-14T07:18:01.840Z"
   },
   {
    "duration": 56,
    "start_time": "2021-07-14T07:18:05.340Z"
   },
   {
    "duration": 895,
    "start_time": "2021-07-14T07:21:56.596Z"
   },
   {
    "duration": 54,
    "start_time": "2021-07-14T07:21:57.494Z"
   },
   {
    "duration": 15,
    "start_time": "2021-07-14T07:21:57.551Z"
   },
   {
    "duration": 18,
    "start_time": "2021-07-14T07:21:57.569Z"
   },
   {
    "duration": 16,
    "start_time": "2021-07-14T07:21:57.589Z"
   },
   {
    "duration": 19,
    "start_time": "2021-07-14T07:21:57.607Z"
   },
   {
    "duration": 12,
    "start_time": "2021-07-14T07:21:57.629Z"
   },
   {
    "duration": 12,
    "start_time": "2021-07-14T07:21:57.645Z"
   },
   {
    "duration": 64,
    "start_time": "2021-07-14T07:21:57.659Z"
   },
   {
    "duration": 40,
    "start_time": "2021-07-14T07:21:57.726Z"
   },
   {
    "duration": 20,
    "start_time": "2021-07-14T07:21:57.768Z"
   },
   {
    "duration": 14,
    "start_time": "2021-07-14T07:21:57.790Z"
   },
   {
    "duration": 18,
    "start_time": "2021-07-14T07:21:57.806Z"
   },
   {
    "duration": 19,
    "start_time": "2021-07-14T07:21:57.826Z"
   },
   {
    "duration": 39,
    "start_time": "2021-07-14T07:21:57.847Z"
   },
   {
    "duration": 17,
    "start_time": "2021-07-14T07:21:57.888Z"
   },
   {
    "duration": 16,
    "start_time": "2021-07-14T07:21:57.908Z"
   },
   {
    "duration": 42,
    "start_time": "2021-07-14T07:22:21.322Z"
   },
   {
    "duration": 443,
    "start_time": "2021-07-14T07:48:21.531Z"
   },
   {
    "duration": 327,
    "start_time": "2021-07-14T07:51:06.086Z"
   },
   {
    "duration": 329,
    "start_time": "2021-07-14T07:52:28.716Z"
   },
   {
    "duration": 34,
    "start_time": "2021-07-14T07:52:58.362Z"
   },
   {
    "duration": 32,
    "start_time": "2021-07-14T07:54:29.798Z"
   },
   {
    "duration": 41,
    "start_time": "2021-07-14T07:55:16.441Z"
   },
   {
    "duration": 314,
    "start_time": "2021-07-14T07:56:21.438Z"
   },
   {
    "duration": 31,
    "start_time": "2021-07-14T07:56:35.176Z"
   },
   {
    "duration": 695,
    "start_time": "2021-07-14T08:02:14.701Z"
   },
   {
    "duration": 33,
    "start_time": "2021-07-14T08:02:38.111Z"
   },
   {
    "duration": 33,
    "start_time": "2021-07-14T08:02:57.115Z"
   },
   {
    "duration": 33,
    "start_time": "2021-07-14T08:03:20.745Z"
   },
   {
    "duration": 33,
    "start_time": "2021-07-14T08:03:45.168Z"
   },
   {
    "duration": 37,
    "start_time": "2021-07-14T08:07:33.724Z"
   },
   {
    "duration": 35,
    "start_time": "2021-07-14T08:08:17.874Z"
   },
   {
    "duration": 34,
    "start_time": "2021-07-14T08:11:10.226Z"
   },
   {
    "duration": 43,
    "start_time": "2021-07-14T08:11:41.985Z"
   },
   {
    "duration": 41,
    "start_time": "2021-07-14T08:11:55.931Z"
   },
   {
    "duration": 41,
    "start_time": "2021-07-14T08:12:21.893Z"
   },
   {
    "duration": 310,
    "start_time": "2021-07-14T08:18:33.061Z"
   },
   {
    "duration": 320,
    "start_time": "2021-07-14T08:18:40.607Z"
   },
   {
    "duration": 45,
    "start_time": "2021-07-14T08:18:54.661Z"
   },
   {
    "duration": 299,
    "start_time": "2021-07-14T08:19:47.032Z"
   },
   {
    "duration": 34,
    "start_time": "2021-07-14T08:20:00.327Z"
   },
   {
    "duration": 40,
    "start_time": "2021-07-14T08:20:55.797Z"
   },
   {
    "duration": 34,
    "start_time": "2021-07-14T08:21:08.987Z"
   },
   {
    "duration": 32,
    "start_time": "2021-07-14T08:21:16.699Z"
   },
   {
    "duration": 36,
    "start_time": "2021-07-14T08:21:47.615Z"
   },
   {
    "duration": 41,
    "start_time": "2021-07-14T08:22:12.115Z"
   },
   {
    "duration": 39,
    "start_time": "2021-07-14T08:24:06.512Z"
   },
   {
    "duration": 69,
    "start_time": "2021-07-14T08:24:09.731Z"
   },
   {
    "duration": 32,
    "start_time": "2021-07-14T08:24:16.865Z"
   },
   {
    "duration": 43,
    "start_time": "2021-07-14T08:24:47.020Z"
   },
   {
    "duration": 466,
    "start_time": "2021-07-14T08:25:16.211Z"
   },
   {
    "duration": 31,
    "start_time": "2021-07-14T08:25:33.238Z"
   },
   {
    "duration": 305,
    "start_time": "2021-07-14T08:31:18.482Z"
   },
   {
    "duration": 39,
    "start_time": "2021-07-14T08:31:27.190Z"
   },
   {
    "duration": 34,
    "start_time": "2021-07-14T08:34:51.480Z"
   },
   {
    "duration": 35,
    "start_time": "2021-07-14T08:35:09.879Z"
   },
   {
    "duration": 3,
    "start_time": "2021-07-14T08:38:55.511Z"
   },
   {
    "duration": 38,
    "start_time": "2021-07-14T08:39:14.876Z"
   },
   {
    "duration": 37,
    "start_time": "2021-07-14T08:40:31.494Z"
   },
   {
    "duration": 36,
    "start_time": "2021-07-14T08:41:50.539Z"
   },
   {
    "duration": 36,
    "start_time": "2021-07-14T08:42:03.139Z"
   },
   {
    "duration": 36,
    "start_time": "2021-07-14T08:42:29.056Z"
   },
   {
    "duration": 35,
    "start_time": "2021-07-14T08:43:12.829Z"
   },
   {
    "duration": 35,
    "start_time": "2021-07-14T08:43:28.698Z"
   },
   {
    "duration": 36,
    "start_time": "2021-07-14T08:48:36.131Z"
   },
   {
    "duration": 28,
    "start_time": "2021-07-14T08:49:19.663Z"
   },
   {
    "duration": 39,
    "start_time": "2021-07-14T08:49:30.659Z"
   },
   {
    "duration": 389,
    "start_time": "2021-07-15T05:30:46.477Z"
   },
   {
    "duration": 382,
    "start_time": "2021-07-15T05:30:49.529Z"
   }
  ],
  "kernelspec": {
   "display_name": "Python 3",
   "language": "python",
   "name": "python3"
  },
  "language_info": {
   "codemirror_mode": {
    "name": "ipython",
    "version": 3
   },
   "file_extension": ".py",
   "mimetype": "text/x-python",
   "name": "python",
   "nbconvert_exporter": "python",
   "pygments_lexer": "ipython3",
   "version": "3.8.8"
  },
  "toc": {
   "base_numbering": 1,
   "nav_menu": {},
   "number_sections": true,
   "sideBar": true,
   "skip_h1_title": true,
   "title_cell": "Table of Contents",
   "title_sidebar": "Contents",
   "toc_cell": false,
   "toc_position": {},
   "toc_section_display": true,
   "toc_window_display": false
  }
 },
 "nbformat": 4,
 "nbformat_minor": 2
}
