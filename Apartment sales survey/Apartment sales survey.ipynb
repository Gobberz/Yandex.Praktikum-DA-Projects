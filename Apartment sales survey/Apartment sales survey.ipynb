{
 "cells": [
  {
   "cell_type": "markdown",
   "metadata": {},
   "source": [
    "# Исследование объявлений о продаже квартир\n",
    "\n",
    "В вашем распоряжении данные сервиса Яндекс.Недвижимость — архив объявлений о продаже квартир в Санкт-Петербурге и соседних населённых пунктов за несколько лет. Нужно научиться определять рыночную стоимость объектов недвижимости. Ваша задача — установить параметры. Это позволит построить автоматизированную систему: она отследит аномалии и мошенническую деятельность. \n",
    "\n",
    "По каждой квартире на продажу доступны два вида данных. Первые вписаны пользователем, вторые — получены автоматически на основе картографических данных. Например, расстояние до центра, аэропорта, ближайшего парка и водоёма. "
   ]
  },
  {
   "cell_type": "markdown",
   "metadata": {},
   "source": [
    "### Шаг 1. Откройте файл с данными и изучите общую информацию. "
   ]
  },
  {
   "cell_type": "code",
   "execution_count": 1,
   "metadata": {
    "scrolled": true
   },
   "outputs": [
    {
     "name": "stdout",
     "output_type": "stream",
     "text": [
      "    total_images  last_price  total_area first_day_exposition  rooms  \\\n",
      "0             20  13000000.0      108.00  2019-03-07T00:00:00      3   \n",
      "1              7   3350000.0       40.40  2018-12-04T00:00:00      1   \n",
      "2             10   5196000.0       56.00  2015-08-20T00:00:00      2   \n",
      "3              0  64900000.0      159.00  2015-07-24T00:00:00      3   \n",
      "4              2  10000000.0      100.00  2018-06-19T00:00:00      2   \n",
      "5             10   2890000.0       30.40  2018-09-10T00:00:00      1   \n",
      "6              6   3700000.0       37.30  2017-11-02T00:00:00      1   \n",
      "7              5   7915000.0       71.60  2019-04-18T00:00:00      2   \n",
      "8             20   2900000.0       33.16  2018-05-23T00:00:00      1   \n",
      "9             18   5400000.0       61.00  2017-02-26T00:00:00      3   \n",
      "10             5   5050000.0       39.60  2017-11-16T00:00:00      1   \n",
      "11             9   3300000.0       44.00  2018-08-27T00:00:00      2   \n",
      "12            10   3890000.0       54.00  2016-06-30T00:00:00      2   \n",
      "13            20   3550000.0       42.80  2017-07-01T00:00:00      2   \n",
      "14             1   4400000.0       36.00  2016-06-23T00:00:00      1   \n",
      "15            16   4650000.0       39.00  2017-11-18T00:00:00      1   \n",
      "16            11   6700000.0       82.00  2017-11-23T00:00:00      3   \n",
      "17             6   4180000.0       36.00  2016-09-09T00:00:00      1   \n",
      "18             8   3250000.0       31.00  2017-01-27T00:00:00      1   \n",
      "19            16  14200000.0      121.00  2019-01-09T00:00:00      3   \n",
      "\n",
      "    ceiling_height  floors_total  living_area  floor is_apartment  ...  \\\n",
      "0             2.70          16.0        51.00      8          NaN  ...   \n",
      "1              NaN          11.0        18.60      1          NaN  ...   \n",
      "2              NaN           5.0        34.30      4          NaN  ...   \n",
      "3              NaN          14.0          NaN      9          NaN  ...   \n",
      "4             3.03          14.0        32.00     13          NaN  ...   \n",
      "5              NaN          12.0        14.40      5          NaN  ...   \n",
      "6              NaN          26.0        10.60      6          NaN  ...   \n",
      "7              NaN          24.0          NaN     22          NaN  ...   \n",
      "8              NaN          27.0        15.43     26          NaN  ...   \n",
      "9             2.50           9.0        43.60      7          NaN  ...   \n",
      "10            2.67          12.0        20.30      3          NaN  ...   \n",
      "11             NaN           5.0        31.00      4        False  ...   \n",
      "12             NaN           5.0        30.00      5          NaN  ...   \n",
      "13            2.56           5.0        27.00      5          NaN  ...   \n",
      "14             NaN           6.0        17.00      1          NaN  ...   \n",
      "15             NaN          14.0        20.50      5          NaN  ...   \n",
      "16            3.05           5.0        55.60      1          NaN  ...   \n",
      "17             NaN          17.0        16.50      7          NaN  ...   \n",
      "18            2.50           5.0        19.40      2          NaN  ...   \n",
      "19            2.75          16.0        76.00      8          NaN  ...   \n",
      "\n",
      "    kitchen_area  balcony              locality_name  airports_nearest  \\\n",
      "0          25.00      NaN            Санкт-Петербург           18863.0   \n",
      "1          11.00      2.0             посёлок Шушары           12817.0   \n",
      "2           8.30      0.0            Санкт-Петербург           21741.0   \n",
      "3            NaN      0.0            Санкт-Петербург           28098.0   \n",
      "4          41.00      NaN            Санкт-Петербург           31856.0   \n",
      "5           9.10      NaN  городской посёлок Янино-1               NaN   \n",
      "6          14.40      1.0          посёлок Парголово           52996.0   \n",
      "7          18.90      2.0            Санкт-Петербург           23982.0   \n",
      "8           8.81      NaN             посёлок Мурино               NaN   \n",
      "9           6.50      2.0            Санкт-Петербург           50898.0   \n",
      "10          8.50      NaN            Санкт-Петербург           38357.0   \n",
      "11          6.00      1.0                  Ломоносов           48252.0   \n",
      "12          9.00      0.0                  Сертолово               NaN   \n",
      "13          5.20      1.0                   Петергоф           37868.0   \n",
      "14          8.00      0.0                     Пушкин           20782.0   \n",
      "15          7.60      1.0            Санкт-Петербург           12900.0   \n",
      "16          9.00      NaN            Санкт-Петербург           22108.0   \n",
      "17         11.00      1.0            Санкт-Петербург           33564.0   \n",
      "18          5.60      1.0            Санкт-Петербург           44060.0   \n",
      "19         12.00      NaN            Санкт-Петербург           38900.0   \n",
      "\n",
      "   cityCenters_nearest  parks_around3000  parks_nearest  ponds_around3000  \\\n",
      "0              16028.0               1.0          482.0               2.0   \n",
      "1              18603.0               0.0            NaN               0.0   \n",
      "2              13933.0               1.0           90.0               2.0   \n",
      "3               6800.0               2.0           84.0               3.0   \n",
      "4               8098.0               2.0          112.0               1.0   \n",
      "5                  NaN               NaN            NaN               NaN   \n",
      "6              19143.0               0.0            NaN               0.0   \n",
      "7              11634.0               0.0            NaN               0.0   \n",
      "8                  NaN               NaN            NaN               NaN   \n",
      "9              15008.0               0.0            NaN               0.0   \n",
      "10             13878.0               1.0          310.0               2.0   \n",
      "11             51677.0               0.0            NaN               0.0   \n",
      "12                 NaN               NaN            NaN               NaN   \n",
      "13             33058.0               1.0          294.0               3.0   \n",
      "14             30759.0               0.0            NaN               1.0   \n",
      "15             14259.0               1.0          590.0               1.0   \n",
      "16             10698.0               3.0          420.0               0.0   \n",
      "17             14616.0               0.0            NaN               1.0   \n",
      "18             10842.0               1.0          759.0               0.0   \n",
      "19             12843.0               0.0            NaN               0.0   \n",
      "\n",
      "    ponds_nearest  days_exposition  \n",
      "0           755.0              NaN  \n",
      "1             NaN             81.0  \n",
      "2           574.0            558.0  \n",
      "3           234.0            424.0  \n",
      "4            48.0            121.0  \n",
      "5             NaN             55.0  \n",
      "6             NaN            155.0  \n",
      "7             NaN              NaN  \n",
      "8             NaN            189.0  \n",
      "9             NaN            289.0  \n",
      "10          553.0            137.0  \n",
      "11            NaN              7.0  \n",
      "12            NaN             90.0  \n",
      "13          298.0            366.0  \n",
      "14           96.0            203.0  \n",
      "15          296.0             19.0  \n",
      "16            NaN            397.0  \n",
      "17          859.0            571.0  \n",
      "18            NaN            168.0  \n",
      "19            NaN             97.0  \n",
      "\n",
      "[20 rows x 22 columns]\n",
      "<class 'pandas.core.frame.DataFrame'>\n",
      "RangeIndex: 23699 entries, 0 to 23698\n",
      "Data columns (total 22 columns):\n",
      "total_images            23699 non-null int64\n",
      "last_price              23699 non-null float64\n",
      "total_area              23699 non-null float64\n",
      "first_day_exposition    23699 non-null object\n",
      "rooms                   23699 non-null int64\n",
      "ceiling_height          14504 non-null float64\n",
      "floors_total            23613 non-null float64\n",
      "living_area             21796 non-null float64\n",
      "floor                   23699 non-null int64\n",
      "is_apartment            2775 non-null object\n",
      "studio                  23699 non-null bool\n",
      "open_plan               23699 non-null bool\n",
      "kitchen_area            21421 non-null float64\n",
      "balcony                 12180 non-null float64\n",
      "locality_name           23650 non-null object\n",
      "airports_nearest        18157 non-null float64\n",
      "cityCenters_nearest     18180 non-null float64\n",
      "parks_around3000        18181 non-null float64\n",
      "parks_nearest           8079 non-null float64\n",
      "ponds_around3000        18181 non-null float64\n",
      "ponds_nearest           9110 non-null float64\n",
      "days_exposition         20518 non-null float64\n",
      "dtypes: bool(2), float64(14), int64(3), object(3)\n",
      "memory usage: 3.7+ MB\n"
     ]
    }
   ],
   "source": [
    "import pandas as pd\n",
    "import matplotlib.pyplot as plt\n",
    "data = pd.read_csv('/datasets/real_estate_data.csv', sep = '\\t')\n",
    "print(data.head(20))\n",
    "\n",
    "data.info()"
   ]
  },
  {
   "cell_type": "code",
   "execution_count": 2,
   "metadata": {},
   "outputs": [
    {
     "data": {
      "text/html": [
       "<div>\n",
       "<style scoped>\n",
       "    .dataframe tbody tr th:only-of-type {\n",
       "        vertical-align: middle;\n",
       "    }\n",
       "\n",
       "    .dataframe tbody tr th {\n",
       "        vertical-align: top;\n",
       "    }\n",
       "\n",
       "    .dataframe thead th {\n",
       "        text-align: right;\n",
       "    }\n",
       "</style>\n",
       "<table border=\"1\" class=\"dataframe\">\n",
       "  <thead>\n",
       "    <tr style=\"text-align: right;\">\n",
       "      <th></th>\n",
       "      <th>total_images</th>\n",
       "      <th>last_price</th>\n",
       "      <th>total_area</th>\n",
       "      <th>first_day_exposition</th>\n",
       "      <th>rooms</th>\n",
       "      <th>ceiling_height</th>\n",
       "      <th>floors_total</th>\n",
       "      <th>living_area</th>\n",
       "      <th>floor</th>\n",
       "      <th>is_apartment</th>\n",
       "      <th>...</th>\n",
       "      <th>kitchen_area</th>\n",
       "      <th>balcony</th>\n",
       "      <th>locality_name</th>\n",
       "      <th>airports_nearest</th>\n",
       "      <th>cityCenters_nearest</th>\n",
       "      <th>parks_around3000</th>\n",
       "      <th>parks_nearest</th>\n",
       "      <th>ponds_around3000</th>\n",
       "      <th>ponds_nearest</th>\n",
       "      <th>days_exposition</th>\n",
       "    </tr>\n",
       "  </thead>\n",
       "  <tbody>\n",
       "    <tr>\n",
       "      <td>0</td>\n",
       "      <td>20</td>\n",
       "      <td>13000000.0</td>\n",
       "      <td>108.00</td>\n",
       "      <td>2019-03-07T00:00:00</td>\n",
       "      <td>3</td>\n",
       "      <td>2.70</td>\n",
       "      <td>16.0</td>\n",
       "      <td>51.00</td>\n",
       "      <td>8</td>\n",
       "      <td>NaN</td>\n",
       "      <td>...</td>\n",
       "      <td>25.00</td>\n",
       "      <td>NaN</td>\n",
       "      <td>Санкт-Петербург</td>\n",
       "      <td>18863.0</td>\n",
       "      <td>16028.0</td>\n",
       "      <td>1.0</td>\n",
       "      <td>482.0</td>\n",
       "      <td>2.0</td>\n",
       "      <td>755.0</td>\n",
       "      <td>NaN</td>\n",
       "    </tr>\n",
       "    <tr>\n",
       "      <td>1</td>\n",
       "      <td>7</td>\n",
       "      <td>3350000.0</td>\n",
       "      <td>40.40</td>\n",
       "      <td>2018-12-04T00:00:00</td>\n",
       "      <td>1</td>\n",
       "      <td>NaN</td>\n",
       "      <td>11.0</td>\n",
       "      <td>18.60</td>\n",
       "      <td>1</td>\n",
       "      <td>NaN</td>\n",
       "      <td>...</td>\n",
       "      <td>11.00</td>\n",
       "      <td>2.0</td>\n",
       "      <td>посёлок Шушары</td>\n",
       "      <td>12817.0</td>\n",
       "      <td>18603.0</td>\n",
       "      <td>0.0</td>\n",
       "      <td>NaN</td>\n",
       "      <td>0.0</td>\n",
       "      <td>NaN</td>\n",
       "      <td>81.0</td>\n",
       "    </tr>\n",
       "    <tr>\n",
       "      <td>2</td>\n",
       "      <td>10</td>\n",
       "      <td>5196000.0</td>\n",
       "      <td>56.00</td>\n",
       "      <td>2015-08-20T00:00:00</td>\n",
       "      <td>2</td>\n",
       "      <td>NaN</td>\n",
       "      <td>5.0</td>\n",
       "      <td>34.30</td>\n",
       "      <td>4</td>\n",
       "      <td>NaN</td>\n",
       "      <td>...</td>\n",
       "      <td>8.30</td>\n",
       "      <td>0.0</td>\n",
       "      <td>Санкт-Петербург</td>\n",
       "      <td>21741.0</td>\n",
       "      <td>13933.0</td>\n",
       "      <td>1.0</td>\n",
       "      <td>90.0</td>\n",
       "      <td>2.0</td>\n",
       "      <td>574.0</td>\n",
       "      <td>558.0</td>\n",
       "    </tr>\n",
       "    <tr>\n",
       "      <td>3</td>\n",
       "      <td>0</td>\n",
       "      <td>64900000.0</td>\n",
       "      <td>159.00</td>\n",
       "      <td>2015-07-24T00:00:00</td>\n",
       "      <td>3</td>\n",
       "      <td>NaN</td>\n",
       "      <td>14.0</td>\n",
       "      <td>NaN</td>\n",
       "      <td>9</td>\n",
       "      <td>NaN</td>\n",
       "      <td>...</td>\n",
       "      <td>NaN</td>\n",
       "      <td>0.0</td>\n",
       "      <td>Санкт-Петербург</td>\n",
       "      <td>28098.0</td>\n",
       "      <td>6800.0</td>\n",
       "      <td>2.0</td>\n",
       "      <td>84.0</td>\n",
       "      <td>3.0</td>\n",
       "      <td>234.0</td>\n",
       "      <td>424.0</td>\n",
       "    </tr>\n",
       "    <tr>\n",
       "      <td>4</td>\n",
       "      <td>2</td>\n",
       "      <td>10000000.0</td>\n",
       "      <td>100.00</td>\n",
       "      <td>2018-06-19T00:00:00</td>\n",
       "      <td>2</td>\n",
       "      <td>3.03</td>\n",
       "      <td>14.0</td>\n",
       "      <td>32.00</td>\n",
       "      <td>13</td>\n",
       "      <td>NaN</td>\n",
       "      <td>...</td>\n",
       "      <td>41.00</td>\n",
       "      <td>NaN</td>\n",
       "      <td>Санкт-Петербург</td>\n",
       "      <td>31856.0</td>\n",
       "      <td>8098.0</td>\n",
       "      <td>2.0</td>\n",
       "      <td>112.0</td>\n",
       "      <td>1.0</td>\n",
       "      <td>48.0</td>\n",
       "      <td>121.0</td>\n",
       "    </tr>\n",
       "    <tr>\n",
       "      <td>5</td>\n",
       "      <td>10</td>\n",
       "      <td>2890000.0</td>\n",
       "      <td>30.40</td>\n",
       "      <td>2018-09-10T00:00:00</td>\n",
       "      <td>1</td>\n",
       "      <td>NaN</td>\n",
       "      <td>12.0</td>\n",
       "      <td>14.40</td>\n",
       "      <td>5</td>\n",
       "      <td>NaN</td>\n",
       "      <td>...</td>\n",
       "      <td>9.10</td>\n",
       "      <td>NaN</td>\n",
       "      <td>городской посёлок Янино-1</td>\n",
       "      <td>NaN</td>\n",
       "      <td>NaN</td>\n",
       "      <td>NaN</td>\n",
       "      <td>NaN</td>\n",
       "      <td>NaN</td>\n",
       "      <td>NaN</td>\n",
       "      <td>55.0</td>\n",
       "    </tr>\n",
       "    <tr>\n",
       "      <td>6</td>\n",
       "      <td>6</td>\n",
       "      <td>3700000.0</td>\n",
       "      <td>37.30</td>\n",
       "      <td>2017-11-02T00:00:00</td>\n",
       "      <td>1</td>\n",
       "      <td>NaN</td>\n",
       "      <td>26.0</td>\n",
       "      <td>10.60</td>\n",
       "      <td>6</td>\n",
       "      <td>NaN</td>\n",
       "      <td>...</td>\n",
       "      <td>14.40</td>\n",
       "      <td>1.0</td>\n",
       "      <td>посёлок Парголово</td>\n",
       "      <td>52996.0</td>\n",
       "      <td>19143.0</td>\n",
       "      <td>0.0</td>\n",
       "      <td>NaN</td>\n",
       "      <td>0.0</td>\n",
       "      <td>NaN</td>\n",
       "      <td>155.0</td>\n",
       "    </tr>\n",
       "    <tr>\n",
       "      <td>7</td>\n",
       "      <td>5</td>\n",
       "      <td>7915000.0</td>\n",
       "      <td>71.60</td>\n",
       "      <td>2019-04-18T00:00:00</td>\n",
       "      <td>2</td>\n",
       "      <td>NaN</td>\n",
       "      <td>24.0</td>\n",
       "      <td>NaN</td>\n",
       "      <td>22</td>\n",
       "      <td>NaN</td>\n",
       "      <td>...</td>\n",
       "      <td>18.90</td>\n",
       "      <td>2.0</td>\n",
       "      <td>Санкт-Петербург</td>\n",
       "      <td>23982.0</td>\n",
       "      <td>11634.0</td>\n",
       "      <td>0.0</td>\n",
       "      <td>NaN</td>\n",
       "      <td>0.0</td>\n",
       "      <td>NaN</td>\n",
       "      <td>NaN</td>\n",
       "    </tr>\n",
       "    <tr>\n",
       "      <td>8</td>\n",
       "      <td>20</td>\n",
       "      <td>2900000.0</td>\n",
       "      <td>33.16</td>\n",
       "      <td>2018-05-23T00:00:00</td>\n",
       "      <td>1</td>\n",
       "      <td>NaN</td>\n",
       "      <td>27.0</td>\n",
       "      <td>15.43</td>\n",
       "      <td>26</td>\n",
       "      <td>NaN</td>\n",
       "      <td>...</td>\n",
       "      <td>8.81</td>\n",
       "      <td>NaN</td>\n",
       "      <td>посёлок Мурино</td>\n",
       "      <td>NaN</td>\n",
       "      <td>NaN</td>\n",
       "      <td>NaN</td>\n",
       "      <td>NaN</td>\n",
       "      <td>NaN</td>\n",
       "      <td>NaN</td>\n",
       "      <td>189.0</td>\n",
       "    </tr>\n",
       "    <tr>\n",
       "      <td>9</td>\n",
       "      <td>18</td>\n",
       "      <td>5400000.0</td>\n",
       "      <td>61.00</td>\n",
       "      <td>2017-02-26T00:00:00</td>\n",
       "      <td>3</td>\n",
       "      <td>2.50</td>\n",
       "      <td>9.0</td>\n",
       "      <td>43.60</td>\n",
       "      <td>7</td>\n",
       "      <td>NaN</td>\n",
       "      <td>...</td>\n",
       "      <td>6.50</td>\n",
       "      <td>2.0</td>\n",
       "      <td>Санкт-Петербург</td>\n",
       "      <td>50898.0</td>\n",
       "      <td>15008.0</td>\n",
       "      <td>0.0</td>\n",
       "      <td>NaN</td>\n",
       "      <td>0.0</td>\n",
       "      <td>NaN</td>\n",
       "      <td>289.0</td>\n",
       "    </tr>\n",
       "    <tr>\n",
       "      <td>10</td>\n",
       "      <td>5</td>\n",
       "      <td>5050000.0</td>\n",
       "      <td>39.60</td>\n",
       "      <td>2017-11-16T00:00:00</td>\n",
       "      <td>1</td>\n",
       "      <td>2.67</td>\n",
       "      <td>12.0</td>\n",
       "      <td>20.30</td>\n",
       "      <td>3</td>\n",
       "      <td>NaN</td>\n",
       "      <td>...</td>\n",
       "      <td>8.50</td>\n",
       "      <td>NaN</td>\n",
       "      <td>Санкт-Петербург</td>\n",
       "      <td>38357.0</td>\n",
       "      <td>13878.0</td>\n",
       "      <td>1.0</td>\n",
       "      <td>310.0</td>\n",
       "      <td>2.0</td>\n",
       "      <td>553.0</td>\n",
       "      <td>137.0</td>\n",
       "    </tr>\n",
       "    <tr>\n",
       "      <td>11</td>\n",
       "      <td>9</td>\n",
       "      <td>3300000.0</td>\n",
       "      <td>44.00</td>\n",
       "      <td>2018-08-27T00:00:00</td>\n",
       "      <td>2</td>\n",
       "      <td>NaN</td>\n",
       "      <td>5.0</td>\n",
       "      <td>31.00</td>\n",
       "      <td>4</td>\n",
       "      <td>False</td>\n",
       "      <td>...</td>\n",
       "      <td>6.00</td>\n",
       "      <td>1.0</td>\n",
       "      <td>Ломоносов</td>\n",
       "      <td>48252.0</td>\n",
       "      <td>51677.0</td>\n",
       "      <td>0.0</td>\n",
       "      <td>NaN</td>\n",
       "      <td>0.0</td>\n",
       "      <td>NaN</td>\n",
       "      <td>7.0</td>\n",
       "    </tr>\n",
       "    <tr>\n",
       "      <td>12</td>\n",
       "      <td>10</td>\n",
       "      <td>3890000.0</td>\n",
       "      <td>54.00</td>\n",
       "      <td>2016-06-30T00:00:00</td>\n",
       "      <td>2</td>\n",
       "      <td>NaN</td>\n",
       "      <td>5.0</td>\n",
       "      <td>30.00</td>\n",
       "      <td>5</td>\n",
       "      <td>NaN</td>\n",
       "      <td>...</td>\n",
       "      <td>9.00</td>\n",
       "      <td>0.0</td>\n",
       "      <td>Сертолово</td>\n",
       "      <td>NaN</td>\n",
       "      <td>NaN</td>\n",
       "      <td>NaN</td>\n",
       "      <td>NaN</td>\n",
       "      <td>NaN</td>\n",
       "      <td>NaN</td>\n",
       "      <td>90.0</td>\n",
       "    </tr>\n",
       "    <tr>\n",
       "      <td>13</td>\n",
       "      <td>20</td>\n",
       "      <td>3550000.0</td>\n",
       "      <td>42.80</td>\n",
       "      <td>2017-07-01T00:00:00</td>\n",
       "      <td>2</td>\n",
       "      <td>2.56</td>\n",
       "      <td>5.0</td>\n",
       "      <td>27.00</td>\n",
       "      <td>5</td>\n",
       "      <td>NaN</td>\n",
       "      <td>...</td>\n",
       "      <td>5.20</td>\n",
       "      <td>1.0</td>\n",
       "      <td>Петергоф</td>\n",
       "      <td>37868.0</td>\n",
       "      <td>33058.0</td>\n",
       "      <td>1.0</td>\n",
       "      <td>294.0</td>\n",
       "      <td>3.0</td>\n",
       "      <td>298.0</td>\n",
       "      <td>366.0</td>\n",
       "    </tr>\n",
       "    <tr>\n",
       "      <td>14</td>\n",
       "      <td>1</td>\n",
       "      <td>4400000.0</td>\n",
       "      <td>36.00</td>\n",
       "      <td>2016-06-23T00:00:00</td>\n",
       "      <td>1</td>\n",
       "      <td>NaN</td>\n",
       "      <td>6.0</td>\n",
       "      <td>17.00</td>\n",
       "      <td>1</td>\n",
       "      <td>NaN</td>\n",
       "      <td>...</td>\n",
       "      <td>8.00</td>\n",
       "      <td>0.0</td>\n",
       "      <td>Пушкин</td>\n",
       "      <td>20782.0</td>\n",
       "      <td>30759.0</td>\n",
       "      <td>0.0</td>\n",
       "      <td>NaN</td>\n",
       "      <td>1.0</td>\n",
       "      <td>96.0</td>\n",
       "      <td>203.0</td>\n",
       "    </tr>\n",
       "    <tr>\n",
       "      <td>15</td>\n",
       "      <td>16</td>\n",
       "      <td>4650000.0</td>\n",
       "      <td>39.00</td>\n",
       "      <td>2017-11-18T00:00:00</td>\n",
       "      <td>1</td>\n",
       "      <td>NaN</td>\n",
       "      <td>14.0</td>\n",
       "      <td>20.50</td>\n",
       "      <td>5</td>\n",
       "      <td>NaN</td>\n",
       "      <td>...</td>\n",
       "      <td>7.60</td>\n",
       "      <td>1.0</td>\n",
       "      <td>Санкт-Петербург</td>\n",
       "      <td>12900.0</td>\n",
       "      <td>14259.0</td>\n",
       "      <td>1.0</td>\n",
       "      <td>590.0</td>\n",
       "      <td>1.0</td>\n",
       "      <td>296.0</td>\n",
       "      <td>19.0</td>\n",
       "    </tr>\n",
       "    <tr>\n",
       "      <td>16</td>\n",
       "      <td>11</td>\n",
       "      <td>6700000.0</td>\n",
       "      <td>82.00</td>\n",
       "      <td>2017-11-23T00:00:00</td>\n",
       "      <td>3</td>\n",
       "      <td>3.05</td>\n",
       "      <td>5.0</td>\n",
       "      <td>55.60</td>\n",
       "      <td>1</td>\n",
       "      <td>NaN</td>\n",
       "      <td>...</td>\n",
       "      <td>9.00</td>\n",
       "      <td>NaN</td>\n",
       "      <td>Санкт-Петербург</td>\n",
       "      <td>22108.0</td>\n",
       "      <td>10698.0</td>\n",
       "      <td>3.0</td>\n",
       "      <td>420.0</td>\n",
       "      <td>0.0</td>\n",
       "      <td>NaN</td>\n",
       "      <td>397.0</td>\n",
       "    </tr>\n",
       "    <tr>\n",
       "      <td>17</td>\n",
       "      <td>6</td>\n",
       "      <td>4180000.0</td>\n",
       "      <td>36.00</td>\n",
       "      <td>2016-09-09T00:00:00</td>\n",
       "      <td>1</td>\n",
       "      <td>NaN</td>\n",
       "      <td>17.0</td>\n",
       "      <td>16.50</td>\n",
       "      <td>7</td>\n",
       "      <td>NaN</td>\n",
       "      <td>...</td>\n",
       "      <td>11.00</td>\n",
       "      <td>1.0</td>\n",
       "      <td>Санкт-Петербург</td>\n",
       "      <td>33564.0</td>\n",
       "      <td>14616.0</td>\n",
       "      <td>0.0</td>\n",
       "      <td>NaN</td>\n",
       "      <td>1.0</td>\n",
       "      <td>859.0</td>\n",
       "      <td>571.0</td>\n",
       "    </tr>\n",
       "    <tr>\n",
       "      <td>18</td>\n",
       "      <td>8</td>\n",
       "      <td>3250000.0</td>\n",
       "      <td>31.00</td>\n",
       "      <td>2017-01-27T00:00:00</td>\n",
       "      <td>1</td>\n",
       "      <td>2.50</td>\n",
       "      <td>5.0</td>\n",
       "      <td>19.40</td>\n",
       "      <td>2</td>\n",
       "      <td>NaN</td>\n",
       "      <td>...</td>\n",
       "      <td>5.60</td>\n",
       "      <td>1.0</td>\n",
       "      <td>Санкт-Петербург</td>\n",
       "      <td>44060.0</td>\n",
       "      <td>10842.0</td>\n",
       "      <td>1.0</td>\n",
       "      <td>759.0</td>\n",
       "      <td>0.0</td>\n",
       "      <td>NaN</td>\n",
       "      <td>168.0</td>\n",
       "    </tr>\n",
       "    <tr>\n",
       "      <td>19</td>\n",
       "      <td>16</td>\n",
       "      <td>14200000.0</td>\n",
       "      <td>121.00</td>\n",
       "      <td>2019-01-09T00:00:00</td>\n",
       "      <td>3</td>\n",
       "      <td>2.75</td>\n",
       "      <td>16.0</td>\n",
       "      <td>76.00</td>\n",
       "      <td>8</td>\n",
       "      <td>NaN</td>\n",
       "      <td>...</td>\n",
       "      <td>12.00</td>\n",
       "      <td>NaN</td>\n",
       "      <td>Санкт-Петербург</td>\n",
       "      <td>38900.0</td>\n",
       "      <td>12843.0</td>\n",
       "      <td>0.0</td>\n",
       "      <td>NaN</td>\n",
       "      <td>0.0</td>\n",
       "      <td>NaN</td>\n",
       "      <td>97.0</td>\n",
       "    </tr>\n",
       "  </tbody>\n",
       "</table>\n",
       "<p>20 rows × 22 columns</p>\n",
       "</div>"
      ],
      "text/plain": [
       "    total_images  last_price  total_area first_day_exposition  rooms  \\\n",
       "0             20  13000000.0      108.00  2019-03-07T00:00:00      3   \n",
       "1              7   3350000.0       40.40  2018-12-04T00:00:00      1   \n",
       "2             10   5196000.0       56.00  2015-08-20T00:00:00      2   \n",
       "3              0  64900000.0      159.00  2015-07-24T00:00:00      3   \n",
       "4              2  10000000.0      100.00  2018-06-19T00:00:00      2   \n",
       "5             10   2890000.0       30.40  2018-09-10T00:00:00      1   \n",
       "6              6   3700000.0       37.30  2017-11-02T00:00:00      1   \n",
       "7              5   7915000.0       71.60  2019-04-18T00:00:00      2   \n",
       "8             20   2900000.0       33.16  2018-05-23T00:00:00      1   \n",
       "9             18   5400000.0       61.00  2017-02-26T00:00:00      3   \n",
       "10             5   5050000.0       39.60  2017-11-16T00:00:00      1   \n",
       "11             9   3300000.0       44.00  2018-08-27T00:00:00      2   \n",
       "12            10   3890000.0       54.00  2016-06-30T00:00:00      2   \n",
       "13            20   3550000.0       42.80  2017-07-01T00:00:00      2   \n",
       "14             1   4400000.0       36.00  2016-06-23T00:00:00      1   \n",
       "15            16   4650000.0       39.00  2017-11-18T00:00:00      1   \n",
       "16            11   6700000.0       82.00  2017-11-23T00:00:00      3   \n",
       "17             6   4180000.0       36.00  2016-09-09T00:00:00      1   \n",
       "18             8   3250000.0       31.00  2017-01-27T00:00:00      1   \n",
       "19            16  14200000.0      121.00  2019-01-09T00:00:00      3   \n",
       "\n",
       "    ceiling_height  floors_total  living_area  floor is_apartment  ...  \\\n",
       "0             2.70          16.0        51.00      8          NaN  ...   \n",
       "1              NaN          11.0        18.60      1          NaN  ...   \n",
       "2              NaN           5.0        34.30      4          NaN  ...   \n",
       "3              NaN          14.0          NaN      9          NaN  ...   \n",
       "4             3.03          14.0        32.00     13          NaN  ...   \n",
       "5              NaN          12.0        14.40      5          NaN  ...   \n",
       "6              NaN          26.0        10.60      6          NaN  ...   \n",
       "7              NaN          24.0          NaN     22          NaN  ...   \n",
       "8              NaN          27.0        15.43     26          NaN  ...   \n",
       "9             2.50           9.0        43.60      7          NaN  ...   \n",
       "10            2.67          12.0        20.30      3          NaN  ...   \n",
       "11             NaN           5.0        31.00      4        False  ...   \n",
       "12             NaN           5.0        30.00      5          NaN  ...   \n",
       "13            2.56           5.0        27.00      5          NaN  ...   \n",
       "14             NaN           6.0        17.00      1          NaN  ...   \n",
       "15             NaN          14.0        20.50      5          NaN  ...   \n",
       "16            3.05           5.0        55.60      1          NaN  ...   \n",
       "17             NaN          17.0        16.50      7          NaN  ...   \n",
       "18            2.50           5.0        19.40      2          NaN  ...   \n",
       "19            2.75          16.0        76.00      8          NaN  ...   \n",
       "\n",
       "    kitchen_area  balcony              locality_name  airports_nearest  \\\n",
       "0          25.00      NaN            Санкт-Петербург           18863.0   \n",
       "1          11.00      2.0             посёлок Шушары           12817.0   \n",
       "2           8.30      0.0            Санкт-Петербург           21741.0   \n",
       "3            NaN      0.0            Санкт-Петербург           28098.0   \n",
       "4          41.00      NaN            Санкт-Петербург           31856.0   \n",
       "5           9.10      NaN  городской посёлок Янино-1               NaN   \n",
       "6          14.40      1.0          посёлок Парголово           52996.0   \n",
       "7          18.90      2.0            Санкт-Петербург           23982.0   \n",
       "8           8.81      NaN             посёлок Мурино               NaN   \n",
       "9           6.50      2.0            Санкт-Петербург           50898.0   \n",
       "10          8.50      NaN            Санкт-Петербург           38357.0   \n",
       "11          6.00      1.0                  Ломоносов           48252.0   \n",
       "12          9.00      0.0                  Сертолово               NaN   \n",
       "13          5.20      1.0                   Петергоф           37868.0   \n",
       "14          8.00      0.0                     Пушкин           20782.0   \n",
       "15          7.60      1.0            Санкт-Петербург           12900.0   \n",
       "16          9.00      NaN            Санкт-Петербург           22108.0   \n",
       "17         11.00      1.0            Санкт-Петербург           33564.0   \n",
       "18          5.60      1.0            Санкт-Петербург           44060.0   \n",
       "19         12.00      NaN            Санкт-Петербург           38900.0   \n",
       "\n",
       "   cityCenters_nearest  parks_around3000  parks_nearest  ponds_around3000  \\\n",
       "0              16028.0               1.0          482.0               2.0   \n",
       "1              18603.0               0.0            NaN               0.0   \n",
       "2              13933.0               1.0           90.0               2.0   \n",
       "3               6800.0               2.0           84.0               3.0   \n",
       "4               8098.0               2.0          112.0               1.0   \n",
       "5                  NaN               NaN            NaN               NaN   \n",
       "6              19143.0               0.0            NaN               0.0   \n",
       "7              11634.0               0.0            NaN               0.0   \n",
       "8                  NaN               NaN            NaN               NaN   \n",
       "9              15008.0               0.0            NaN               0.0   \n",
       "10             13878.0               1.0          310.0               2.0   \n",
       "11             51677.0               0.0            NaN               0.0   \n",
       "12                 NaN               NaN            NaN               NaN   \n",
       "13             33058.0               1.0          294.0               3.0   \n",
       "14             30759.0               0.0            NaN               1.0   \n",
       "15             14259.0               1.0          590.0               1.0   \n",
       "16             10698.0               3.0          420.0               0.0   \n",
       "17             14616.0               0.0            NaN               1.0   \n",
       "18             10842.0               1.0          759.0               0.0   \n",
       "19             12843.0               0.0            NaN               0.0   \n",
       "\n",
       "    ponds_nearest  days_exposition  \n",
       "0           755.0              NaN  \n",
       "1             NaN             81.0  \n",
       "2           574.0            558.0  \n",
       "3           234.0            424.0  \n",
       "4            48.0            121.0  \n",
       "5             NaN             55.0  \n",
       "6             NaN            155.0  \n",
       "7             NaN              NaN  \n",
       "8             NaN            189.0  \n",
       "9             NaN            289.0  \n",
       "10          553.0            137.0  \n",
       "11            NaN              7.0  \n",
       "12            NaN             90.0  \n",
       "13          298.0            366.0  \n",
       "14           96.0            203.0  \n",
       "15          296.0             19.0  \n",
       "16            NaN            397.0  \n",
       "17          859.0            571.0  \n",
       "18            NaN            168.0  \n",
       "19            NaN             97.0  \n",
       "\n",
       "[20 rows x 22 columns]"
      ]
     },
     "metadata": {},
     "output_type": "display_data"
    }
   ],
   "source": [
    "display(data.head(20))"
   ]
  },
  {
   "cell_type": "markdown",
   "metadata": {},
   "source": [
    "### Вывод\n",
    "\n",
    "1) В файле представлены данные о недвижимости, данные распределены по 22 категориям.\n",
    "\n",
    "2) Пропущено большое количество значений, особенно в столбце is_apartment, parks_nearest, ponds_nearest.\n",
    "\n",
    "3)first_day_exposition - нужно будет убрать время, т.к. часы и минуты не указаны.\n",
    "4)is_apartment  - должен иметь тип bool\n",
    "5)floors_total/parks_around3000/ponds_around3000/balcony/days_exposition/last_price  - должны иметь целочисленное значение int\n",
    "6)Нулевые значения во многих данных\n",
    "\n",
    "   "
   ]
  },
  {
   "cell_type": "markdown",
   "metadata": {},
   "source": [
    "### Шаг 2. Предобработка данных"
   ]
  },
  {
   "cell_type": "code",
   "execution_count": 3,
   "metadata": {},
   "outputs": [
    {
     "name": "stdout",
     "output_type": "stream",
     "text": [
      "parks_nearest           15620\n",
      "ponds_nearest           14589\n",
      "ceiling_height           9195\n",
      "airports_nearest         5542\n",
      "cityCenters_nearest      5519\n",
      "ponds_around3000         5518\n",
      "parks_around3000         5518\n",
      "days_exposition          3181\n",
      "kitchen_area             2129\n",
      "living_area              1903\n",
      "floors_total               86\n",
      "locality_name              49\n",
      "last_price                  0\n",
      "total_area                  0\n",
      "first_day_exposition        0\n",
      "rooms                       0\n",
      "studio                      0\n",
      "floor                       0\n",
      "is_apartment                0\n",
      "open_plan                   0\n",
      "dtype: int64\n"
     ]
    }
   ],
   "source": [
    "#missing_counts = data.isnull().sum().sort_values(ascending = False)\n",
    "#print(missing_counts.head(10))\n",
    "#is_apartment           20924\n",
    "#parks_nearest          15620\n",
    "#ponds_nearest          14589\n",
    "#balcony                11519\n",
    "#ceiling_height          9195\n",
    "#airports_nearest        5542\n",
    "#cityCenters_nearest     5519\n",
    "#parks_around3000        5518\n",
    "#ponds_around3000        5518\n",
    "#days_exposition         3181\n",
    "\n",
    "#Начнем с простого - с балконов.\n",
    "#Если значения пустые в этой категории, возможно, балконов просто нет.\n",
    "#Поэтому просто заменю все пропущенные значения на ноль и сразу преобразую в целочисленные значения.\n",
    "data['balcony'] = data['balcony'].fillna(0).astype('int')\n",
    "#Поменяю формат даты, убрав время, в столбце first_day_exposition\n",
    "data['first_day_exposition'] = pd.to_datetime(data['first_day_exposition'], format = '%Y-%m-%d')\n",
    "#Заменю пропущенные значения days_exposition на ноль и поменяю тип на int\n",
    "#data['days_exposition'] = data['days_exposition'].fillna(0).astype('int')\n",
    "#С названиями населнных пунктов (locality_name) не совсем понятны причины отсутствия данных, \n",
    "#и менять их не буду.\n",
    "\n",
    "#С is_apartment не совсем понятно почему так много значений пропущено, думаю, что этот столбец добавили позже.\n",
    "#Либо же люди не совсем знают разницу между квартирой и апартаментами, потому оставили эту графу пустой.\n",
    "#Заменю тип данных, но на False перводить не буду,\n",
    "#т.к. 50 апартаментов во всем датафрейме это слишком маленькое число такого типа недвижимости\n",
    "#False    2725\n",
    "#True       50\n",
    "data ['is_apartment'] = data ['is_apartment'].astype ('bool')\n",
    "\n",
    "#Думал найти среднюю величину для кухни в соотношении с общим жилым пространством\n",
    "#print('Количество пропусков в kitchen_area:', data['kitchen_area'].isnull().sum())\n",
    "#print('Количество пропусков в living_area:', data['living_area'].isnull().sum())\n",
    "#Количество пропусков в kitchen_area: 2278\n",
    "#Количество пропусков в living_area: 1903\n",
    "#Но посмотрев на данные, пришел к выводу, что выставлять среднее значение или вычислять медианы было бы некорректно\n",
    "#т.к. даже если кваритра ~50 кв.м. из них 45 может быть кухней\n",
    "\n",
    "#Если подумать, что метраж кухни не указан только в студиях, то:\n",
    "#data.query('studio')[['kitchen_area', 'living_area']].isnull().sum()\n",
    "#kitchen_area    149\n",
    "#living_area      10\n",
    "\n",
    "#Тогда можно заменить пропущенные значения только здесь, а в остальном не трогать\n",
    "data.loc[data['studio'] == True, 'kitchen_area'] = 0\n",
    "#data['kitchen_area'].isna().value_counts()\n",
    "#False    21570\n",
    "#True      2129\n",
    "\n",
    "#По поводу пропусков в расстояниях думал найти закономерности, \n",
    "#не нашел как сделать медианы или средние значения,\n",
    "#но честно сказать, если бы я знал какой-нибудь инструмент автоматического мапинга, то я бы применил его сюда,\n",
    "#а потому, я оставлю эти значения такими.\n",
    "\n",
    "#data[data['locality_name'] != 'Санкт-Петербург'][['locality_name', 'cityCenters_nearest', 'airports_nearest','parks_around3000','parks_nearest']].head(10)\n",
    "#locality_name\tcityCenters_nearest\tairports_nearest\tparks_around3000\tparks_nearest\n",
    "#1\tпосёлок Шушары\t18603.0\t12817.0\t0.0\tNaN\n",
    "#5\tгородской посёлок Янино-1\tNaN\tNaN\tNaN\tNaN\n",
    "#6\tпосёлок Парголово\t19143.0\t52996.0\t0.0\tNaN\n",
    "#8\tпосёлок Мурино\tNaN\tNaN\tNaN\tNaN\n",
    "#11\tЛомоносов\t51677.0\t48252.0\t0.0\tNaN\n",
    "#12\tСертолово\tNaN\tNaN\tNaN\tNaN\n",
    "#13\tПетергоф\t33058.0\t37868.0\t1.0\t294.0\n",
    "#14\tПушкин\t30759.0\t20782.0\t0.0\tNaN\n",
    "#20\tпосёлок Парголово\t19311.0\t53134.0\t0.0\tNaN\n",
    "#22\tдеревня Кудрово\tNaN\tNaN\tNaN\tNaN\n",
    "\n",
    "#Изменю цену на тип int для дальнейшего удобства.\n",
    "data['last_price'] = data['last_price'].astype('int')\n",
    "\n",
    "missing_counts = data.isnull().sum().sort_values(ascending = False)\n",
    "print(missing_counts.head(20))\n",
    "#Это всё оставлю,т.к. не до конца ясно, откуда взялись пропуски и как лучше вычислять средние значения и медианы.\n",
    "\n",
    "#Думаю, что пропуски в метраже от и до локаций появились из-за того, \n",
    "#что данные были внесены не изначльно при конструировании таблицы."
   ]
  },
  {
   "cell_type": "code",
   "execution_count": 4,
   "metadata": {},
   "outputs": [],
   "source": [
    "data['floors_total']=data['floors_total'].fillna(data.groupby(['rooms','locality_name'])['floors_total'].transform('mean'))\n",
    "data['ceiling_height']=data['ceiling_height'].fillna(data.groupby(['rooms','locality_name'])['ceiling_height'].transform('mean'))\n",
    "\n",
    "\n"
   ]
  },
  {
   "cell_type": "code",
   "execution_count": 5,
   "metadata": {},
   "outputs": [],
   "source": [
    "data['days_exposition']=data['days_exposition'].fillna(data.groupby('first_day_exposition')['days_exposition'].transform('mean'))\n"
   ]
  },
  {
   "cell_type": "code",
   "execution_count": 6,
   "metadata": {},
   "outputs": [
    {
     "name": "stdout",
     "output_type": "stream",
     "text": [
      "<class 'pandas.core.frame.DataFrame'>\n",
      "RangeIndex: 23699 entries, 0 to 23698\n",
      "Data columns (total 22 columns):\n",
      "total_images            23699 non-null int64\n",
      "last_price              23699 non-null int64\n",
      "total_area              23699 non-null float64\n",
      "first_day_exposition    23699 non-null datetime64[ns]\n",
      "rooms                   23699 non-null int64\n",
      "ceiling_height          23391 non-null float64\n",
      "floors_total            23697 non-null float64\n",
      "living_area             21796 non-null float64\n",
      "floor                   23699 non-null int64\n",
      "is_apartment            23699 non-null bool\n",
      "studio                  23699 non-null bool\n",
      "open_plan               23699 non-null bool\n",
      "kitchen_area            21570 non-null float64\n",
      "balcony                 23699 non-null int64\n",
      "locality_name           23650 non-null object\n",
      "airports_nearest        18157 non-null float64\n",
      "cityCenters_nearest     18180 non-null float64\n",
      "parks_around3000        18181 non-null float64\n",
      "parks_nearest           8079 non-null float64\n",
      "ponds_around3000        18181 non-null float64\n",
      "ponds_nearest           9110 non-null float64\n",
      "days_exposition         23588 non-null float64\n",
      "dtypes: bool(3), datetime64[ns](1), float64(12), int64(5), object(1)\n",
      "memory usage: 3.5+ MB\n"
     ]
    }
   ],
   "source": [
    "data.info()"
   ]
  },
  {
   "cell_type": "code",
   "execution_count": 7,
   "metadata": {},
   "outputs": [
    {
     "name": "stdout",
     "output_type": "stream",
     "text": [
      "parks_nearest           15620\n",
      "ponds_nearest           14589\n",
      "airports_nearest         5542\n",
      "cityCenters_nearest      5519\n",
      "ponds_around3000         5518\n",
      "parks_around3000         5518\n",
      "kitchen_area             2129\n",
      "living_area              1903\n",
      "ceiling_height            308\n",
      "days_exposition           111\n",
      "locality_name              49\n",
      "floors_total                2\n",
      "last_price                  0\n",
      "total_area                  0\n",
      "first_day_exposition        0\n",
      "rooms                       0\n",
      "studio                      0\n",
      "floor                       0\n",
      "is_apartment                0\n",
      "open_plan                   0\n",
      "dtype: int64\n"
     ]
    }
   ],
   "source": [
    "missing_counts = data.isnull().sum().sort_values(ascending = False)\n",
    "print(missing_counts.head(20))"
   ]
  },
  {
   "cell_type": "markdown",
   "metadata": {},
   "source": [
    "### Шаг 3. Посчитайте и добавьте в таблицу"
   ]
  },
  {
   "cell_type": "code",
   "execution_count": 8,
   "metadata": {},
   "outputs": [],
   "source": [
    "#1)Цена кв.м:\n",
    "data['price_sqmeter'] = data['last_price'] / data['total_area']\n",
    "#В черновике посмотрел тип данных, лучше заменю на целочисленные занчения:\n",
    "data['price_sqmeter']=data['price_sqmeter'].astype('int')\n",
    "\n",
    "#2)Временные показатели\n",
    "data['weekday'] = data['first_day_exposition'].dt.weekday\n",
    "data['month'] = data['first_day_exposition'].dt.month\n",
    "data['year'] = data['first_day_exposition'].dt.year\n",
    "data['week'] = data['first_day_exposition'].dt.week\n",
    "\n",
    "#3)Этажи квартиры с вариантами\n",
    "def floor_category(row):\n",
    "    floors_total = row['floors_total']\n",
    "    floor = row['floor']\n",
    "    if floor == 1:\n",
    "        return 'первый'\n",
    "    elif floor == floors_total:\n",
    "        return 'последний'\n",
    "    elif 1 < floor < floors_total:\n",
    "        return 'другой'\n",
    "data['floor_category'] = data.apply(floor_category, axis = 1)\n",
    "data['floor_category']=data['floor_category'].fillna(value='')\n",
    "data.loc[data['floor_category']=='','floor_category']='другой'\n",
    "#4)Соотношение площадей:\n",
    "data['living_area_ratio'] = data['living_area'] / data['total_area']\n",
    "data['kitchen_area_ratio'] = data['kitchen_area'] / data['total_area']"
   ]
  },
  {
   "cell_type": "markdown",
   "metadata": {},
   "source": [
    "### Шаг 4. Проведите исследовательский анализ данных и выполните инструкции:"
   ]
  },
  {
   "cell_type": "code",
   "execution_count": 9,
   "metadata": {},
   "outputs": [
    {
     "data": {
      "text/plain": [
       "count    23699.000000\n",
       "mean        60.348651\n",
       "std         35.654083\n",
       "min         12.000000\n",
       "25%         40.000000\n",
       "50%         52.000000\n",
       "75%         69.900000\n",
       "max        900.000000\n",
       "Name: total_area, dtype: float64"
      ]
     },
     "execution_count": 9,
     "metadata": {},
     "output_type": "execute_result"
    },
    {
     "data": {
      "image/png": "[encoded data removed]",
      "text/plain": [
       "<Figure size 360x216 with 1 Axes>"
      ]
     },
     "metadata": {
      "needs_background": "light"
     },
     "output_type": "display_data"
    }
   ],
   "source": [
    "#1) 1. Общая площадь\n",
    "data.plot(y = 'total_area', kind = 'hist', bins = 100, grid=True, figsize = (5,3), range = (0,500))\n",
    "plt.title('Параметр: площадь')\n",
    "plt.xlabel('Общая площадь, кв.м')\n",
    "plt.ylabel('Частота объявлений')\n",
    "data['total_area'].describe()\n",
    "#data['total_area'].mean()\n",
    "#60.34865099793241"
   ]
  },
  {
   "cell_type": "code",
   "execution_count": 10,
   "metadata": {},
   "outputs": [
    {
     "data": {
      "text/plain": [
       "count     23699.000000\n",
       "mean       6541.548800\n",
       "std       10887.012837\n",
       "min          12.000000\n",
       "25%        3400.000000\n",
       "50%        4650.000000\n",
       "75%        6800.000000\n",
       "max      763000.000000\n",
       "Name: last_price, dtype: float64"
      ]
     },
     "execution_count": 10,
     "metadata": {},
     "output_type": "execute_result"
    },
    {
     "data": {
      "image/png": "[encoded data removed]",
      "text/plain": [
       "<Figure size 360x216 with 1 Axes>"
      ]
     },
     "metadata": {
      "needs_background": "light"
     },
     "output_type": "display_data"
    }
   ],
   "source": [
    "#2.цена\n",
    "data.plot(y = 'last_price', kind = 'hist', bins = 100, grid=True, range = (0,15000000), figsize = (5,3))\n",
    "plt.title('Параметр: цена')\n",
    "plt.xlabel('Цена от тыс. до млн. руб.')\n",
    "plt.ylabel('Частота объявлений')\n",
    "#Приведу в более понятный вид цены:\n",
    "data['last_price'] = (data[data['last_price'].notnull()]['last_price']/1000*1.0).round().astype(int)\n",
    "data['last_price'].describe()\n",
    "#data['last_price'].mean()\n",
    "#6541.548799527406"
   ]
  },
  {
   "cell_type": "code",
   "execution_count": 11,
   "metadata": {},
   "outputs": [
    {
     "data": {
      "text/plain": [
       "count    23699.000000\n",
       "mean         2.070636\n",
       "std          1.078405\n",
       "min          0.000000\n",
       "25%          1.000000\n",
       "50%          2.000000\n",
       "75%          3.000000\n",
       "max         19.000000\n",
       "Name: rooms, dtype: float64"
      ]
     },
     "execution_count": 11,
     "metadata": {},
     "output_type": "execute_result"
    },
    {
     "data": {
      "image/png": "[encoded data removed]",
      "text/plain": [
       "<Figure size 360x216 with 1 Axes>"
      ]
     },
     "metadata": {
      "needs_background": "light"
     },
     "output_type": "display_data"
    }
   ],
   "source": [
    "#3.число комнат\n",
    "data.plot(y = 'rooms', kind = 'hist', bins = 30, grid=True, figsize = (5,3))\n",
    "plt.title('Параметр: количество комнат')\n",
    "plt.xlabel('Количество комнат')\n",
    "plt.ylabel('Частота объявлений')\n",
    "data['rooms'].describe()\n",
    "#data['rooms'].mean()\n",
    "#2.070635891809781"
   ]
  },
  {
   "cell_type": "code",
   "execution_count": 12,
   "metadata": {},
   "outputs": [
    {
     "data": {
      "text/plain": [
       "count    23391.000000\n",
       "mean         2.774681\n",
       "std          1.052707\n",
       "min          1.000000\n",
       "25%          2.599038\n",
       "50%          2.700000\n",
       "75%          2.800000\n",
       "max        100.000000\n",
       "Name: ceiling_height, dtype: float64"
      ]
     },
     "execution_count": 12,
     "metadata": {},
     "output_type": "execute_result"
    },
    {
     "data": {
      "image/png": "[encoded data removed]",
      "text/plain": [
       "<Figure size 360x216 with 1 Axes>"
      ]
     },
     "metadata": {
      "needs_background": "light"
     },
     "output_type": "display_data"
    }
   ],
   "source": [
    "#4.высота потолков\n",
    "data.plot(y = 'ceiling_height', kind = 'hist', bins = 30, range = (2,5), grid=True, figsize = (5,3))\n",
    "plt.title('Параметр: высота потолков')\n",
    "plt.xlabel('Высота потолков в метрах')\n",
    "plt.ylabel('Частота объявлений')\n",
    "data['ceiling_height'].describe()\n",
    "#data['ceiling_height'].mean()\n",
    "#2.7356015021730875"
   ]
  },
  {
   "cell_type": "markdown",
   "metadata": {},
   "source": [
    "1. Площадь квартир варьируется от 12 до 900 кв.м., средня длинна квартир составляет 60 кв.м. (69 кв.м. имеют 75% квартир), есть несколько выбросов, но на целое представление данных они мало влияют.\n",
    "2. Средняя цена квартир 6,5 млн. Но квартиры варьируются от 12 тысяч до 763 млн, что очень странно выглядит.\n",
    "3. Количество комнат варьируется от 1 до 19, в среднем квартиры имеют 2 комнаты.\n",
    "4. Высота потолков в среднем 2,7 метра, есть аномальные метровые и 100 метровые потолки. "
   ]
  },
  {
   "cell_type": "markdown",
   "metadata": {},
   "source": [
    "1. Выбросы в площади: могли появиться из-за банальных ошибок в заполенении изначльного датафрейма, либо помимо квартир, сюда также заносились частные дома + квартиры с двумя этажами.\n",
    "2. С ценами , думаю, всё в порядке.\n",
    "3. 19 комнат это прямо вау - может не было точного числа комнат и данные заполнили исходя из метража квартир, но тогда странно какие комнаты по размеру. Возможно что это одна большая квартира, которая давно была раздроблена на коммуналку.\n",
    "4. Метровые потолки скорее всего возникли из-за недостаточной информации и просто были заполнены единицами, как и сто метровые. Но потолки в сто метров могли быть расчитаны из того, что квартира может включать в себя два этажа."
   ]
  },
  {
   "cell_type": "code",
   "execution_count": 13,
   "metadata": {},
   "outputs": [
    {
     "data": {
      "text/plain": [
       "count    23588.000000\n",
       "mean       167.950586\n",
       "std        213.617724\n",
       "min          1.000000\n",
       "25%         38.000000\n",
       "50%         86.000000\n",
       "75%        206.900000\n",
       "max       1580.000000\n",
       "Name: days_exposition, dtype: float64"
      ]
     },
     "execution_count": 13,
     "metadata": {},
     "output_type": "execute_result"
    },
    {
     "data": {
      "image/png": "[encoded data removed]",
      "text/plain": [
       "<Figure size 432x288 with 1 Axes>"
      ]
     },
     "metadata": {
      "needs_background": "light"
     },
     "output_type": "display_data"
    },
    {
     "data": {
      "image/png": "[encoded data removed]",
      "text/plain": [
       "<Figure size 432x288 with 1 Axes>"
      ]
     },
     "metadata": {
      "needs_background": "light"
     },
     "output_type": "display_data"
    }
   ],
   "source": [
    "#2)Время продажи квартир.\n",
    "data.plot(y = 'days_exposition', kind = 'hist', bins = 30, grid = True, range = (1,1600))\n",
    "data.plot(y = 'days_exposition', kind = 'hist', bins = 100, grid = True, range = (1,200))\n",
    "data['days_exposition'].describe()\n",
    "#Среднее значение.\n",
    "#data['days_exposition'].mean()\n",
    "#156.60884425503187\n",
    "\n",
    "#Медиана\n",
    "#data['days_exposition'].median()\n",
    "#74.0\n",
    "\n",
    "#Аномальные значения\n",
    "#data['days_exposition'].value_counts()\n",
    "#0       3181\n",
    "#45       880\n",
    "#60       538\n",
    "#7        234\n",
    "#30       208"
   ]
  },
  {
   "cell_type": "code",
   "execution_count": 14,
   "metadata": {},
   "outputs": [
    {
     "data": {
      "image/png": "[encoded data removed]",
      "text/plain": [
       "<Figure size 720x216 with 1 Axes>"
      ]
     },
     "metadata": {
      "needs_background": "light"
     },
     "output_type": "display_data"
    }
   ],
   "source": [
    "#Но что влияет на этот выборс между 45 и 60 днями:\n",
    "data.query('25<days_exposition<65')['days_exposition'].hist(bins=70, figsize=(10,3), ec='black')\n",
    "plt.title('Динамика снятия объявлений о продаже: проверка гипотезы о ключевых 15 днях')\n",
    "plt.xlabel('Календарные дни')\n",
    "plt.ylabel('Частота объявлений')\n",
    "plt.show()\n"
   ]
  },
  {
   "cell_type": "markdown",
   "metadata": {},
   "source": [
    "Здесь можно заметить, что разрыв между днями составляет 15 дней.Возможно эти \"всплески\" связаны с тем, что люди сами не закрывают свои объявления и есть какой-то автоматический счетчик на сайте. "
   ]
  },
  {
   "cell_type": "markdown",
   "metadata": {},
   "source": [
    "1. Похоже на распределение Пуассона.\n",
    "2. Среднее значение 156.\n",
    "3. Медиана 74.\n",
    "4. Аномальные дни: 7,30,45,60, 90 - наиболее популярное время снятия объявлений.\n",
    "5. Необычнайно долго то это где-то от 400(500) до 1580 дней - думается, что часть объявлений просто не закрыли.\n",
    "6. Можно считать нормальное количество дней от 1 до 400(500).\n",
    "7. Эти всплески на 45 и 60 днях можно объяснить тем, что сайт автоматически проверяет все объявления и каждые 15 дней закрывает забытые реализованные объявления (либо оператор опрашивает пользователей, либо приходит письмо на почту.\n"
   ]
  },
  {
   "cell_type": "code",
   "execution_count": 15,
   "metadata": {},
   "outputs": [
    {
     "data": {
      "text/plain": [
       "count    22541.000000\n",
       "mean       173.944210\n",
       "std        216.605858\n",
       "min          1.000000\n",
       "25%         40.000000\n",
       "50%         91.000000\n",
       "75%        216.000000\n",
       "max       1580.000000\n",
       "Name: days_exposition, dtype: float64"
      ]
     },
     "execution_count": 15,
     "metadata": {},
     "output_type": "execute_result"
    },
    {
     "data": {
      "image/png": "[encoded data removed]",
      "text/plain": [
       "<Figure size 432x288 with 1 Axes>"
      ]
     },
     "metadata": {
      "needs_background": "light"
     },
     "output_type": "display_data"
    },
    {
     "data": {
      "image/png": "[encoded data removed]",
      "text/plain": [
       "<Figure size 432x288 with 1 Axes>"
      ]
     },
     "metadata": {
      "needs_background": "light"
     },
     "output_type": "display_data"
    }
   ],
   "source": [
    "#3) Редкие и выбивающиеся значения\n",
    "#Исходя из прошлого шага аномальные значения убираю из дней объявлений.\n",
    "good_data = data.query('days_exposition != 45 and days_exposition != 30 and days_exposition != 60 and days_exposition != 90 and days_exposition != 7 and days_exposition != 0')\n",
    "good_data.plot(y = 'days_exposition', kind = 'hist', bins = 30, grid = True, range = (1,1600))\n",
    "good_data.plot(y = 'days_exposition', kind = 'hist', bins = 100, grid = True, range = (1,200))\n",
    "good_data['days_exposition'].describe()"
   ]
  },
  {
   "cell_type": "markdown",
   "metadata": {},
   "source": [
    "При очищении данных увеличились значения медиан и средних значений (114 / 195) и стали более равномерно распределены."
   ]
  },
  {
   "cell_type": "code",
   "execution_count": 16,
   "metadata": {},
   "outputs": [
    {
     "data": {
      "text/plain": [
       "0.30196014387792547"
      ]
     },
     "execution_count": 16,
     "metadata": {},
     "output_type": "execute_result"
    },
    {
     "data": {
      "image/png": "[encoded data removed]",
      "text/plain": [
       "<Figure size 432x288 with 1 Axes>"
      ]
     },
     "metadata": {
      "needs_background": "light"
     },
     "output_type": "display_data"
    }
   ],
   "source": [
    "#4)Что влияет на стоимость квартиры\n",
    "#За квадратный метр\n",
    "pivot_table_total_area = data.pivot_table(index = 'total_area', values = 'price_sqmeter', aggfunc = ['mean', 'count', 'median'])\n",
    "pivot_table_total_area.columns = ['mean', 'count', 'median']\n",
    "pivot_table_total_area.plot(y = 'median', style = 'o')\n",
    "\n",
    "pivot_table_total_area.sort_values('median', ascending = False)\n",
    "\n",
    "data['total_area'].corr(data['price_sqmeter'])"
   ]
  },
  {
   "cell_type": "markdown",
   "metadata": {},
   "source": [
    "Можно увидеть параодкс - стоимость не сильно возрастает от площади"
   ]
  },
  {
   "cell_type": "code",
   "execution_count": 17,
   "metadata": {},
   "outputs": [
    {
     "data": {
      "text/plain": [
       "0.6536750984527502"
      ]
     },
     "execution_count": 17,
     "metadata": {},
     "output_type": "execute_result"
    },
    {
     "data": {
      "image/png": "[encoded data removed]",
      "text/plain": [
       "<Figure size 432x288 with 1 Axes>"
      ]
     },
     "metadata": {
      "needs_background": "light"
     },
     "output_type": "display_data"
    }
   ],
   "source": [
    "pivot_table_total_area = data.pivot_table(index = 'total_area', values = 'last_price', aggfunc = ['mean', 'count', 'median'])\n",
    "pivot_table_total_area.columns = ['mean', 'count', 'median']\n",
    "pivot_table_total_area.plot(y = 'median', style = 'o')\n",
    "\n",
    "pivot_table_total_area.sort_values('median', ascending = False)\n",
    "\n",
    "data['total_area'].corr(data['last_price'])"
   ]
  },
  {
   "cell_type": "code",
   "execution_count": 18,
   "metadata": {},
   "outputs": [
    {
     "data": {
      "text/html": [
       "<div>\n",
       "<style scoped>\n",
       "    .dataframe tbody tr th:only-of-type {\n",
       "        vertical-align: middle;\n",
       "    }\n",
       "\n",
       "    .dataframe tbody tr th {\n",
       "        vertical-align: top;\n",
       "    }\n",
       "\n",
       "    .dataframe thead th {\n",
       "        text-align: right;\n",
       "    }\n",
       "</style>\n",
       "<table border=\"1\" class=\"dataframe\">\n",
       "  <thead>\n",
       "    <tr style=\"text-align: right;\">\n",
       "      <th></th>\n",
       "      <th>mean</th>\n",
       "      <th>count</th>\n",
       "      <th>median</th>\n",
       "    </tr>\n",
       "    <tr>\n",
       "      <th>floor_category</th>\n",
       "      <th></th>\n",
       "      <th></th>\n",
       "      <th></th>\n",
       "    </tr>\n",
       "  </thead>\n",
       "  <tbody>\n",
       "    <tr>\n",
       "      <td>другой</td>\n",
       "      <td>103486.293305</td>\n",
       "      <td>17446</td>\n",
       "      <td>98295</td>\n",
       "    </tr>\n",
       "    <tr>\n",
       "      <td>последний</td>\n",
       "      <td>93410.267686</td>\n",
       "      <td>3336</td>\n",
       "      <td>87777</td>\n",
       "    </tr>\n",
       "    <tr>\n",
       "      <td>первый</td>\n",
       "      <td>81983.111759</td>\n",
       "      <td>2917</td>\n",
       "      <td>81223</td>\n",
       "    </tr>\n",
       "  </tbody>\n",
       "</table>\n",
       "</div>"
      ],
      "text/plain": [
       "                         mean  count  median\n",
       "floor_category                              \n",
       "другой          103486.293305  17446   98295\n",
       "последний        93410.267686   3336   87777\n",
       "первый           81983.111759   2917   81223"
      ]
     },
     "execution_count": 18,
     "metadata": {},
     "output_type": "execute_result"
    },
    {
     "data": {
      "image/png": "[encoded data removed]",
      "text/plain": [
       "<Figure size 432x288 with 1 Axes>"
      ]
     },
     "metadata": {
      "needs_background": "light"
     },
     "output_type": "display_data"
    }
   ],
   "source": [
    "# Разница цен между этажами.\n",
    "pivot_table_floor_category = data.pivot_table(index = 'floor_category', values = 'price_sqmeter', aggfunc = ['mean', 'count', 'median'])\n",
    "pivot_table_floor_category.columns = ['mean', 'count', 'median']\n",
    "pivot_table_floor_category.plot(y = 'median')\n",
    "pivot_table_floor_category.sort_values('median', ascending = False)"
   ]
  },
  {
   "cell_type": "markdown",
   "metadata": {},
   "source": [
    "На первом этаже квартиры чуть дешевле.\n"
   ]
  },
  {
   "cell_type": "code",
   "execution_count": 19,
   "metadata": {},
   "outputs": [
    {
     "data": {
      "text/plain": [
       "0.0554194996705922"
      ]
     },
     "execution_count": 19,
     "metadata": {},
     "output_type": "execute_result"
    },
    {
     "data": {
      "image/png": "[encoded data removed]",
      "text/plain": [
       "<Figure size 432x288 with 1 Axes>"
      ]
     },
     "metadata": {
      "needs_background": "light"
     },
     "output_type": "display_data"
    }
   ],
   "source": [
    "#Стоимость от комнат\n",
    "pivot_table_rooms = data.pivot_table(index = 'rooms', values = 'price_sqmeter', aggfunc = ['mean', 'count', 'median'])\n",
    "pivot_table_rooms.columns = ['mean', 'count', 'median']\n",
    "pivot_table_rooms.query('count > 50').plot(y = 'median')\n",
    "pivot_table_rooms.query('count > 50').sort_values('median', ascending = False)\n",
    "data['rooms'].corr(data['price_sqmeter'])"
   ]
  },
  {
   "cell_type": "markdown",
   "metadata": {},
   "source": [
    "3-х комнатные кваритры оказались дешевле, думаю это связанно с практической составляющей - 3 комнаты идеально подходят для всех людей. Можно сказать, что это идеальный стандарт квартир."
   ]
  },
  {
   "cell_type": "code",
   "execution_count": 20,
   "metadata": {},
   "outputs": [
    {
     "data": {
      "text/plain": [
       "-0.3179507368286467"
      ]
     },
     "execution_count": 20,
     "metadata": {},
     "output_type": "execute_result"
    },
    {
     "data": {
      "image/png": "[encoded data removed]",
      "text/plain": [
       "<Figure size 432x288 with 1 Axes>"
      ]
     },
     "metadata": {
      "needs_background": "light"
     },
     "output_type": "display_data"
    }
   ],
   "source": [
    "#Стоимость от удаленности от центра\n",
    "data.plot(kind = 'scatter', y = 'price_sqmeter', x = 'cityCenters_nearest', alpha = 0.3)\n",
    "\n",
    "data['cityCenters_nearest'].corr(data['price_sqmeter'])"
   ]
  },
  {
   "cell_type": "markdown",
   "metadata": {},
   "source": [
    "Ну тут стандартно: чем ближе к центру, тем выше стоимость."
   ]
  },
  {
   "cell_type": "code",
   "execution_count": 21,
   "metadata": {},
   "outputs": [
    {
     "data": {
      "text/html": [
       "<div>\n",
       "<style scoped>\n",
       "    .dataframe tbody tr th:only-of-type {\n",
       "        vertical-align: middle;\n",
       "    }\n",
       "\n",
       "    .dataframe tbody tr th {\n",
       "        vertical-align: top;\n",
       "    }\n",
       "\n",
       "    .dataframe thead th {\n",
       "        text-align: right;\n",
       "    }\n",
       "</style>\n",
       "<table border=\"1\" class=\"dataframe\">\n",
       "  <thead>\n",
       "    <tr style=\"text-align: right;\">\n",
       "      <th></th>\n",
       "      <th>mean</th>\n",
       "      <th>count</th>\n",
       "      <th>median</th>\n",
       "    </tr>\n",
       "    <tr>\n",
       "      <th>year</th>\n",
       "      <th></th>\n",
       "      <th></th>\n",
       "      <th></th>\n",
       "    </tr>\n",
       "  </thead>\n",
       "  <tbody>\n",
       "    <tr>\n",
       "      <td>2014</td>\n",
       "      <td>124830.000000</td>\n",
       "      <td>137</td>\n",
       "      <td>107000.0</td>\n",
       "    </tr>\n",
       "    <tr>\n",
       "      <td>2019</td>\n",
       "      <td>107123.332060</td>\n",
       "      <td>2879</td>\n",
       "      <td>103305.0</td>\n",
       "    </tr>\n",
       "    <tr>\n",
       "      <td>2018</td>\n",
       "      <td>97773.107290</td>\n",
       "      <td>8519</td>\n",
       "      <td>95689.0</td>\n",
       "    </tr>\n",
       "    <tr>\n",
       "      <td>2015</td>\n",
       "      <td>104613.756507</td>\n",
       "      <td>1191</td>\n",
       "      <td>93414.0</td>\n",
       "    </tr>\n",
       "    <tr>\n",
       "      <td>2017</td>\n",
       "      <td>97621.434188</td>\n",
       "      <td>8190</td>\n",
       "      <td>92564.5</td>\n",
       "    </tr>\n",
       "    <tr>\n",
       "      <td>2016</td>\n",
       "      <td>98321.900467</td>\n",
       "      <td>2783</td>\n",
       "      <td>91743.0</td>\n",
       "    </tr>\n",
       "  </tbody>\n",
       "</table>\n",
       "</div>"
      ],
      "text/plain": [
       "               mean  count    median\n",
       "year                                \n",
       "2014  124830.000000    137  107000.0\n",
       "2019  107123.332060   2879  103305.0\n",
       "2018   97773.107290   8519   95689.0\n",
       "2015  104613.756507   1191   93414.0\n",
       "2017   97621.434188   8190   92564.5\n",
       "2016   98321.900467   2783   91743.0"
      ]
     },
     "execution_count": 21,
     "metadata": {},
     "output_type": "execute_result"
    },
    {
     "data": {
      "image/png": "[encoded data removed]",
      "text/plain": [
       "<Figure size 432x288 with 1 Axes>"
      ]
     },
     "metadata": {
      "needs_background": "light"
     },
     "output_type": "display_data"
    }
   ],
   "source": [
    "#Дата размещения: год\n",
    "pivot_table_year = data.pivot_table(index = 'year', values = 'price_sqmeter', aggfunc = ['mean', 'count', 'median'])\n",
    "pivot_table_year .columns = ['mean', 'count', 'median']\n",
    "pivot_table_year .plot(y = 'median')\n",
    "\n",
    "pivot_table_year .sort_values('median', ascending = False)"
   ]
  },
  {
   "cell_type": "markdown",
   "metadata": {},
   "source": [
    "Цены на квартиры падали с 14 по 16 года, думаю, связанно с экономической неопределенностью того времени и началом экономического кризиса. А вот далее, научившись жить в новой системе цен и вещей, люди снова стали формировать предложение и спрос."
   ]
  },
  {
   "cell_type": "code",
   "execution_count": 22,
   "metadata": {},
   "outputs": [
    {
     "data": {
      "text/html": [
       "<div>\n",
       "<style scoped>\n",
       "    .dataframe tbody tr th:only-of-type {\n",
       "        vertical-align: middle;\n",
       "    }\n",
       "\n",
       "    .dataframe tbody tr th {\n",
       "        vertical-align: top;\n",
       "    }\n",
       "\n",
       "    .dataframe thead th {\n",
       "        text-align: right;\n",
       "    }\n",
       "</style>\n",
       "<table border=\"1\" class=\"dataframe\">\n",
       "  <thead>\n",
       "    <tr style=\"text-align: right;\">\n",
       "      <th></th>\n",
       "      <th>mean</th>\n",
       "      <th>count</th>\n",
       "      <th>median</th>\n",
       "    </tr>\n",
       "    <tr>\n",
       "      <th>month</th>\n",
       "      <th></th>\n",
       "      <th></th>\n",
       "      <th></th>\n",
       "    </tr>\n",
       "  </thead>\n",
       "  <tbody>\n",
       "    <tr>\n",
       "      <td>4</td>\n",
       "      <td>101948.567045</td>\n",
       "      <td>2379</td>\n",
       "      <td>96451</td>\n",
       "    </tr>\n",
       "    <tr>\n",
       "      <td>8</td>\n",
       "      <td>100110.094037</td>\n",
       "      <td>1744</td>\n",
       "      <td>96026</td>\n",
       "    </tr>\n",
       "    <tr>\n",
       "      <td>9</td>\n",
       "      <td>100463.814740</td>\n",
       "      <td>1981</td>\n",
       "      <td>95607</td>\n",
       "    </tr>\n",
       "    <tr>\n",
       "      <td>11</td>\n",
       "      <td>99230.427246</td>\n",
       "      <td>2371</td>\n",
       "      <td>95588</td>\n",
       "    </tr>\n",
       "    <tr>\n",
       "      <td>3</td>\n",
       "      <td>98972.768844</td>\n",
       "      <td>2587</td>\n",
       "      <td>95238</td>\n",
       "    </tr>\n",
       "    <tr>\n",
       "      <td>1</td>\n",
       "      <td>99862.139333</td>\n",
       "      <td>1500</td>\n",
       "      <td>95222</td>\n",
       "    </tr>\n",
       "    <tr>\n",
       "      <td>2</td>\n",
       "      <td>98768.292045</td>\n",
       "      <td>2640</td>\n",
       "      <td>95000</td>\n",
       "    </tr>\n",
       "    <tr>\n",
       "      <td>7</td>\n",
       "      <td>99625.190560</td>\n",
       "      <td>1695</td>\n",
       "      <td>95000</td>\n",
       "    </tr>\n",
       "    <tr>\n",
       "      <td>12</td>\n",
       "      <td>99574.280926</td>\n",
       "      <td>1641</td>\n",
       "      <td>94262</td>\n",
       "    </tr>\n",
       "    <tr>\n",
       "      <td>10</td>\n",
       "      <td>97933.448049</td>\n",
       "      <td>2127</td>\n",
       "      <td>94202</td>\n",
       "    </tr>\n",
       "    <tr>\n",
       "      <td>5</td>\n",
       "      <td>98543.340659</td>\n",
       "      <td>1274</td>\n",
       "      <td>92857</td>\n",
       "    </tr>\n",
       "    <tr>\n",
       "      <td>6</td>\n",
       "      <td>97762.870455</td>\n",
       "      <td>1760</td>\n",
       "      <td>92799</td>\n",
       "    </tr>\n",
       "  </tbody>\n",
       "</table>\n",
       "</div>"
      ],
      "text/plain": [
       "                mean  count  median\n",
       "month                              \n",
       "4      101948.567045   2379   96451\n",
       "8      100110.094037   1744   96026\n",
       "9      100463.814740   1981   95607\n",
       "11      99230.427246   2371   95588\n",
       "3       98972.768844   2587   95238\n",
       "1       99862.139333   1500   95222\n",
       "2       98768.292045   2640   95000\n",
       "7       99625.190560   1695   95000\n",
       "12      99574.280926   1641   94262\n",
       "10      97933.448049   2127   94202\n",
       "5       98543.340659   1274   92857\n",
       "6       97762.870455   1760   92799"
      ]
     },
     "execution_count": 22,
     "metadata": {},
     "output_type": "execute_result"
    },
    {
     "data": {
      "image/png": "[encoded data removed]",
      "text/plain": [
       "<Figure size 432x288 with 1 Axes>"
      ]
     },
     "metadata": {
      "needs_background": "light"
     },
     "output_type": "display_data"
    }
   ],
   "source": [
    "#Дата размещения: месяц\n",
    "pivot_table_month = data.pivot_table(index = 'month', values = 'price_sqmeter', aggfunc = ['mean', 'count', 'median'])\n",
    "pivot_table_month.columns = ['mean', 'count', 'median']\n",
    "pivot_table_month.plot(y = 'median')\n",
    "\n",
    "pivot_table_month.sort_values('median', ascending = False)"
   ]
  },
  {
   "cell_type": "markdown",
   "metadata": {},
   "source": [
    "Самая высокая цена на кв.метр в апреле, а самая низкая в мае и июне - можно назвать \"жилищной сезонностью\". Возможно люди продают свою недвижимость перед летним сезоном для реализации планов постройки дач и загородных домов."
   ]
  },
  {
   "cell_type": "code",
   "execution_count": 23,
   "metadata": {},
   "outputs": [
    {
     "data": {
      "text/html": [
       "<div>\n",
       "<style scoped>\n",
       "    .dataframe tbody tr th:only-of-type {\n",
       "        vertical-align: middle;\n",
       "    }\n",
       "\n",
       "    .dataframe tbody tr th {\n",
       "        vertical-align: top;\n",
       "    }\n",
       "\n",
       "    .dataframe thead th {\n",
       "        text-align: right;\n",
       "    }\n",
       "</style>\n",
       "<table border=\"1\" class=\"dataframe\">\n",
       "  <thead>\n",
       "    <tr style=\"text-align: right;\">\n",
       "      <th></th>\n",
       "      <th>mean</th>\n",
       "      <th>count</th>\n",
       "      <th>median</th>\n",
       "    </tr>\n",
       "    <tr>\n",
       "      <th>weekday</th>\n",
       "      <th></th>\n",
       "      <th></th>\n",
       "      <th></th>\n",
       "    </tr>\n",
       "  </thead>\n",
       "  <tbody>\n",
       "    <tr>\n",
       "      <td>1</td>\n",
       "      <td>99734.089410</td>\n",
       "      <td>4183</td>\n",
       "      <td>95634.0</td>\n",
       "    </tr>\n",
       "    <tr>\n",
       "      <td>2</td>\n",
       "      <td>99616.731002</td>\n",
       "      <td>3974</td>\n",
       "      <td>95473.0</td>\n",
       "    </tr>\n",
       "    <tr>\n",
       "      <td>3</td>\n",
       "      <td>100162.466356</td>\n",
       "      <td>4295</td>\n",
       "      <td>95143.0</td>\n",
       "    </tr>\n",
       "    <tr>\n",
       "      <td>0</td>\n",
       "      <td>99437.994463</td>\n",
       "      <td>3612</td>\n",
       "      <td>94688.0</td>\n",
       "    </tr>\n",
       "    <tr>\n",
       "      <td>4</td>\n",
       "      <td>99011.697000</td>\n",
       "      <td>4000</td>\n",
       "      <td>94616.0</td>\n",
       "    </tr>\n",
       "    <tr>\n",
       "      <td>6</td>\n",
       "      <td>97707.917010</td>\n",
       "      <td>1699</td>\n",
       "      <td>94501.0</td>\n",
       "    </tr>\n",
       "    <tr>\n",
       "      <td>5</td>\n",
       "      <td>99017.722107</td>\n",
       "      <td>1936</td>\n",
       "      <td>93545.5</td>\n",
       "    </tr>\n",
       "  </tbody>\n",
       "</table>\n",
       "</div>"
      ],
      "text/plain": [
       "                  mean  count   median\n",
       "weekday                               \n",
       "1         99734.089410   4183  95634.0\n",
       "2         99616.731002   3974  95473.0\n",
       "3        100162.466356   4295  95143.0\n",
       "0         99437.994463   3612  94688.0\n",
       "4         99011.697000   4000  94616.0\n",
       "6         97707.917010   1699  94501.0\n",
       "5         99017.722107   1936  93545.5"
      ]
     },
     "execution_count": 23,
     "metadata": {},
     "output_type": "execute_result"
    },
    {
     "data": {
      "image/png": "[encoded data removed]",
      "text/plain": [
       "<Figure size 432x288 with 1 Axes>"
      ]
     },
     "metadata": {
      "needs_background": "light"
     },
     "output_type": "display_data"
    }
   ],
   "source": [
    "#Дата размещения: день\n",
    "pivot_table_weekday = data.pivot_table(index = 'weekday', values = 'price_sqmeter', aggfunc = ['mean', 'count', 'median'])\n",
    "pivot_table_weekday.columns = ['mean', 'count', 'median']\n",
    "pivot_table_weekday.plot(y = 'median')\n",
    "\n",
    "pivot_table_weekday.sort_values('median', ascending = False)"
   ]
  },
  {
   "cell_type": "markdown",
   "metadata": {},
   "source": [
    "Цены высокие формируются в рабочее время - может это связано с тем, что общая рабочая активность происходит в момент рабочих дней."
   ]
  },
  {
   "cell_type": "code",
   "execution_count": 45,
   "metadata": {},
   "outputs": [
    {
     "data": {
      "image/png": "[encoded data removed]",
      "text/plain": [
       "<Figure size 432x288 with 1 Axes>"
      ]
     },
     "metadata": {
      "needs_background": "light"
     },
     "output_type": "display_data"
    },
    {
     "data": {
      "image/png": "[encoded data removed]",
      "text/plain": [
       "<Figure size 432x288 with 1 Axes>"
      ]
     },
     "metadata": {
      "needs_background": "light"
     },
     "output_type": "display_data"
    },
    {
     "data": {
      "image/png": "[encoded data removed]",
      "text/plain": [
       "<Figure size 432x288 with 1 Axes>"
      ]
     },
     "metadata": {
      "needs_background": "light"
     },
     "output_type": "display_data"
    },
    {
     "data": {
      "image/png": "[encoded data removed]",
      "text/plain": [
       "<Figure size 432x288 with 1 Axes>"
      ]
     },
     "metadata": {
      "needs_background": "light"
     },
     "output_type": "display_data"
    },
    {
     "data": {
      "image/png": "[encoded data removed]",
      "text/plain": [
       "<Figure size 432x288 with 1 Axes>"
      ]
     },
     "metadata": {
      "needs_background": "light"
     },
     "output_type": "display_data"
    },
    {
     "data": {
      "image/png": "[encoded data removed]",
      "text/plain": [
       "<Figure size 432x288 with 1 Axes>"
      ]
     },
     "metadata": {
      "needs_background": "light"
     },
     "output_type": "display_data"
    }
   ],
   "source": [
    "#Гипотеза: различие цен по дням в нескольких неделях.\n",
    "for n in [5,13,28,37,45,50]:\n",
    "    plt.plot(data[(data['week']==n)&(data['year']==2017)].groupby('weekday')['price_sqmeter'].mean())\n",
    "    plt.title('Динамика активности по дням: проверка гипотезы о \"сезонности в днях недели\"')\n",
    "    plt.xlabel('Календарные дни')\n",
    "    plt.ylabel('Частота объявлений')\n",
    "    plt.show()"
   ]
  },
  {
   "cell_type": "markdown",
   "metadata": {},
   "source": [
    "1. На 5-ой неделе можно заметить, что показатели схожи с медианными, но в четверг показатели \"проседают\". (~примерно последняя неделя января-начало февраля)\n",
    "2. 13-ая неделя отмечается высоким динамизмом и пик активности приходится на выходные дни.(15-20-е числа марта)\n",
    "3. 28-ая неделя близка к медианным значениям, но пик активности - понедельник, четверг и птяница / вторник-среда самые низкие показатели, а в выходные дни активность идет на спад. (первые числа июля)\n",
    "4. 37-ая неделя больше похожа не медианное знгачение по дням, но со спадом активности в среду. (конец августа-начало сентября)\n",
    "5. 45-ая неделя соверещшенно иная динамика - активность начинается с середины недели. (первые числа ноября)\n",
    "6. 50-ая неделя в течении раюочей недели динамика средняя (в понедельник самая низкая), наибольшая активность с пятницы до воскресенья. (первые числа декабря)\n",
    "\n",
    "Итог: Если смотреть в среднем на показатели они близки к тем медианным значениям, но как оказалось здесь больше влияет сезон года (весенние прздники и планы на лето, летние отпуска, осенне-зимний период планов на следующий год - в каждом сезоне есть свои активные дни, будь то дни в рабочей недели или выходные дни)."
   ]
  },
  {
   "cell_type": "code",
   "execution_count": 25,
   "metadata": {},
   "outputs": [
    {
     "data": {
      "text/html": [
       "<div>\n",
       "<style scoped>\n",
       "    .dataframe tbody tr th:only-of-type {\n",
       "        vertical-align: middle;\n",
       "    }\n",
       "\n",
       "    .dataframe tbody tr th {\n",
       "        vertical-align: top;\n",
       "    }\n",
       "\n",
       "    .dataframe thead th {\n",
       "        text-align: right;\n",
       "    }\n",
       "</style>\n",
       "<table border=\"1\" class=\"dataframe\">\n",
       "  <thead>\n",
       "    <tr style=\"text-align: right;\">\n",
       "      <th></th>\n",
       "      <th>mean</th>\n",
       "      <th>count</th>\n",
       "      <th>median</th>\n",
       "    </tr>\n",
       "    <tr>\n",
       "      <th>week</th>\n",
       "      <th></th>\n",
       "      <th></th>\n",
       "      <th></th>\n",
       "    </tr>\n",
       "  </thead>\n",
       "  <tbody>\n",
       "    <tr>\n",
       "      <td>53</td>\n",
       "      <td>145084.727273</td>\n",
       "      <td>11</td>\n",
       "      <td>122340.0</td>\n",
       "    </tr>\n",
       "    <tr>\n",
       "      <td>11</td>\n",
       "      <td>102308.309707</td>\n",
       "      <td>649</td>\n",
       "      <td>100000.0</td>\n",
       "    </tr>\n",
       "    <tr>\n",
       "      <td>34</td>\n",
       "      <td>104726.097493</td>\n",
       "      <td>359</td>\n",
       "      <td>99137.0</td>\n",
       "    </tr>\n",
       "    <tr>\n",
       "      <td>18</td>\n",
       "      <td>107962.329341</td>\n",
       "      <td>334</td>\n",
       "      <td>99121.5</td>\n",
       "    </tr>\n",
       "    <tr>\n",
       "      <td>38</td>\n",
       "      <td>102616.560209</td>\n",
       "      <td>382</td>\n",
       "      <td>98933.5</td>\n",
       "    </tr>\n",
       "    <tr>\n",
       "      <td>32</td>\n",
       "      <td>101037.025172</td>\n",
       "      <td>437</td>\n",
       "      <td>98684.0</td>\n",
       "    </tr>\n",
       "    <tr>\n",
       "      <td>4</td>\n",
       "      <td>105362.080488</td>\n",
       "      <td>410</td>\n",
       "      <td>98511.5</td>\n",
       "    </tr>\n",
       "    <tr>\n",
       "      <td>30</td>\n",
       "      <td>103589.605714</td>\n",
       "      <td>350</td>\n",
       "      <td>98039.5</td>\n",
       "    </tr>\n",
       "    <tr>\n",
       "      <td>15</td>\n",
       "      <td>100679.803879</td>\n",
       "      <td>464</td>\n",
       "      <td>97527.0</td>\n",
       "    </tr>\n",
       "    <tr>\n",
       "      <td>35</td>\n",
       "      <td>101823.317808</td>\n",
       "      <td>365</td>\n",
       "      <td>97500.0</td>\n",
       "    </tr>\n",
       "    <tr>\n",
       "      <td>28</td>\n",
       "      <td>107358.770115</td>\n",
       "      <td>435</td>\n",
       "      <td>97183.0</td>\n",
       "    </tr>\n",
       "    <tr>\n",
       "      <td>36</td>\n",
       "      <td>99621.145022</td>\n",
       "      <td>462</td>\n",
       "      <td>97072.5</td>\n",
       "    </tr>\n",
       "    <tr>\n",
       "      <td>9</td>\n",
       "      <td>101539.282416</td>\n",
       "      <td>563</td>\n",
       "      <td>96491.0</td>\n",
       "    </tr>\n",
       "    <tr>\n",
       "      <td>50</td>\n",
       "      <td>102665.783394</td>\n",
       "      <td>554</td>\n",
       "      <td>96193.0</td>\n",
       "    </tr>\n",
       "    <tr>\n",
       "      <td>45</td>\n",
       "      <td>98014.465638</td>\n",
       "      <td>713</td>\n",
       "      <td>96141.0</td>\n",
       "    </tr>\n",
       "    <tr>\n",
       "      <td>46</td>\n",
       "      <td>101390.432432</td>\n",
       "      <td>518</td>\n",
       "      <td>96066.0</td>\n",
       "    </tr>\n",
       "    <tr>\n",
       "      <td>44</td>\n",
       "      <td>98996.658947</td>\n",
       "      <td>475</td>\n",
       "      <td>96052.0</td>\n",
       "    </tr>\n",
       "    <tr>\n",
       "      <td>8</td>\n",
       "      <td>97086.564195</td>\n",
       "      <td>553</td>\n",
       "      <td>96000.0</td>\n",
       "    </tr>\n",
       "    <tr>\n",
       "      <td>16</td>\n",
       "      <td>98183.046794</td>\n",
       "      <td>577</td>\n",
       "      <td>95744.0</td>\n",
       "    </tr>\n",
       "    <tr>\n",
       "      <td>14</td>\n",
       "      <td>103231.241221</td>\n",
       "      <td>655</td>\n",
       "      <td>95541.0</td>\n",
       "    </tr>\n",
       "    <tr>\n",
       "      <td>48</td>\n",
       "      <td>99680.976139</td>\n",
       "      <td>461</td>\n",
       "      <td>95541.0</td>\n",
       "    </tr>\n",
       "    <tr>\n",
       "      <td>17</td>\n",
       "      <td>99953.742173</td>\n",
       "      <td>543</td>\n",
       "      <td>95238.0</td>\n",
       "    </tr>\n",
       "    <tr>\n",
       "      <td>41</td>\n",
       "      <td>100795.005576</td>\n",
       "      <td>538</td>\n",
       "      <td>95206.0</td>\n",
       "    </tr>\n",
       "    <tr>\n",
       "      <td>2</td>\n",
       "      <td>98058.041002</td>\n",
       "      <td>439</td>\n",
       "      <td>95155.0</td>\n",
       "    </tr>\n",
       "    <tr>\n",
       "      <td>19</td>\n",
       "      <td>102760.278195</td>\n",
       "      <td>266</td>\n",
       "      <td>95129.5</td>\n",
       "    </tr>\n",
       "    <tr>\n",
       "      <td>10</td>\n",
       "      <td>96557.882075</td>\n",
       "      <td>424</td>\n",
       "      <td>95095.0</td>\n",
       "    </tr>\n",
       "    <tr>\n",
       "      <td>7</td>\n",
       "      <td>100430.944795</td>\n",
       "      <td>634</td>\n",
       "      <td>94913.5</td>\n",
       "    </tr>\n",
       "    <tr>\n",
       "      <td>51</td>\n",
       "      <td>99222.080925</td>\n",
       "      <td>346</td>\n",
       "      <td>94647.5</td>\n",
       "    </tr>\n",
       "    <tr>\n",
       "      <td>13</td>\n",
       "      <td>99941.601770</td>\n",
       "      <td>678</td>\n",
       "      <td>94579.5</td>\n",
       "    </tr>\n",
       "    <tr>\n",
       "      <td>26</td>\n",
       "      <td>99184.655031</td>\n",
       "      <td>487</td>\n",
       "      <td>94235.0</td>\n",
       "    </tr>\n",
       "    <tr>\n",
       "      <td>37</td>\n",
       "      <td>96112.399563</td>\n",
       "      <td>458</td>\n",
       "      <td>94224.5</td>\n",
       "    </tr>\n",
       "    <tr>\n",
       "      <td>40</td>\n",
       "      <td>96385.757919</td>\n",
       "      <td>442</td>\n",
       "      <td>94055.5</td>\n",
       "    </tr>\n",
       "    <tr>\n",
       "      <td>43</td>\n",
       "      <td>97851.690987</td>\n",
       "      <td>466</td>\n",
       "      <td>94040.5</td>\n",
       "    </tr>\n",
       "    <tr>\n",
       "      <td>42</td>\n",
       "      <td>95853.609375</td>\n",
       "      <td>448</td>\n",
       "      <td>93750.0</td>\n",
       "    </tr>\n",
       "    <tr>\n",
       "      <td>29</td>\n",
       "      <td>96346.492625</td>\n",
       "      <td>339</td>\n",
       "      <td>93750.0</td>\n",
       "    </tr>\n",
       "    <tr>\n",
       "      <td>27</td>\n",
       "      <td>93863.483544</td>\n",
       "      <td>395</td>\n",
       "      <td>93693.0</td>\n",
       "    </tr>\n",
       "    <tr>\n",
       "      <td>39</td>\n",
       "      <td>103125.968543</td>\n",
       "      <td>604</td>\n",
       "      <td>93687.5</td>\n",
       "    </tr>\n",
       "    <tr>\n",
       "      <td>3</td>\n",
       "      <td>96545.810585</td>\n",
       "      <td>359</td>\n",
       "      <td>93548.0</td>\n",
       "    </tr>\n",
       "    <tr>\n",
       "      <td>33</td>\n",
       "      <td>97842.032407</td>\n",
       "      <td>432</td>\n",
       "      <td>93400.5</td>\n",
       "    </tr>\n",
       "    <tr>\n",
       "      <td>25</td>\n",
       "      <td>99290.405242</td>\n",
       "      <td>496</td>\n",
       "      <td>93395.5</td>\n",
       "    </tr>\n",
       "    <tr>\n",
       "      <td>6</td>\n",
       "      <td>97268.706690</td>\n",
       "      <td>583</td>\n",
       "      <td>93220.0</td>\n",
       "    </tr>\n",
       "    <tr>\n",
       "      <td>5</td>\n",
       "      <td>97357.713450</td>\n",
       "      <td>684</td>\n",
       "      <td>93169.0</td>\n",
       "    </tr>\n",
       "    <tr>\n",
       "      <td>12</td>\n",
       "      <td>98811.185583</td>\n",
       "      <td>652</td>\n",
       "      <td>92893.0</td>\n",
       "    </tr>\n",
       "    <tr>\n",
       "      <td>22</td>\n",
       "      <td>95491.785256</td>\n",
       "      <td>312</td>\n",
       "      <td>92881.5</td>\n",
       "    </tr>\n",
       "    <tr>\n",
       "      <td>24</td>\n",
       "      <td>96828.697548</td>\n",
       "      <td>367</td>\n",
       "      <td>92647.0</td>\n",
       "    </tr>\n",
       "    <tr>\n",
       "      <td>47</td>\n",
       "      <td>97828.880539</td>\n",
       "      <td>519</td>\n",
       "      <td>92372.0</td>\n",
       "    </tr>\n",
       "    <tr>\n",
       "      <td>20</td>\n",
       "      <td>94785.490323</td>\n",
       "      <td>310</td>\n",
       "      <td>92252.0</td>\n",
       "    </tr>\n",
       "    <tr>\n",
       "      <td>52</td>\n",
       "      <td>96733.086294</td>\n",
       "      <td>197</td>\n",
       "      <td>91772.0</td>\n",
       "    </tr>\n",
       "    <tr>\n",
       "      <td>49</td>\n",
       "      <td>96061.609302</td>\n",
       "      <td>430</td>\n",
       "      <td>91754.0</td>\n",
       "    </tr>\n",
       "    <tr>\n",
       "      <td>31</td>\n",
       "      <td>92883.877976</td>\n",
       "      <td>336</td>\n",
       "      <td>90341.0</td>\n",
       "    </tr>\n",
       "    <tr>\n",
       "      <td>23</td>\n",
       "      <td>96464.424051</td>\n",
       "      <td>316</td>\n",
       "      <td>90006.5</td>\n",
       "    </tr>\n",
       "    <tr>\n",
       "      <td>1</td>\n",
       "      <td>97182.380117</td>\n",
       "      <td>171</td>\n",
       "      <td>89051.0</td>\n",
       "    </tr>\n",
       "    <tr>\n",
       "      <td>21</td>\n",
       "      <td>95003.727575</td>\n",
       "      <td>301</td>\n",
       "      <td>88007.0</td>\n",
       "    </tr>\n",
       "  </tbody>\n",
       "</table>\n",
       "</div>"
      ],
      "text/plain": [
       "               mean  count    median\n",
       "week                                \n",
       "53    145084.727273     11  122340.0\n",
       "11    102308.309707    649  100000.0\n",
       "34    104726.097493    359   99137.0\n",
       "18    107962.329341    334   99121.5\n",
       "38    102616.560209    382   98933.5\n",
       "32    101037.025172    437   98684.0\n",
       "4     105362.080488    410   98511.5\n",
       "30    103589.605714    350   98039.5\n",
       "15    100679.803879    464   97527.0\n",
       "35    101823.317808    365   97500.0\n",
       "28    107358.770115    435   97183.0\n",
       "36     99621.145022    462   97072.5\n",
       "9     101539.282416    563   96491.0\n",
       "50    102665.783394    554   96193.0\n",
       "45     98014.465638    713   96141.0\n",
       "46    101390.432432    518   96066.0\n",
       "44     98996.658947    475   96052.0\n",
       "8      97086.564195    553   96000.0\n",
       "16     98183.046794    577   95744.0\n",
       "14    103231.241221    655   95541.0\n",
       "48     99680.976139    461   95541.0\n",
       "17     99953.742173    543   95238.0\n",
       "41    100795.005576    538   95206.0\n",
       "2      98058.041002    439   95155.0\n",
       "19    102760.278195    266   95129.5\n",
       "10     96557.882075    424   95095.0\n",
       "7     100430.944795    634   94913.5\n",
       "51     99222.080925    346   94647.5\n",
       "13     99941.601770    678   94579.5\n",
       "26     99184.655031    487   94235.0\n",
       "37     96112.399563    458   94224.5\n",
       "40     96385.757919    442   94055.5\n",
       "43     97851.690987    466   94040.5\n",
       "42     95853.609375    448   93750.0\n",
       "29     96346.492625    339   93750.0\n",
       "27     93863.483544    395   93693.0\n",
       "39    103125.968543    604   93687.5\n",
       "3      96545.810585    359   93548.0\n",
       "33     97842.032407    432   93400.5\n",
       "25     99290.405242    496   93395.5\n",
       "6      97268.706690    583   93220.0\n",
       "5      97357.713450    684   93169.0\n",
       "12     98811.185583    652   92893.0\n",
       "22     95491.785256    312   92881.5\n",
       "24     96828.697548    367   92647.0\n",
       "47     97828.880539    519   92372.0\n",
       "20     94785.490323    310   92252.0\n",
       "52     96733.086294    197   91772.0\n",
       "49     96061.609302    430   91754.0\n",
       "31     92883.877976    336   90341.0\n",
       "23     96464.424051    316   90006.5\n",
       "1      97182.380117    171   89051.0\n",
       "21     95003.727575    301   88007.0"
      ]
     },
     "execution_count": 25,
     "metadata": {},
     "output_type": "execute_result"
    },
    {
     "data": {
      "image/png": "[encoded data removed]",
      "text/plain": [
       "<Figure size 432x288 with 1 Axes>"
      ]
     },
     "metadata": {
      "needs_background": "light"
     },
     "output_type": "display_data"
    }
   ],
   "source": [
    "#Дата размещения: неделя\n",
    "pivot_table_week = data.pivot_table(index = 'week', values = 'price_sqmeter', aggfunc = ['mean', 'count', 'median'])\n",
    "pivot_table_week.columns = ['mean', 'count', 'median']\n",
    "pivot_table_week.plot(y = 'median')\n",
    "\n",
    "pivot_table_week.sort_values('median', ascending = False)"
   ]
  },
  {
   "cell_type": "markdown",
   "metadata": {},
   "source": [
    "1. Активность в первые недели года - всё то же самое, что и с классической сезонностью.\n",
    "2. Снижение активности на 20-25 неделях - это разгар летнего периода.\n",
    "3. Новая активность после лета.\n",
    "4. И бум в последние недели года - даже странно предполагать с чем это связанно, может люди надеятся продать недвижмость в новом году дороже чем имели/купили в прошлом."
   ]
  },
  {
   "cell_type": "code",
   "execution_count": 26,
   "metadata": {},
   "outputs": [
    {
     "data": {
      "text/html": [
       "<div>\n",
       "<style scoped>\n",
       "    .dataframe tbody tr th:only-of-type {\n",
       "        vertical-align: middle;\n",
       "    }\n",
       "\n",
       "    .dataframe tbody tr th {\n",
       "        vertical-align: top;\n",
       "    }\n",
       "\n",
       "    .dataframe thead th {\n",
       "        text-align: right;\n",
       "    }\n",
       "</style>\n",
       "<table border=\"1\" class=\"dataframe\">\n",
       "  <thead>\n",
       "    <tr style=\"text-align: right;\">\n",
       "      <th></th>\n",
       "      <th></th>\n",
       "      <th>mean</th>\n",
       "      <th>count</th>\n",
       "      <th>median</th>\n",
       "    </tr>\n",
       "    <tr>\n",
       "      <th>weekday</th>\n",
       "      <th>week</th>\n",
       "      <th></th>\n",
       "      <th></th>\n",
       "      <th></th>\n",
       "    </tr>\n",
       "  </thead>\n",
       "  <tbody>\n",
       "    <tr>\n",
       "      <td>2</td>\n",
       "      <td>53</td>\n",
       "      <td>132471.000000</td>\n",
       "      <td>2</td>\n",
       "      <td>132471.0</td>\n",
       "    </tr>\n",
       "    <tr>\n",
       "      <td rowspan=\"2\" valign=\"top\">0</td>\n",
       "      <td>53</td>\n",
       "      <td>189365.250000</td>\n",
       "      <td>4</td>\n",
       "      <td>117230.5</td>\n",
       "    </tr>\n",
       "    <tr>\n",
       "      <td>28</td>\n",
       "      <td>135250.782051</td>\n",
       "      <td>78</td>\n",
       "      <td>117126.5</td>\n",
       "    </tr>\n",
       "    <tr>\n",
       "      <td>1</td>\n",
       "      <td>50</td>\n",
       "      <td>125842.745614</td>\n",
       "      <td>114</td>\n",
       "      <td>113042.5</td>\n",
       "    </tr>\n",
       "    <tr>\n",
       "      <td>6</td>\n",
       "      <td>52</td>\n",
       "      <td>106974.523810</td>\n",
       "      <td>21</td>\n",
       "      <td>111696.0</td>\n",
       "    </tr>\n",
       "    <tr>\n",
       "      <td>...</td>\n",
       "      <td>...</td>\n",
       "      <td>...</td>\n",
       "      <td>...</td>\n",
       "      <td>...</td>\n",
       "    </tr>\n",
       "    <tr>\n",
       "      <td>3</td>\n",
       "      <td>3</td>\n",
       "      <td>90717.342105</td>\n",
       "      <td>38</td>\n",
       "      <td>78778.5</td>\n",
       "    </tr>\n",
       "    <tr>\n",
       "      <td rowspan=\"2\" valign=\"top\">6</td>\n",
       "      <td>51</td>\n",
       "      <td>75347.142857</td>\n",
       "      <td>7</td>\n",
       "      <td>78014.0</td>\n",
       "    </tr>\n",
       "    <tr>\n",
       "      <td>27</td>\n",
       "      <td>77900.307692</td>\n",
       "      <td>26</td>\n",
       "      <td>77753.5</td>\n",
       "    </tr>\n",
       "    <tr>\n",
       "      <td>5</td>\n",
       "      <td>51</td>\n",
       "      <td>84122.368421</td>\n",
       "      <td>19</td>\n",
       "      <td>77049.0</td>\n",
       "    </tr>\n",
       "    <tr>\n",
       "      <td>6</td>\n",
       "      <td>18</td>\n",
       "      <td>77982.187500</td>\n",
       "      <td>16</td>\n",
       "      <td>74539.5</td>\n",
       "    </tr>\n",
       "  </tbody>\n",
       "</table>\n",
       "<p>368 rows × 3 columns</p>\n",
       "</div>"
      ],
      "text/plain": [
       "                       mean  count    median\n",
       "weekday week                                \n",
       "2       53    132471.000000      2  132471.0\n",
       "0       53    189365.250000      4  117230.5\n",
       "        28    135250.782051     78  117126.5\n",
       "1       50    125842.745614    114  113042.5\n",
       "6       52    106974.523810     21  111696.0\n",
       "...                     ...    ...       ...\n",
       "3       3      90717.342105     38   78778.5\n",
       "6       51     75347.142857      7   78014.0\n",
       "        27     77900.307692     26   77753.5\n",
       "5       51     84122.368421     19   77049.0\n",
       "6       18     77982.187500     16   74539.5\n",
       "\n",
       "[368 rows x 3 columns]"
      ]
     },
     "execution_count": 26,
     "metadata": {},
     "output_type": "execute_result"
    },
    {
     "data": {
      "image/png": "[encoded data removed]",
      "text/plain": [
       "<Figure size 432x288 with 1 Axes>"
      ]
     },
     "metadata": {
      "needs_background": "light"
     },
     "output_type": "display_data"
    }
   ],
   "source": [
    "#Соотношение дней и недель:\n",
    "pivot_table_weekday = data.pivot_table(index = ['weekday','week'], values = 'price_sqmeter', aggfunc = ['mean', 'count', 'median'])\n",
    "pivot_table_weekday.columns = ['mean', 'count', 'median']\n",
    "pivot_table_weekday.plot(y = 'median')\n",
    "\n",
    "pivot_table_weekday.sort_values('median', ascending = False)"
   ]
  },
  {
   "cell_type": "markdown",
   "metadata": {},
   "source": [
    "1. График сильно динамичный, что-то сказать особенного сложно - классическое олицетворение предложения на рынке.\n",
    "2. Самый пик рассматривается в середние недели, а именно в среду. \n",
    "3. К выходным динамика уменьшается, пока в понедельник-вторник снова не начнет расти."
   ]
  },
  {
   "cell_type": "code",
   "execution_count": 27,
   "metadata": {},
   "outputs": [
    {
     "data": {
      "text/html": [
       "<div>\n",
       "<style scoped>\n",
       "    .dataframe tbody tr th:only-of-type {\n",
       "        vertical-align: middle;\n",
       "    }\n",
       "\n",
       "    .dataframe tbody tr th {\n",
       "        vertical-align: top;\n",
       "    }\n",
       "\n",
       "    .dataframe thead th {\n",
       "        text-align: right;\n",
       "    }\n",
       "</style>\n",
       "<table border=\"1\" class=\"dataframe\">\n",
       "  <thead>\n",
       "    <tr style=\"text-align: right;\">\n",
       "      <th></th>\n",
       "      <th>count</th>\n",
       "      <th>mean</th>\n",
       "    </tr>\n",
       "    <tr>\n",
       "      <th>locality_name</th>\n",
       "      <th></th>\n",
       "      <th></th>\n",
       "    </tr>\n",
       "  </thead>\n",
       "  <tbody>\n",
       "    <tr>\n",
       "      <td>Санкт-Петербург</td>\n",
       "      <td>15721</td>\n",
       "      <td>114848.565231</td>\n",
       "    </tr>\n",
       "    <tr>\n",
       "      <td>посёлок Мурино</td>\n",
       "      <td>522</td>\n",
       "      <td>85751.733716</td>\n",
       "    </tr>\n",
       "    <tr>\n",
       "      <td>посёлок Шушары</td>\n",
       "      <td>440</td>\n",
       "      <td>78676.904545</td>\n",
       "    </tr>\n",
       "    <tr>\n",
       "      <td>Всеволожск</td>\n",
       "      <td>398</td>\n",
       "      <td>68654.007538</td>\n",
       "    </tr>\n",
       "    <tr>\n",
       "      <td>Пушкин</td>\n",
       "      <td>369</td>\n",
       "      <td>103125.373984</td>\n",
       "    </tr>\n",
       "    <tr>\n",
       "      <td>Колпино</td>\n",
       "      <td>338</td>\n",
       "      <td>75424.150888</td>\n",
       "    </tr>\n",
       "    <tr>\n",
       "      <td>посёлок Парголово</td>\n",
       "      <td>327</td>\n",
       "      <td>90175.489297</td>\n",
       "    </tr>\n",
       "    <tr>\n",
       "      <td>Гатчина</td>\n",
       "      <td>307</td>\n",
       "      <td>68745.693811</td>\n",
       "    </tr>\n",
       "    <tr>\n",
       "      <td>деревня Кудрово</td>\n",
       "      <td>299</td>\n",
       "      <td>92473.086957</td>\n",
       "    </tr>\n",
       "    <tr>\n",
       "      <td>Выборг</td>\n",
       "      <td>237</td>\n",
       "      <td>58141.489451</td>\n",
       "    </tr>\n",
       "  </tbody>\n",
       "</table>\n",
       "</div>"
      ],
      "text/plain": [
       "                   count           mean\n",
       "locality_name                          \n",
       "Санкт-Петербург    15721  114848.565231\n",
       "посёлок Мурино       522   85751.733716\n",
       "посёлок Шушары       440   78676.904545\n",
       "Всеволожск           398   68654.007538\n",
       "Пушкин               369  103125.373984\n",
       "Колпино              338   75424.150888\n",
       "посёлок Парголово    327   90175.489297\n",
       "Гатчина              307   68745.693811\n",
       "деревня Кудрово      299   92473.086957\n",
       "Выборг               237   58141.489451"
      ]
     },
     "execution_count": 27,
     "metadata": {},
     "output_type": "execute_result"
    }
   ],
   "source": [
    "#5) 10 населенных пунктов с наибольшим числом объявлений.\n",
    "locality_pivot_table = data.pivot_table(index = 'locality_name', values = 'price_sqmeter', aggfunc=['count', 'mean'])\n",
    "locality_pivot_table.columns = ['count', 'mean']\n",
    "locality_pivot_table = locality_pivot_table.sort_values('count', ascending = False).head(10)\n",
    "locality_pivot_table"
   ]
  },
  {
   "cell_type": "code",
   "execution_count": 28,
   "metadata": {},
   "outputs": [
    {
     "data": {
      "text/html": [
       "<div>\n",
       "<style scoped>\n",
       "    .dataframe tbody tr th:only-of-type {\n",
       "        vertical-align: middle;\n",
       "    }\n",
       "\n",
       "    .dataframe tbody tr th {\n",
       "        vertical-align: top;\n",
       "    }\n",
       "\n",
       "    .dataframe thead th {\n",
       "        text-align: right;\n",
       "    }\n",
       "</style>\n",
       "<table border=\"1\" class=\"dataframe\">\n",
       "  <thead>\n",
       "    <tr style=\"text-align: right;\">\n",
       "      <th></th>\n",
       "      <th>count</th>\n",
       "      <th>mean</th>\n",
       "    </tr>\n",
       "    <tr>\n",
       "      <th>locality_name</th>\n",
       "      <th></th>\n",
       "      <th></th>\n",
       "    </tr>\n",
       "  </thead>\n",
       "  <tbody>\n",
       "    <tr>\n",
       "      <td>Санкт-Петербург</td>\n",
       "      <td>15721</td>\n",
       "      <td>114848.565231</td>\n",
       "    </tr>\n",
       "  </tbody>\n",
       "</table>\n",
       "</div>"
      ],
      "text/plain": [
       "                 count           mean\n",
       "locality_name                        \n",
       "Санкт-Петербург  15721  114848.565231"
      ]
     },
     "execution_count": 28,
     "metadata": {},
     "output_type": "execute_result"
    }
   ],
   "source": [
    "#самая высокая стоимость\n",
    "locality_pivot_table[locality_pivot_table['mean']==locality_pivot_table['mean'].max()]"
   ]
  },
  {
   "cell_type": "code",
   "execution_count": 29,
   "metadata": {},
   "outputs": [
    {
     "data": {
      "text/html": [
       "<div>\n",
       "<style scoped>\n",
       "    .dataframe tbody tr th:only-of-type {\n",
       "        vertical-align: middle;\n",
       "    }\n",
       "\n",
       "    .dataframe tbody tr th {\n",
       "        vertical-align: top;\n",
       "    }\n",
       "\n",
       "    .dataframe thead th {\n",
       "        text-align: right;\n",
       "    }\n",
       "</style>\n",
       "<table border=\"1\" class=\"dataframe\">\n",
       "  <thead>\n",
       "    <tr style=\"text-align: right;\">\n",
       "      <th></th>\n",
       "      <th>count</th>\n",
       "      <th>mean</th>\n",
       "    </tr>\n",
       "    <tr>\n",
       "      <th>locality_name</th>\n",
       "      <th></th>\n",
       "      <th></th>\n",
       "    </tr>\n",
       "  </thead>\n",
       "  <tbody>\n",
       "    <tr>\n",
       "      <td>Выборг</td>\n",
       "      <td>237</td>\n",
       "      <td>58141.489451</td>\n",
       "    </tr>\n",
       "  </tbody>\n",
       "</table>\n",
       "</div>"
      ],
      "text/plain": [
       "               count          mean\n",
       "locality_name                     \n",
       "Выборг           237  58141.489451"
      ]
     },
     "execution_count": 29,
     "metadata": {},
     "output_type": "execute_result"
    }
   ],
   "source": [
    "#самая низкая стоимость\n",
    "locality_pivot_table[locality_pivot_table['mean']==locality_pivot_table['mean'].min()]"
   ]
  },
  {
   "cell_type": "markdown",
   "metadata": {},
   "source": [
    "Ожидаемо больше объявлений в СПб. Меньше в Выборге - стандартная ситуация, что люди переезжают в более крупные города."
   ]
  },
  {
   "cell_type": "code",
   "execution_count": 30,
   "metadata": {},
   "outputs": [
    {
     "data": {
      "text/html": [
       "<div>\n",
       "<style scoped>\n",
       "    .dataframe tbody tr th:only-of-type {\n",
       "        vertical-align: middle;\n",
       "    }\n",
       "\n",
       "    .dataframe tbody tr th {\n",
       "        vertical-align: top;\n",
       "    }\n",
       "\n",
       "    .dataframe thead th {\n",
       "        text-align: right;\n",
       "    }\n",
       "</style>\n",
       "<table border=\"1\" class=\"dataframe\">\n",
       "  <thead>\n",
       "    <tr style=\"text-align: right;\">\n",
       "      <th></th>\n",
       "      <th>last_price</th>\n",
       "      <th>price_sqmeter</th>\n",
       "    </tr>\n",
       "    <tr>\n",
       "      <th>cityCenters_nearest_km</th>\n",
       "      <th></th>\n",
       "      <th></th>\n",
       "    </tr>\n",
       "  </thead>\n",
       "  <tbody>\n",
       "    <tr>\n",
       "      <td>0.0</td>\n",
       "      <td>31449.111111</td>\n",
       "      <td>245833.111111</td>\n",
       "    </tr>\n",
       "    <tr>\n",
       "      <td>1.0</td>\n",
       "      <td>21206.718750</td>\n",
       "      <td>177004.963542</td>\n",
       "    </tr>\n",
       "    <tr>\n",
       "      <td>2.0</td>\n",
       "      <td>17788.319355</td>\n",
       "      <td>157848.564516</td>\n",
       "    </tr>\n",
       "    <tr>\n",
       "      <td>3.0</td>\n",
       "      <td>11126.580000</td>\n",
       "      <td>121386.991429</td>\n",
       "    </tr>\n",
       "    <tr>\n",
       "      <td>4.0</td>\n",
       "      <td>13304.279070</td>\n",
       "      <td>133282.422965</td>\n",
       "    </tr>\n",
       "    <tr>\n",
       "      <td>5.0</td>\n",
       "      <td>14499.121739</td>\n",
       "      <td>140509.339130</td>\n",
       "    </tr>\n",
       "    <tr>\n",
       "      <td>6.0</td>\n",
       "      <td>15338.420712</td>\n",
       "      <td>151011.750809</td>\n",
       "    </tr>\n",
       "    <tr>\n",
       "      <td>7.0</td>\n",
       "      <td>14775.150000</td>\n",
       "      <td>156176.445238</td>\n",
       "    </tr>\n",
       "    <tr>\n",
       "      <td>8.0</td>\n",
       "      <td>9957.715243</td>\n",
       "      <td>125671.030151</td>\n",
       "    </tr>\n",
       "    <tr>\n",
       "      <td>9.0</td>\n",
       "      <td>6950.659359</td>\n",
       "      <td>113130.595278</td>\n",
       "    </tr>\n",
       "    <tr>\n",
       "      <td>10.0</td>\n",
       "      <td>6504.121001</td>\n",
       "      <td>112727.066759</td>\n",
       "    </tr>\n",
       "    <tr>\n",
       "      <td>11.0</td>\n",
       "      <td>6250.814092</td>\n",
       "      <td>108630.402377</td>\n",
       "    </tr>\n",
       "    <tr>\n",
       "      <td>12.0</td>\n",
       "      <td>5828.545794</td>\n",
       "      <td>107488.274766</td>\n",
       "    </tr>\n",
       "    <tr>\n",
       "      <td>13.0</td>\n",
       "      <td>6083.140014</td>\n",
       "      <td>108147.690460</td>\n",
       "    </tr>\n",
       "    <tr>\n",
       "      <td>14.0</td>\n",
       "      <td>5629.100860</td>\n",
       "      <td>104251.944488</td>\n",
       "    </tr>\n",
       "    <tr>\n",
       "      <td>15.0</td>\n",
       "      <td>5884.751276</td>\n",
       "      <td>104231.531250</td>\n",
       "    </tr>\n",
       "    <tr>\n",
       "      <td>16.0</td>\n",
       "      <td>5373.131225</td>\n",
       "      <td>100542.168379</td>\n",
       "    </tr>\n",
       "    <tr>\n",
       "      <td>17.0</td>\n",
       "      <td>5292.394111</td>\n",
       "      <td>96597.212911</td>\n",
       "    </tr>\n",
       "    <tr>\n",
       "      <td>18.0</td>\n",
       "      <td>5091.329502</td>\n",
       "      <td>96361.839080</td>\n",
       "    </tr>\n",
       "    <tr>\n",
       "      <td>19.0</td>\n",
       "      <td>5037.675159</td>\n",
       "      <td>98652.305732</td>\n",
       "    </tr>\n",
       "    <tr>\n",
       "      <td>20.0</td>\n",
       "      <td>5951.469388</td>\n",
       "      <td>103044.775510</td>\n",
       "    </tr>\n",
       "    <tr>\n",
       "      <td>21.0</td>\n",
       "      <td>5493.470085</td>\n",
       "      <td>94469.136752</td>\n",
       "    </tr>\n",
       "    <tr>\n",
       "      <td>22.0</td>\n",
       "      <td>5415.524752</td>\n",
       "      <td>91329.965347</td>\n",
       "    </tr>\n",
       "    <tr>\n",
       "      <td>23.0</td>\n",
       "      <td>4985.376471</td>\n",
       "      <td>91828.070588</td>\n",
       "    </tr>\n",
       "    <tr>\n",
       "      <td>24.0</td>\n",
       "      <td>3854.423077</td>\n",
       "      <td>85736.461538</td>\n",
       "    </tr>\n",
       "    <tr>\n",
       "      <td>25.0</td>\n",
       "      <td>4052.846154</td>\n",
       "      <td>91531.038462</td>\n",
       "    </tr>\n",
       "    <tr>\n",
       "      <td>26.0</td>\n",
       "      <td>3973.037736</td>\n",
       "      <td>89285.415094</td>\n",
       "    </tr>\n",
       "    <tr>\n",
       "      <td>27.0</td>\n",
       "      <td>8300.000000</td>\n",
       "      <td>132115.000000</td>\n",
       "    </tr>\n",
       "    <tr>\n",
       "      <td>28.0</td>\n",
       "      <td>5026.428571</td>\n",
       "      <td>81161.571429</td>\n",
       "    </tr>\n",
       "    <tr>\n",
       "      <td>29.0</td>\n",
       "      <td>4236.666667</td>\n",
       "      <td>72952.666667</td>\n",
       "    </tr>\n",
       "  </tbody>\n",
       "</table>\n",
       "</div>"
      ],
      "text/plain": [
       "                          last_price  price_sqmeter\n",
       "cityCenters_nearest_km                             \n",
       "0.0                     31449.111111  245833.111111\n",
       "1.0                     21206.718750  177004.963542\n",
       "2.0                     17788.319355  157848.564516\n",
       "3.0                     11126.580000  121386.991429\n",
       "4.0                     13304.279070  133282.422965\n",
       "5.0                     14499.121739  140509.339130\n",
       "6.0                     15338.420712  151011.750809\n",
       "7.0                     14775.150000  156176.445238\n",
       "8.0                      9957.715243  125671.030151\n",
       "9.0                      6950.659359  113130.595278\n",
       "10.0                     6504.121001  112727.066759\n",
       "11.0                     6250.814092  108630.402377\n",
       "12.0                     5828.545794  107488.274766\n",
       "13.0                     6083.140014  108147.690460\n",
       "14.0                     5629.100860  104251.944488\n",
       "15.0                     5884.751276  104231.531250\n",
       "16.0                     5373.131225  100542.168379\n",
       "17.0                     5292.394111   96597.212911\n",
       "18.0                     5091.329502   96361.839080\n",
       "19.0                     5037.675159   98652.305732\n",
       "20.0                     5951.469388  103044.775510\n",
       "21.0                     5493.470085   94469.136752\n",
       "22.0                     5415.524752   91329.965347\n",
       "23.0                     4985.376471   91828.070588\n",
       "24.0                     3854.423077   85736.461538\n",
       "25.0                     4052.846154   91531.038462\n",
       "26.0                     3973.037736   89285.415094\n",
       "27.0                     8300.000000  132115.000000\n",
       "28.0                     5026.428571   81161.571429\n",
       "29.0                     4236.666667   72952.666667"
      ]
     },
     "execution_count": 30,
     "metadata": {},
     "output_type": "execute_result"
    }
   ],
   "source": [
    "#6) Предложения квартир.\n",
    "data['cityCenters_nearest_km'] = round(data['cityCenters_nearest']/1000, 0)\n",
    "pivot_table_km = data.query('locality_name == \"Санкт-Петербург\" and cityCenters_nearest_km <= 8000').pivot_table(index = 'cityCenters_nearest_km', values = ['price_sqmeter','last_price'], aggfunc = 'mean')\n",
    "pivot_table_km.head()\n",
    "pivot_table_km"
   ]
  },
  {
   "cell_type": "code",
   "execution_count": 31,
   "metadata": {},
   "outputs": [
    {
     "data": {
      "text/plain": [
       "<matplotlib.axes._subplots.AxesSubplot at 0x7f0da597d610>"
      ]
     },
     "execution_count": 31,
     "metadata": {},
     "output_type": "execute_result"
    },
    {
     "data": {
      "image/png": "[encoded data removed]",
      "text/plain": [
       "<Figure size 720x216 with 1 Axes>"
      ]
     },
     "metadata": {
      "needs_background": "light"
     },
     "output_type": "display_data"
    }
   ],
   "source": [
    "pivot_table_km.plot(style='o',grid=True, figsize=(10, 3))"
   ]
  },
  {
   "cell_type": "markdown",
   "metadata": {},
   "source": [
    "Посмотря на график можно увидеть несколько \"всплесков\": \n",
    "1. до 5 км, скорее можно разграничить \"Центр\" и \"Самый Центр\";\n",
    "2. Переходящий с 7 до 8 км, смотря на таблицу с ценами можно сделать вывод, что центр начинается с 8 км - как периферия центра, 7 км - непосредсвтенно центр\n",
    "3. За 25 км и больше скорее всего это новое жилье - субурбия и муравейники."
   ]
  },
  {
   "cell_type": "code",
   "execution_count": 32,
   "metadata": {},
   "outputs": [
    {
     "data": {
      "text/html": [
       "<div>\n",
       "<style scoped>\n",
       "    .dataframe tbody tr th:only-of-type {\n",
       "        vertical-align: middle;\n",
       "    }\n",
       "\n",
       "    .dataframe tbody tr th {\n",
       "        vertical-align: top;\n",
       "    }\n",
       "\n",
       "    .dataframe thead th {\n",
       "        text-align: right;\n",
       "    }\n",
       "</style>\n",
       "<table border=\"1\" class=\"dataframe\">\n",
       "  <thead>\n",
       "    <tr style=\"text-align: right;\">\n",
       "      <th></th>\n",
       "      <th>ceiling_height</th>\n",
       "      <th>last_price</th>\n",
       "      <th>rooms</th>\n",
       "      <th>total_area</th>\n",
       "    </tr>\n",
       "    <tr>\n",
       "      <th>cityCenters_nearest_km</th>\n",
       "      <th></th>\n",
       "      <th></th>\n",
       "      <th></th>\n",
       "      <th></th>\n",
       "    </tr>\n",
       "  </thead>\n",
       "  <tbody>\n",
       "    <tr>\n",
       "      <td>0.0</td>\n",
       "      <td>3.244752</td>\n",
       "      <td>31449.111111</td>\n",
       "      <td>3.074074</td>\n",
       "      <td>117.259259</td>\n",
       "    </tr>\n",
       "    <tr>\n",
       "      <td>1.0</td>\n",
       "      <td>3.119185</td>\n",
       "      <td>21206.718750</td>\n",
       "      <td>3.265625</td>\n",
       "      <td>104.999896</td>\n",
       "    </tr>\n",
       "    <tr>\n",
       "      <td>2.0</td>\n",
       "      <td>3.135480</td>\n",
       "      <td>17788.319355</td>\n",
       "      <td>3.145161</td>\n",
       "      <td>102.504000</td>\n",
       "    </tr>\n",
       "    <tr>\n",
       "      <td>3.0</td>\n",
       "      <td>3.141337</td>\n",
       "      <td>11126.580000</td>\n",
       "      <td>2.997143</td>\n",
       "      <td>90.273429</td>\n",
       "    </tr>\n",
       "    <tr>\n",
       "      <td>4.0</td>\n",
       "      <td>3.073392</td>\n",
       "      <td>13304.279070</td>\n",
       "      <td>2.956395</td>\n",
       "      <td>91.475494</td>\n",
       "    </tr>\n",
       "    <tr>\n",
       "      <td>5.0</td>\n",
       "      <td>3.001390</td>\n",
       "      <td>14499.121739</td>\n",
       "      <td>2.839130</td>\n",
       "      <td>95.887185</td>\n",
       "    </tr>\n",
       "    <tr>\n",
       "      <td>6.0</td>\n",
       "      <td>2.932652</td>\n",
       "      <td>15338.420712</td>\n",
       "      <td>2.572816</td>\n",
       "      <td>90.785615</td>\n",
       "    </tr>\n",
       "    <tr>\n",
       "      <td>7.0</td>\n",
       "      <td>2.870657</td>\n",
       "      <td>14775.150000</td>\n",
       "      <td>2.430952</td>\n",
       "      <td>82.058762</td>\n",
       "    </tr>\n",
       "    <tr>\n",
       "      <td>8.0</td>\n",
       "      <td>3.065991</td>\n",
       "      <td>9957.715243</td>\n",
       "      <td>2.306533</td>\n",
       "      <td>73.546114</td>\n",
       "    </tr>\n",
       "  </tbody>\n",
       "</table>\n",
       "</div>"
      ],
      "text/plain": [
       "                        ceiling_height    last_price     rooms  total_area\n",
       "cityCenters_nearest_km                                                    \n",
       "0.0                           3.244752  31449.111111  3.074074  117.259259\n",
       "1.0                           3.119185  21206.718750  3.265625  104.999896\n",
       "2.0                           3.135480  17788.319355  3.145161  102.504000\n",
       "3.0                           3.141337  11126.580000  2.997143   90.273429\n",
       "4.0                           3.073392  13304.279070  2.956395   91.475494\n",
       "5.0                           3.001390  14499.121739  2.839130   95.887185\n",
       "6.0                           2.932652  15338.420712  2.572816   90.785615\n",
       "7.0                           2.870657  14775.150000  2.430952   82.058762\n",
       "8.0                           3.065991   9957.715243  2.306533   73.546114"
      ]
     },
     "execution_count": 32,
     "metadata": {},
     "output_type": "execute_result"
    }
   ],
   "source": [
    "#7) Сегмент квартир в центре.\n",
    "center_spb_stat = data.query('locality_name == \"Санкт-Петербург\" and cityCenters_nearest_km <= 8000').pivot_table(index = 'cityCenters_nearest_km', \n",
    "                                              values=['total_area','ceiling_height','rooms','last_price'], aggfunc='mean' )\n",
    "center_spb_stat.head(9)"
   ]
  },
  {
   "cell_type": "code",
   "execution_count": 33,
   "metadata": {},
   "outputs": [
    {
     "data": {
      "text/plain": [
       "0.25386724257638044"
      ]
     },
     "execution_count": 33,
     "metadata": {},
     "output_type": "execute_result"
    },
    {
     "data": {
      "image/png": "[encoded data removed]",
      "text/plain": [
       "<Figure size 432x288 with 1 Axes>"
      ]
     },
     "metadata": {
      "needs_background": "light"
     },
     "output_type": "display_data"
    }
   ],
   "source": [
    "center_spb_data = data.query('cityCenters_nearest_km <= 8 and locality_name == \"Санкт-Петербург\"')\n",
    "center_spb_total_area = center_spb_data.pivot_table(index = 'total_area', values = 'price_sqmeter', aggfunc = ['mean', 'count', 'median'])\n",
    "center_spb_total_area.columns = ['mean', 'count', 'median']\n",
    "center_spb_total_area.plot(y = 'median', style = 'o')\n",
    "\n",
    "center_spb_total_area.sort_values('median', ascending = False)\n",
    "\n",
    "center_spb_data['total_area'].corr(center_spb_data['price_sqmeter'])"
   ]
  },
  {
   "cell_type": "markdown",
   "metadata": {},
   "source": [
    "1. В основном, в центре, по 2-3 комнаты.\n",
    "2. Потолки в 3-2 метра. Про 2 метра, думаю довольно странно, надеялся увидеть 5 метровые потолки.\n",
    "3. Большая площадь - дореволюционные дома этим славятся.\n",
    "4. Соответсвтенно цены выставлены, наверное, исходя из логистического удобства и эстетического вида - всё то, чем славится центр любого города."
   ]
  },
  {
   "cell_type": "code",
   "execution_count": 34,
   "metadata": {},
   "outputs": [
    {
     "data": {
      "text/plain": [
       "0.012628055452509751"
      ]
     },
     "execution_count": 34,
     "metadata": {},
     "output_type": "execute_result"
    },
    {
     "data": {
      "image/png": "[encoded data removed]",
      "text/plain": [
       "<Figure size 432x288 with 1 Axes>"
      ]
     },
     "metadata": {
      "needs_background": "light"
     },
     "output_type": "display_data"
    }
   ],
   "source": [
    "#комнаты.\n",
    "center_spb_rooms = center_spb_data.pivot_table(index = 'rooms', values = 'price_sqmeter', aggfunc = ['mean', 'count', 'median'])\n",
    "center_spb_rooms.columns = ['mean', 'count', 'median']\n",
    "center_spb_rooms.query('count > 50').plot(y = 'median')\n",
    "\n",
    "center_spb_rooms.query('count > 50').sort_values('median', ascending = False)\n",
    "\n",
    "center_spb_data['rooms'].corr(center_spb_data['price_sqmeter'])"
   ]
  },
  {
   "cell_type": "markdown",
   "metadata": {},
   "source": [
    "Чем меньше комнат, тем дороже квартира - Думаю, это связано с тем, что квартиры со свободной планирвкой легче обустраивать, да и, учитывая, что квартиры долгое время находились в системе \"коммуналок\", то легче  такое жилье покупать и оформлять. "
   ]
  },
  {
   "cell_type": "code",
   "execution_count": 35,
   "metadata": {},
   "outputs": [
    {
     "data": {
      "text/html": [
       "<div>\n",
       "<style scoped>\n",
       "    .dataframe tbody tr th:only-of-type {\n",
       "        vertical-align: middle;\n",
       "    }\n",
       "\n",
       "    .dataframe tbody tr th {\n",
       "        vertical-align: top;\n",
       "    }\n",
       "\n",
       "    .dataframe thead th {\n",
       "        text-align: right;\n",
       "    }\n",
       "</style>\n",
       "<table border=\"1\" class=\"dataframe\">\n",
       "  <thead>\n",
       "    <tr style=\"text-align: right;\">\n",
       "      <th></th>\n",
       "      <th>mean</th>\n",
       "      <th>count</th>\n",
       "      <th>median</th>\n",
       "    </tr>\n",
       "    <tr>\n",
       "      <th>floor_category</th>\n",
       "      <th></th>\n",
       "      <th></th>\n",
       "      <th></th>\n",
       "    </tr>\n",
       "  </thead>\n",
       "  <tbody>\n",
       "    <tr>\n",
       "      <td>другой</td>\n",
       "      <td>145286.512898</td>\n",
       "      <td>2985</td>\n",
       "      <td>127160.0</td>\n",
       "    </tr>\n",
       "    <tr>\n",
       "      <td>первый</td>\n",
       "      <td>121109.534247</td>\n",
       "      <td>438</td>\n",
       "      <td>108027.5</td>\n",
       "    </tr>\n",
       "    <tr>\n",
       "      <td>последний</td>\n",
       "      <td>143385.701001</td>\n",
       "      <td>699</td>\n",
       "      <td>116197.0</td>\n",
       "    </tr>\n",
       "  </tbody>\n",
       "</table>\n",
       "</div>"
      ],
      "text/plain": [
       "                         mean  count    median\n",
       "floor_category                                \n",
       "другой          145286.512898   2985  127160.0\n",
       "первый          121109.534247    438  108027.5\n",
       "последний       143385.701001    699  116197.0"
      ]
     },
     "execution_count": 35,
     "metadata": {},
     "output_type": "execute_result"
    },
    {
     "data": {
      "image/png": "[encoded data removed]",
      "text/plain": [
       "<Figure size 432x288 with 1 Axes>"
      ]
     },
     "metadata": {
      "needs_background": "light"
     },
     "output_type": "display_data"
    }
   ],
   "source": [
    "#этаж\n",
    "center_spb_floor_category = center_spb_data.pivot_table(index = 'floor_category', values = 'price_sqmeter', aggfunc = ['mean', 'count', 'median'])\n",
    "center_spb_floor_category.columns = ['mean', 'count', 'median']\n",
    "center_spb_floor_category.plot(y = 'median')\n",
    "center_spb_floor_category"
   ]
  },
  {
   "cell_type": "markdown",
   "metadata": {},
   "source": [
    "Особых различий между центром и остальным городом нет, на первом этаже дешевле."
   ]
  },
  {
   "cell_type": "code",
   "execution_count": 36,
   "metadata": {},
   "outputs": [
    {
     "data": {
      "text/plain": [
       "-0.0626591185650816"
      ]
     },
     "execution_count": 36,
     "metadata": {},
     "output_type": "execute_result"
    },
    {
     "data": {
      "image/png": "[encoded data removed]",
      "text/plain": [
       "<Figure size 432x288 with 1 Axes>"
      ]
     },
     "metadata": {
      "needs_background": "light"
     },
     "output_type": "display_data"
    }
   ],
   "source": [
    "#удаленность от центра\n",
    "center_spb_data.plot(kind = 'scatter', y = 'price_sqmeter', x = 'cityCenters_nearest', alpha = 0.3)\n",
    "center_spb_data['cityCenters_nearest'].corr(center_spb_data['price_sqmeter'])"
   ]
  },
  {
   "cell_type": "markdown",
   "metadata": {},
   "source": [
    "Цены равномерно распределены."
   ]
  },
  {
   "cell_type": "code",
   "execution_count": 37,
   "metadata": {},
   "outputs": [
    {
     "data": {
      "text/html": [
       "<div>\n",
       "<style scoped>\n",
       "    .dataframe tbody tr th:only-of-type {\n",
       "        vertical-align: middle;\n",
       "    }\n",
       "\n",
       "    .dataframe tbody tr th {\n",
       "        vertical-align: top;\n",
       "    }\n",
       "\n",
       "    .dataframe thead th {\n",
       "        text-align: right;\n",
       "    }\n",
       "</style>\n",
       "<table border=\"1\" class=\"dataframe\">\n",
       "  <thead>\n",
       "    <tr style=\"text-align: right;\">\n",
       "      <th></th>\n",
       "      <th>mean</th>\n",
       "      <th>count</th>\n",
       "      <th>median</th>\n",
       "    </tr>\n",
       "    <tr>\n",
       "      <th>year</th>\n",
       "      <th></th>\n",
       "      <th></th>\n",
       "      <th></th>\n",
       "    </tr>\n",
       "  </thead>\n",
       "  <tbody>\n",
       "    <tr>\n",
       "      <td>2019</td>\n",
       "      <td>155789.201342</td>\n",
       "      <td>447</td>\n",
       "      <td>133507.0</td>\n",
       "    </tr>\n",
       "    <tr>\n",
       "      <td>2018</td>\n",
       "      <td>138394.185805</td>\n",
       "      <td>1254</td>\n",
       "      <td>124173.5</td>\n",
       "    </tr>\n",
       "    <tr>\n",
       "      <td>2016</td>\n",
       "      <td>143294.809859</td>\n",
       "      <td>568</td>\n",
       "      <td>121289.5</td>\n",
       "    </tr>\n",
       "    <tr>\n",
       "      <td>2015</td>\n",
       "      <td>143737.461972</td>\n",
       "      <td>355</td>\n",
       "      <td>120881.0</td>\n",
       "    </tr>\n",
       "    <tr>\n",
       "      <td>2017</td>\n",
       "      <td>140118.861433</td>\n",
       "      <td>1465</td>\n",
       "      <td>120625.0</td>\n",
       "    </tr>\n",
       "  </tbody>\n",
       "</table>\n",
       "</div>"
      ],
      "text/plain": [
       "               mean  count    median\n",
       "year                                \n",
       "2019  155789.201342    447  133507.0\n",
       "2018  138394.185805   1254  124173.5\n",
       "2016  143294.809859    568  121289.5\n",
       "2015  143737.461972    355  120881.0\n",
       "2017  140118.861433   1465  120625.0"
      ]
     },
     "execution_count": 37,
     "metadata": {},
     "output_type": "execute_result"
    },
    {
     "data": {
      "image/png": "[encoded data removed]",
      "text/plain": [
       "<Figure size 432x288 with 1 Axes>"
      ]
     },
     "metadata": {
      "needs_background": "light"
     },
     "output_type": "display_data"
    }
   ],
   "source": [
    "#дата размещения:год\n",
    "\n",
    "center_spb_year = center_spb_data.pivot_table(index = 'year', values = 'price_sqmeter', aggfunc = ['mean', 'count', 'median'])\n",
    "center_spb_year.columns = ['mean', 'count', 'median']\n",
    "center_spb_year.query('count > 50').plot(y = 'median')\n",
    "\n",
    "center_spb_year.query('count > 50').sort_values('median', ascending = False)\n"
   ]
  },
  {
   "cell_type": "markdown",
   "metadata": {},
   "source": [
    "Не было падений в 14-16 годах, но видно, что в 16-17 годах график пошел на спад."
   ]
  },
  {
   "cell_type": "code",
   "execution_count": 38,
   "metadata": {},
   "outputs": [
    {
     "data": {
      "text/html": [
       "<div>\n",
       "<style scoped>\n",
       "    .dataframe tbody tr th:only-of-type {\n",
       "        vertical-align: middle;\n",
       "    }\n",
       "\n",
       "    .dataframe tbody tr th {\n",
       "        vertical-align: top;\n",
       "    }\n",
       "\n",
       "    .dataframe thead th {\n",
       "        text-align: right;\n",
       "    }\n",
       "</style>\n",
       "<table border=\"1\" class=\"dataframe\">\n",
       "  <thead>\n",
       "    <tr style=\"text-align: right;\">\n",
       "      <th></th>\n",
       "      <th>mean</th>\n",
       "      <th>count</th>\n",
       "      <th>median</th>\n",
       "    </tr>\n",
       "    <tr>\n",
       "      <th>month</th>\n",
       "      <th></th>\n",
       "      <th></th>\n",
       "      <th></th>\n",
       "    </tr>\n",
       "  </thead>\n",
       "  <tbody>\n",
       "    <tr>\n",
       "      <td>3</td>\n",
       "      <td>144346.590389</td>\n",
       "      <td>437</td>\n",
       "      <td>130333.0</td>\n",
       "    </tr>\n",
       "    <tr>\n",
       "      <td>5</td>\n",
       "      <td>137576.859504</td>\n",
       "      <td>242</td>\n",
       "      <td>129042.0</td>\n",
       "    </tr>\n",
       "    <tr>\n",
       "      <td>1</td>\n",
       "      <td>143321.096899</td>\n",
       "      <td>258</td>\n",
       "      <td>128429.5</td>\n",
       "    </tr>\n",
       "    <tr>\n",
       "      <td>4</td>\n",
       "      <td>151645.863753</td>\n",
       "      <td>389</td>\n",
       "      <td>126637.0</td>\n",
       "    </tr>\n",
       "    <tr>\n",
       "      <td>8</td>\n",
       "      <td>142977.163399</td>\n",
       "      <td>306</td>\n",
       "      <td>125598.0</td>\n",
       "    </tr>\n",
       "    <tr>\n",
       "      <td>9</td>\n",
       "      <td>140612.105691</td>\n",
       "      <td>369</td>\n",
       "      <td>122860.0</td>\n",
       "    </tr>\n",
       "    <tr>\n",
       "      <td>11</td>\n",
       "      <td>138954.629353</td>\n",
       "      <td>402</td>\n",
       "      <td>121890.0</td>\n",
       "    </tr>\n",
       "    <tr>\n",
       "      <td>2</td>\n",
       "      <td>141710.897260</td>\n",
       "      <td>438</td>\n",
       "      <td>121285.0</td>\n",
       "    </tr>\n",
       "    <tr>\n",
       "      <td>12</td>\n",
       "      <td>145358.467857</td>\n",
       "      <td>280</td>\n",
       "      <td>121037.0</td>\n",
       "    </tr>\n",
       "    <tr>\n",
       "      <td>7</td>\n",
       "      <td>141849.473054</td>\n",
       "      <td>334</td>\n",
       "      <td>121033.0</td>\n",
       "    </tr>\n",
       "    <tr>\n",
       "      <td>10</td>\n",
       "      <td>136759.871720</td>\n",
       "      <td>343</td>\n",
       "      <td>120800.0</td>\n",
       "    </tr>\n",
       "    <tr>\n",
       "      <td>6</td>\n",
       "      <td>142160.290123</td>\n",
       "      <td>324</td>\n",
       "      <td>119215.0</td>\n",
       "    </tr>\n",
       "  </tbody>\n",
       "</table>\n",
       "</div>"
      ],
      "text/plain": [
       "                mean  count    median\n",
       "month                                \n",
       "3      144346.590389    437  130333.0\n",
       "5      137576.859504    242  129042.0\n",
       "1      143321.096899    258  128429.5\n",
       "4      151645.863753    389  126637.0\n",
       "8      142977.163399    306  125598.0\n",
       "9      140612.105691    369  122860.0\n",
       "11     138954.629353    402  121890.0\n",
       "2      141710.897260    438  121285.0\n",
       "12     145358.467857    280  121037.0\n",
       "7      141849.473054    334  121033.0\n",
       "10     136759.871720    343  120800.0\n",
       "6      142160.290123    324  119215.0"
      ]
     },
     "execution_count": 38,
     "metadata": {},
     "output_type": "execute_result"
    },
    {
     "data": {
      "image/png": "[encoded data removed]",
      "text/plain": [
       "<Figure size 432x288 with 1 Axes>"
      ]
     },
     "metadata": {
      "needs_background": "light"
     },
     "output_type": "display_data"
    }
   ],
   "source": [
    "#дата размещения:месяц\n",
    "center_spb_month = center_spb_data.pivot_table(index = 'month', values = 'price_sqmeter', aggfunc = ['mean', 'count', 'median'])\n",
    "center_spb_month.columns = ['mean', 'count', 'median']\n",
    "center_spb_month.plot(y = 'median')\n",
    "\n",
    "center_spb_month.sort_values('median', ascending = False)"
   ]
  },
  {
   "cell_type": "markdown",
   "metadata": {},
   "source": [
    "Также как и во всем городе: перед наступлением лета и после лета."
   ]
  },
  {
   "cell_type": "code",
   "execution_count": 39,
   "metadata": {},
   "outputs": [
    {
     "data": {
      "text/html": [
       "<div>\n",
       "<style scoped>\n",
       "    .dataframe tbody tr th:only-of-type {\n",
       "        vertical-align: middle;\n",
       "    }\n",
       "\n",
       "    .dataframe tbody tr th {\n",
       "        vertical-align: top;\n",
       "    }\n",
       "\n",
       "    .dataframe thead th {\n",
       "        text-align: right;\n",
       "    }\n",
       "</style>\n",
       "<table border=\"1\" class=\"dataframe\">\n",
       "  <thead>\n",
       "    <tr style=\"text-align: right;\">\n",
       "      <th></th>\n",
       "      <th>mean</th>\n",
       "      <th>count</th>\n",
       "      <th>median</th>\n",
       "    </tr>\n",
       "    <tr>\n",
       "      <th>weekday</th>\n",
       "      <th></th>\n",
       "      <th></th>\n",
       "      <th></th>\n",
       "    </tr>\n",
       "  </thead>\n",
       "  <tbody>\n",
       "    <tr>\n",
       "      <td>6</td>\n",
       "      <td>142793.967347</td>\n",
       "      <td>245</td>\n",
       "      <td>129032.0</td>\n",
       "    </tr>\n",
       "    <tr>\n",
       "      <td>5</td>\n",
       "      <td>152783.792763</td>\n",
       "      <td>304</td>\n",
       "      <td>126930.0</td>\n",
       "    </tr>\n",
       "    <tr>\n",
       "      <td>0</td>\n",
       "      <td>142915.266559</td>\n",
       "      <td>619</td>\n",
       "      <td>125382.0</td>\n",
       "    </tr>\n",
       "    <tr>\n",
       "      <td>2</td>\n",
       "      <td>140467.242254</td>\n",
       "      <td>710</td>\n",
       "      <td>123744.5</td>\n",
       "    </tr>\n",
       "    <tr>\n",
       "      <td>4</td>\n",
       "      <td>140418.401439</td>\n",
       "      <td>695</td>\n",
       "      <td>123584.0</td>\n",
       "    </tr>\n",
       "    <tr>\n",
       "      <td>3</td>\n",
       "      <td>142068.265330</td>\n",
       "      <td>848</td>\n",
       "      <td>122276.5</td>\n",
       "    </tr>\n",
       "    <tr>\n",
       "      <td>1</td>\n",
       "      <td>141599.225392</td>\n",
       "      <td>701</td>\n",
       "      <td>121000.0</td>\n",
       "    </tr>\n",
       "  </tbody>\n",
       "</table>\n",
       "</div>"
      ],
      "text/plain": [
       "                  mean  count    median\n",
       "weekday                                \n",
       "6        142793.967347    245  129032.0\n",
       "5        152783.792763    304  126930.0\n",
       "0        142915.266559    619  125382.0\n",
       "2        140467.242254    710  123744.5\n",
       "4        140418.401439    695  123584.0\n",
       "3        142068.265330    848  122276.5\n",
       "1        141599.225392    701  121000.0"
      ]
     },
     "execution_count": 39,
     "metadata": {},
     "output_type": "execute_result"
    },
    {
     "data": {
      "image/png": "[encoded data removed]",
      "text/plain": [
       "<Figure size 432x288 with 1 Axes>"
      ]
     },
     "metadata": {
      "needs_background": "light"
     },
     "output_type": "display_data"
    }
   ],
   "source": [
    "#дата размещения:день\n",
    "center_spb_weekday= center_spb_data.pivot_table(index = 'weekday', values = 'price_sqmeter', aggfunc = ['mean', 'count', 'median'])\n",
    "center_spb_weekday.columns = ['mean', 'count', 'median']\n",
    "center_spb_weekday.plot(y = 'median')\n",
    "\n",
    "center_spb_weekday.sort_values('median', ascending = False)"
   ]
  },
  {
   "cell_type": "markdown",
   "metadata": {},
   "source": [
    "Здесь уже больше объявлений в выходные дни + понедельник."
   ]
  },
  {
   "cell_type": "markdown",
   "metadata": {},
   "source": [
    "### Шаг 5. Общий вывод\n"
   ]
  },
  {
   "cell_type": "markdown",
   "metadata": {},
   "source": [
    "1. Изначальный архив данных вбирал в себя всю инфоормацию по недвижимости в СПб и ЛО.\n",
    "2. Этот архив был немного изменен и скорректирован для удобного анализа - обработаны пропущенные значения и изменены типы данных, добавлены столбцы с квадратным метром, даты объявлений (дни недели, месяцы, года).\n",
    "3. Были изучены параметры площади, количества комнат, высоты потолков.\n",
    "4. Было вяснено, что объявления закрывают автоматически поэтому существует разница в 15 дней и самым явными явлются 45 и 60 день объявления.\n",
    "5. Традиционно на стоимость жилья влияют: количество комнат, этаж, и удаленность от центра.\n",
    "6. При этом в центре чем меньше комнат, тем дороже, а цены по центру распределены равномерно.\n",
    "7. До 2015 г. был спад на объявления.\n",
    "8. Но с 2015 происходит активный рост объявлений.\n",
    "9. Выявлется сезонная закономерность для центра и остального Санкт-Петербурга: квартиры продают преимущественно перед летним периодом и после (даже с  августа).\n"
   ]
  },
  {
   "cell_type": "markdown",
   "metadata": {},
   "source": [
    "### Рекомендации:\n",
    "1. Улучшить систему маппинга, чтобы названия населенных пунктов не терялись. + Сформировать группы в этих населенных пунктах (По количеству комнат, по средней цене на кв.метр, по расстоянию до СПб и Центра СПБ + Аэропорт, наличие парков и водоемов) - всё это может использоваться в маркетинговых целях.\n",
    "2. Выделить самые просмотраиваемые объявления и ввести систему достоверности, в целях снижения количества мошенников.\n",
    "3. Создать категории \"дешевого\", \"среднего\" и \"дорогого\" жилья - где группировка будет происходит исходя из коэффициента стоимости за кв. метр, локации, логистических удобств, общей площади.\n"
   ]
  }
 ],
 "metadata": {
  "kernelspec": {
   "display_name": "Python 3",
   "language": "python",
   "name": "python3"
  },
  "language_info": {
   "codemirror_mode": {
    "name": "ipython",
    "version": 3
   },
   "file_extension": ".py",
   "mimetype": "text/x-python",
   "name": "python",
   "nbconvert_exporter": "python",
   "pygments_lexer": "ipython3",
   "version": "3.8.8"
  },
  "toc": {
   "base_numbering": 1,
   "nav_menu": {},
   "number_sections": true,
   "sideBar": true,
   "skip_h1_title": false,
   "title_cell": "Table of Contents",
   "title_sidebar": "Contents",
   "toc_cell": false,
   "toc_position": {},
   "toc_section_display": true,
   "toc_window_display": false
  }
 },
 "nbformat": 4,
 "nbformat_minor": 2
}
